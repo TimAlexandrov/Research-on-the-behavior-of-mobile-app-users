{
 "cells": [
  {
   "cell_type": "markdown",
   "metadata": {},
   "source": [
    "# Сборный проект: Исследование поведения пользователей мобильного приложения и анализ A/A/B теста"
   ]
  },
  {
   "cell_type": "markdown",
   "metadata": {},
   "source": [
    "**Описание проекта:** Мы являемся аналитиками в стартапе мобильного приложения по продаже продуктов питания. В первую очередь, нам необходимо понять, как ведут себя пользователи в нашем приложении, а именно: как они доходят до покупки, где и почему пользователи \"застревают\" и как это можно исправить, изучая воронку продаж попробуем ответить на эти вопросы. Во второй части работы исследуем результаты A/A/B теста. Тестирование проходило с целью изучения лучшего шрифта, эксперимент проходил для трёх групп - две контрольные и одна экспериментальная. \n",
    "\n",
    "**Цель работы:**\n",
    "- провести анализ воронки продаж, изучить проблемные этапы;\n",
    "- исследовать результаты A/A/B теста, определить будет ли уменьшение в кол-ве активных пользователей при изменени шрифта и дальнейшие действия с экспериментом.\n",
    "\n",
    "**План работы:** \n",
    "1) Входными данными в данной работе будет служить датасет с наименованием события, номером пользователя и номером его группы эксперимента. Сперва откроем csv файл, изучим общую информацию. \n",
    "\n",
    "2) Далее подготовим данные для дальнейшего анализа: по возможности уберём пропуски, проверим на дубликаты, корректность типов данных, если потребуется сменим названия столбцов, возможно добавим дополнительные столбцы для удобства. \n",
    "\n",
    "3) Приступая к анализу, в первую очередь изучим общую информацию по пользователям, событиям и времени: найдем какие бывают логи, пользователей в логе, сколько событий приходится на пользователя и т.д. \n",
    "\n",
    "4) После же нам предстоит изучить воронку продаж: взглянем какие и сколько событий встречаются в логах, просмотрим какие события в основном совершают пользователи, выдвенем предположения о порядке событий, посчитаем общую конверсию и конверсию в шаг, узнаем где больше всего теряется пользователей. \n",
    "\n",
    "5) Кульминацией нашей работы станет анализ результатов A/A/B тестирования: изучим общую информацию по пользователям групп, проверим есть ли статистическое различие между контрольными группами. Проверим по событиям есть ли статистические различия между долями пользователей этих событий по группам и выясним будут ли изменения в объеме активных пользователей при изменении шрифта на сайте.\n",
    "\n",
    "6) Подведем итоги работы, дадим общую характеристику проделанной работы, а также дальнейшие рекоммендации."
   ]
  },
  {
   "cell_type": "markdown",
   "metadata": {},
   "source": [
    "## Знакомство с данными"
   ]
  },
  {
   "cell_type": "code",
   "execution_count": 1,
   "metadata": {},
   "outputs": [],
   "source": [
    "import pandas as pd\n",
    "import numpy as np\n",
    "from scipy import stats\n",
    "from matplotlib import pyplot as plt\n",
    "import seaborn as sns\n",
    "import datetime as dt\n",
    "import math as mth"
   ]
  },
  {
   "cell_type": "markdown",
   "metadata": {},
   "source": [
    "Первым делом откроем файл, взглянем на первые и последние строчки."
   ]
  },
  {
   "cell_type": "code",
   "execution_count": 2,
   "metadata": {},
   "outputs": [
    {
     "data": {
      "text/html": [
       "<div>\n",
       "<style scoped>\n",
       "    .dataframe tbody tr th:only-of-type {\n",
       "        vertical-align: middle;\n",
       "    }\n",
       "\n",
       "    .dataframe tbody tr th {\n",
       "        vertical-align: top;\n",
       "    }\n",
       "\n",
       "    .dataframe thead th {\n",
       "        text-align: right;\n",
       "    }\n",
       "</style>\n",
       "<table border=\"1\" class=\"dataframe\">\n",
       "  <thead>\n",
       "    <tr style=\"text-align: right;\">\n",
       "      <th></th>\n",
       "      <th>EventName</th>\n",
       "      <th>DeviceIDHash</th>\n",
       "      <th>EventTimestamp</th>\n",
       "      <th>ExpId</th>\n",
       "    </tr>\n",
       "  </thead>\n",
       "  <tbody>\n",
       "    <tr>\n",
       "      <th>0</th>\n",
       "      <td>MainScreenAppear</td>\n",
       "      <td>4575588528974610257</td>\n",
       "      <td>1564029816</td>\n",
       "      <td>246</td>\n",
       "    </tr>\n",
       "    <tr>\n",
       "      <th>1</th>\n",
       "      <td>MainScreenAppear</td>\n",
       "      <td>7416695313311560658</td>\n",
       "      <td>1564053102</td>\n",
       "      <td>246</td>\n",
       "    </tr>\n",
       "    <tr>\n",
       "      <th>2</th>\n",
       "      <td>PaymentScreenSuccessful</td>\n",
       "      <td>3518123091307005509</td>\n",
       "      <td>1564054127</td>\n",
       "      <td>248</td>\n",
       "    </tr>\n",
       "    <tr>\n",
       "      <th>3</th>\n",
       "      <td>CartScreenAppear</td>\n",
       "      <td>3518123091307005509</td>\n",
       "      <td>1564054127</td>\n",
       "      <td>248</td>\n",
       "    </tr>\n",
       "    <tr>\n",
       "      <th>4</th>\n",
       "      <td>PaymentScreenSuccessful</td>\n",
       "      <td>6217807653094995999</td>\n",
       "      <td>1564055322</td>\n",
       "      <td>248</td>\n",
       "    </tr>\n",
       "  </tbody>\n",
       "</table>\n",
       "</div>"
      ],
      "text/plain": [
       "                 EventName         DeviceIDHash  EventTimestamp  ExpId\n",
       "0         MainScreenAppear  4575588528974610257      1564029816    246\n",
       "1         MainScreenAppear  7416695313311560658      1564053102    246\n",
       "2  PaymentScreenSuccessful  3518123091307005509      1564054127    248\n",
       "3         CartScreenAppear  3518123091307005509      1564054127    248\n",
       "4  PaymentScreenSuccessful  6217807653094995999      1564055322    248"
      ]
     },
     "metadata": {},
     "output_type": "display_data"
    },
    {
     "data": {
      "text/html": [
       "<div>\n",
       "<style scoped>\n",
       "    .dataframe tbody tr th:only-of-type {\n",
       "        vertical-align: middle;\n",
       "    }\n",
       "\n",
       "    .dataframe tbody tr th {\n",
       "        vertical-align: top;\n",
       "    }\n",
       "\n",
       "    .dataframe thead th {\n",
       "        text-align: right;\n",
       "    }\n",
       "</style>\n",
       "<table border=\"1\" class=\"dataframe\">\n",
       "  <thead>\n",
       "    <tr style=\"text-align: right;\">\n",
       "      <th></th>\n",
       "      <th>EventName</th>\n",
       "      <th>DeviceIDHash</th>\n",
       "      <th>EventTimestamp</th>\n",
       "      <th>ExpId</th>\n",
       "    </tr>\n",
       "  </thead>\n",
       "  <tbody>\n",
       "    <tr>\n",
       "      <th>244121</th>\n",
       "      <td>MainScreenAppear</td>\n",
       "      <td>4599628364049201812</td>\n",
       "      <td>1565212345</td>\n",
       "      <td>247</td>\n",
       "    </tr>\n",
       "    <tr>\n",
       "      <th>244122</th>\n",
       "      <td>MainScreenAppear</td>\n",
       "      <td>5849806612437486590</td>\n",
       "      <td>1565212439</td>\n",
       "      <td>246</td>\n",
       "    </tr>\n",
       "    <tr>\n",
       "      <th>244123</th>\n",
       "      <td>MainScreenAppear</td>\n",
       "      <td>5746969938801999050</td>\n",
       "      <td>1565212483</td>\n",
       "      <td>246</td>\n",
       "    </tr>\n",
       "    <tr>\n",
       "      <th>244124</th>\n",
       "      <td>MainScreenAppear</td>\n",
       "      <td>5746969938801999050</td>\n",
       "      <td>1565212498</td>\n",
       "      <td>246</td>\n",
       "    </tr>\n",
       "    <tr>\n",
       "      <th>244125</th>\n",
       "      <td>OffersScreenAppear</td>\n",
       "      <td>5746969938801999050</td>\n",
       "      <td>1565212517</td>\n",
       "      <td>246</td>\n",
       "    </tr>\n",
       "  </tbody>\n",
       "</table>\n",
       "</div>"
      ],
      "text/plain": [
       "                 EventName         DeviceIDHash  EventTimestamp  ExpId\n",
       "244121    MainScreenAppear  4599628364049201812      1565212345    247\n",
       "244122    MainScreenAppear  5849806612437486590      1565212439    246\n",
       "244123    MainScreenAppear  5746969938801999050      1565212483    246\n",
       "244124    MainScreenAppear  5746969938801999050      1565212498    246\n",
       "244125  OffersScreenAppear  5746969938801999050      1565212517    246"
      ]
     },
     "metadata": {},
     "output_type": "display_data"
    }
   ],
   "source": [
    "data = pd.read_csv('D:\\Python\\logs_exp.csv', sep = '\\t')\n",
    "display(data.head(5), data.tail(5))"
   ]
  },
  {
   "cell_type": "code",
   "execution_count": 3,
   "metadata": {},
   "outputs": [
    {
     "name": "stdout",
     "output_type": "stream",
     "text": [
      "<class 'pandas.core.frame.DataFrame'>\n",
      "RangeIndex: 244126 entries, 0 to 244125\n",
      "Data columns (total 4 columns):\n",
      " #   Column          Non-Null Count   Dtype \n",
      "---  ------          --------------   ----- \n",
      " 0   EventName       244126 non-null  object\n",
      " 1   DeviceIDHash    244126 non-null  int64 \n",
      " 2   EventTimestamp  244126 non-null  int64 \n",
      " 3   ExpId           244126 non-null  int64 \n",
      "dtypes: int64(3), object(1)\n",
      "memory usage: 7.5+ MB\n"
     ]
    }
   ],
   "source": [
    "data.info()"
   ]
  },
  {
   "cell_type": "markdown",
   "metadata": {},
   "source": [
    "**В нашем распоряжении датасет с 4 столбцами: название события, уникальный номер пользователя, дата и время события и номер экспериментальной группы. Сразу можно заметить, что дата и время не соответсвует корректному типу данных. Также для удобства можно сменить название столбца \"DeviceIDHash\" на \"userid\" и \"EventTimestamp\" на \"date_time\" или \"time\", ExpId на \"group_id\" и  привести названия всех столбцов к нижнему регистру.**"
   ]
  },
  {
   "cell_type": "markdown",
   "metadata": {},
   "source": [
    "## Предобработка данных"
   ]
  },
  {
   "cell_type": "markdown",
   "metadata": {},
   "source": [
    "Начнем подготовку данных с изменения названия наших столбиков и корректировки типы данных."
   ]
  },
  {
   "cell_type": "code",
   "execution_count": 4,
   "metadata": {},
   "outputs": [
    {
     "data": {
      "text/html": [
       "<div>\n",
       "<style scoped>\n",
       "    .dataframe tbody tr th:only-of-type {\n",
       "        vertical-align: middle;\n",
       "    }\n",
       "\n",
       "    .dataframe tbody tr th {\n",
       "        vertical-align: top;\n",
       "    }\n",
       "\n",
       "    .dataframe thead th {\n",
       "        text-align: right;\n",
       "    }\n",
       "</style>\n",
       "<table border=\"1\" class=\"dataframe\">\n",
       "  <thead>\n",
       "    <tr style=\"text-align: right;\">\n",
       "      <th></th>\n",
       "      <th>eventname</th>\n",
       "      <th>deviceidhash</th>\n",
       "      <th>eventtimestamp</th>\n",
       "      <th>expid</th>\n",
       "    </tr>\n",
       "  </thead>\n",
       "  <tbody>\n",
       "    <tr>\n",
       "      <th>0</th>\n",
       "      <td>MainScreenAppear</td>\n",
       "      <td>4575588528974610257</td>\n",
       "      <td>1564029816</td>\n",
       "      <td>246</td>\n",
       "    </tr>\n",
       "    <tr>\n",
       "      <th>1</th>\n",
       "      <td>MainScreenAppear</td>\n",
       "      <td>7416695313311560658</td>\n",
       "      <td>1564053102</td>\n",
       "      <td>246</td>\n",
       "    </tr>\n",
       "    <tr>\n",
       "      <th>2</th>\n",
       "      <td>PaymentScreenSuccessful</td>\n",
       "      <td>3518123091307005509</td>\n",
       "      <td>1564054127</td>\n",
       "      <td>248</td>\n",
       "    </tr>\n",
       "    <tr>\n",
       "      <th>3</th>\n",
       "      <td>CartScreenAppear</td>\n",
       "      <td>3518123091307005509</td>\n",
       "      <td>1564054127</td>\n",
       "      <td>248</td>\n",
       "    </tr>\n",
       "    <tr>\n",
       "      <th>4</th>\n",
       "      <td>PaymentScreenSuccessful</td>\n",
       "      <td>6217807653094995999</td>\n",
       "      <td>1564055322</td>\n",
       "      <td>248</td>\n",
       "    </tr>\n",
       "  </tbody>\n",
       "</table>\n",
       "</div>"
      ],
      "text/plain": [
       "                 eventname         deviceidhash  eventtimestamp  expid\n",
       "0         MainScreenAppear  4575588528974610257      1564029816    246\n",
       "1         MainScreenAppear  7416695313311560658      1564053102    246\n",
       "2  PaymentScreenSuccessful  3518123091307005509      1564054127    248\n",
       "3         CartScreenAppear  3518123091307005509      1564054127    248\n",
       "4  PaymentScreenSuccessful  6217807653094995999      1564055322    248"
      ]
     },
     "execution_count": 4,
     "metadata": {},
     "output_type": "execute_result"
    }
   ],
   "source": [
    "data.columns = data.columns.str.lower()\n",
    "data.head(5)"
   ]
  },
  {
   "cell_type": "code",
   "execution_count": 5,
   "metadata": {},
   "outputs": [
    {
     "data": {
      "text/html": [
       "<div>\n",
       "<style scoped>\n",
       "    .dataframe tbody tr th:only-of-type {\n",
       "        vertical-align: middle;\n",
       "    }\n",
       "\n",
       "    .dataframe tbody tr th {\n",
       "        vertical-align: top;\n",
       "    }\n",
       "\n",
       "    .dataframe thead th {\n",
       "        text-align: right;\n",
       "    }\n",
       "</style>\n",
       "<table border=\"1\" class=\"dataframe\">\n",
       "  <thead>\n",
       "    <tr style=\"text-align: right;\">\n",
       "      <th></th>\n",
       "      <th>eventname</th>\n",
       "      <th>user_id</th>\n",
       "      <th>date_time</th>\n",
       "      <th>group_id</th>\n",
       "    </tr>\n",
       "  </thead>\n",
       "  <tbody>\n",
       "    <tr>\n",
       "      <th>0</th>\n",
       "      <td>MainScreenAppear</td>\n",
       "      <td>4575588528974610257</td>\n",
       "      <td>1564029816</td>\n",
       "      <td>246</td>\n",
       "    </tr>\n",
       "    <tr>\n",
       "      <th>1</th>\n",
       "      <td>MainScreenAppear</td>\n",
       "      <td>7416695313311560658</td>\n",
       "      <td>1564053102</td>\n",
       "      <td>246</td>\n",
       "    </tr>\n",
       "    <tr>\n",
       "      <th>2</th>\n",
       "      <td>PaymentScreenSuccessful</td>\n",
       "      <td>3518123091307005509</td>\n",
       "      <td>1564054127</td>\n",
       "      <td>248</td>\n",
       "    </tr>\n",
       "    <tr>\n",
       "      <th>3</th>\n",
       "      <td>CartScreenAppear</td>\n",
       "      <td>3518123091307005509</td>\n",
       "      <td>1564054127</td>\n",
       "      <td>248</td>\n",
       "    </tr>\n",
       "    <tr>\n",
       "      <th>4</th>\n",
       "      <td>PaymentScreenSuccessful</td>\n",
       "      <td>6217807653094995999</td>\n",
       "      <td>1564055322</td>\n",
       "      <td>248</td>\n",
       "    </tr>\n",
       "  </tbody>\n",
       "</table>\n",
       "</div>"
      ],
      "text/plain": [
       "                 eventname              user_id   date_time  group_id\n",
       "0         MainScreenAppear  4575588528974610257  1564029816       246\n",
       "1         MainScreenAppear  7416695313311560658  1564053102       246\n",
       "2  PaymentScreenSuccessful  3518123091307005509  1564054127       248\n",
       "3         CartScreenAppear  3518123091307005509  1564054127       248\n",
       "4  PaymentScreenSuccessful  6217807653094995999  1564055322       248"
      ]
     },
     "execution_count": 5,
     "metadata": {},
     "output_type": "execute_result"
    }
   ],
   "source": [
    "data.rename(columns={'deviceidhash':'user_id', 'eventtimestamp':'date_time', 'expid':'group_id'}, inplace=True)\n",
    "data.head(5)"
   ]
  },
  {
   "cell_type": "code",
   "execution_count": 6,
   "metadata": {},
   "outputs": [
    {
     "data": {
      "text/html": [
       "<div>\n",
       "<style scoped>\n",
       "    .dataframe tbody tr th:only-of-type {\n",
       "        vertical-align: middle;\n",
       "    }\n",
       "\n",
       "    .dataframe tbody tr th {\n",
       "        vertical-align: top;\n",
       "    }\n",
       "\n",
       "    .dataframe thead th {\n",
       "        text-align: right;\n",
       "    }\n",
       "</style>\n",
       "<table border=\"1\" class=\"dataframe\">\n",
       "  <thead>\n",
       "    <tr style=\"text-align: right;\">\n",
       "      <th></th>\n",
       "      <th>eventname</th>\n",
       "      <th>user_id</th>\n",
       "      <th>date_time</th>\n",
       "      <th>group_id</th>\n",
       "    </tr>\n",
       "  </thead>\n",
       "  <tbody>\n",
       "    <tr>\n",
       "      <th>0</th>\n",
       "      <td>MainScreenAppear</td>\n",
       "      <td>4575588528974610257</td>\n",
       "      <td>2019-07-25 04:43:36</td>\n",
       "      <td>246</td>\n",
       "    </tr>\n",
       "    <tr>\n",
       "      <th>1</th>\n",
       "      <td>MainScreenAppear</td>\n",
       "      <td>7416695313311560658</td>\n",
       "      <td>2019-07-25 11:11:42</td>\n",
       "      <td>246</td>\n",
       "    </tr>\n",
       "    <tr>\n",
       "      <th>2</th>\n",
       "      <td>PaymentScreenSuccessful</td>\n",
       "      <td>3518123091307005509</td>\n",
       "      <td>2019-07-25 11:28:47</td>\n",
       "      <td>248</td>\n",
       "    </tr>\n",
       "    <tr>\n",
       "      <th>3</th>\n",
       "      <td>CartScreenAppear</td>\n",
       "      <td>3518123091307005509</td>\n",
       "      <td>2019-07-25 11:28:47</td>\n",
       "      <td>248</td>\n",
       "    </tr>\n",
       "    <tr>\n",
       "      <th>4</th>\n",
       "      <td>PaymentScreenSuccessful</td>\n",
       "      <td>6217807653094995999</td>\n",
       "      <td>2019-07-25 11:48:42</td>\n",
       "      <td>248</td>\n",
       "    </tr>\n",
       "  </tbody>\n",
       "</table>\n",
       "</div>"
      ],
      "text/plain": [
       "                 eventname              user_id           date_time  group_id\n",
       "0         MainScreenAppear  4575588528974610257 2019-07-25 04:43:36       246\n",
       "1         MainScreenAppear  7416695313311560658 2019-07-25 11:11:42       246\n",
       "2  PaymentScreenSuccessful  3518123091307005509 2019-07-25 11:28:47       248\n",
       "3         CartScreenAppear  3518123091307005509 2019-07-25 11:28:47       248\n",
       "4  PaymentScreenSuccessful  6217807653094995999 2019-07-25 11:48:42       248"
      ]
     },
     "execution_count": 6,
     "metadata": {},
     "output_type": "execute_result"
    }
   ],
   "source": [
    "data['date_time'] = pd.to_datetime(data['date_time'], unit='s')\n",
    "data.head(5)"
   ]
  },
  {
   "cell_type": "markdown",
   "metadata": {},
   "source": [
    "Далее добавим столбик, где будет исключительно дата."
   ]
  },
  {
   "cell_type": "code",
   "execution_count": 7,
   "metadata": {},
   "outputs": [
    {
     "data": {
      "text/html": [
       "<div>\n",
       "<style scoped>\n",
       "    .dataframe tbody tr th:only-of-type {\n",
       "        vertical-align: middle;\n",
       "    }\n",
       "\n",
       "    .dataframe tbody tr th {\n",
       "        vertical-align: top;\n",
       "    }\n",
       "\n",
       "    .dataframe thead th {\n",
       "        text-align: right;\n",
       "    }\n",
       "</style>\n",
       "<table border=\"1\" class=\"dataframe\">\n",
       "  <thead>\n",
       "    <tr style=\"text-align: right;\">\n",
       "      <th></th>\n",
       "      <th>eventname</th>\n",
       "      <th>user_id</th>\n",
       "      <th>date_time</th>\n",
       "      <th>group_id</th>\n",
       "      <th>date</th>\n",
       "    </tr>\n",
       "  </thead>\n",
       "  <tbody>\n",
       "    <tr>\n",
       "      <th>0</th>\n",
       "      <td>MainScreenAppear</td>\n",
       "      <td>4575588528974610257</td>\n",
       "      <td>2019-07-25 04:43:36</td>\n",
       "      <td>246</td>\n",
       "      <td>2019-07-25</td>\n",
       "    </tr>\n",
       "    <tr>\n",
       "      <th>1</th>\n",
       "      <td>MainScreenAppear</td>\n",
       "      <td>7416695313311560658</td>\n",
       "      <td>2019-07-25 11:11:42</td>\n",
       "      <td>246</td>\n",
       "      <td>2019-07-25</td>\n",
       "    </tr>\n",
       "    <tr>\n",
       "      <th>2</th>\n",
       "      <td>PaymentScreenSuccessful</td>\n",
       "      <td>3518123091307005509</td>\n",
       "      <td>2019-07-25 11:28:47</td>\n",
       "      <td>248</td>\n",
       "      <td>2019-07-25</td>\n",
       "    </tr>\n",
       "    <tr>\n",
       "      <th>3</th>\n",
       "      <td>CartScreenAppear</td>\n",
       "      <td>3518123091307005509</td>\n",
       "      <td>2019-07-25 11:28:47</td>\n",
       "      <td>248</td>\n",
       "      <td>2019-07-25</td>\n",
       "    </tr>\n",
       "    <tr>\n",
       "      <th>4</th>\n",
       "      <td>PaymentScreenSuccessful</td>\n",
       "      <td>6217807653094995999</td>\n",
       "      <td>2019-07-25 11:48:42</td>\n",
       "      <td>248</td>\n",
       "      <td>2019-07-25</td>\n",
       "    </tr>\n",
       "  </tbody>\n",
       "</table>\n",
       "</div>"
      ],
      "text/plain": [
       "                 eventname              user_id           date_time  group_id  \\\n",
       "0         MainScreenAppear  4575588528974610257 2019-07-25 04:43:36       246   \n",
       "1         MainScreenAppear  7416695313311560658 2019-07-25 11:11:42       246   \n",
       "2  PaymentScreenSuccessful  3518123091307005509 2019-07-25 11:28:47       248   \n",
       "3         CartScreenAppear  3518123091307005509 2019-07-25 11:28:47       248   \n",
       "4  PaymentScreenSuccessful  6217807653094995999 2019-07-25 11:48:42       248   \n",
       "\n",
       "         date  \n",
       "0  2019-07-25  \n",
       "1  2019-07-25  \n",
       "2  2019-07-25  \n",
       "3  2019-07-25  \n",
       "4  2019-07-25  "
      ]
     },
     "execution_count": 7,
     "metadata": {},
     "output_type": "execute_result"
    }
   ],
   "source": [
    "data['date'] = data['date_time'].dt.strftime('%Y-%m-%d')\n",
    "data.head(5)"
   ]
  },
  {
   "cell_type": "markdown",
   "metadata": {},
   "source": [
    "Проверим данные на кол-во пропусков."
   ]
  },
  {
   "cell_type": "code",
   "execution_count": 8,
   "metadata": {},
   "outputs": [
    {
     "data": {
      "text/plain": [
       "eventname    0\n",
       "user_id      0\n",
       "date_time    0\n",
       "group_id     0\n",
       "date         0\n",
       "dtype: int64"
      ]
     },
     "execution_count": 8,
     "metadata": {},
     "output_type": "execute_result"
    }
   ],
   "source": [
    "data.isna().sum()"
   ]
  },
  {
   "cell_type": "markdown",
   "metadata": {},
   "source": [
    "Проверим кол-во дубликатов. При наличии удалим задвоенные данные."
   ]
  },
  {
   "cell_type": "code",
   "execution_count": 9,
   "metadata": {},
   "outputs": [
    {
     "data": {
      "text/plain": [
       "413"
      ]
     },
     "execution_count": 9,
     "metadata": {},
     "output_type": "execute_result"
    }
   ],
   "source": [
    "data.duplicated().sum()"
   ]
  },
  {
   "cell_type": "code",
   "execution_count": 10,
   "metadata": {},
   "outputs": [
    {
     "name": "stdout",
     "output_type": "stream",
     "text": [
      "Доля дубликатов в основной таблице: 0.17%\n"
     ]
    }
   ],
   "source": [
    "print(f'Доля дубликатов в основной таблице: {round((data.duplicated().sum() / data.eventname.count()) * 100 ,2)}%')"
   ]
  },
  {
   "cell_type": "markdown",
   "metadata": {},
   "source": [
    "Доля дубликатов в основной таблице составляет менее 1%, спокойно убираем их."
   ]
  },
  {
   "cell_type": "code",
   "execution_count": 11,
   "metadata": {},
   "outputs": [],
   "source": [
    "data.drop_duplicates(inplace=True)"
   ]
  },
  {
   "cell_type": "code",
   "execution_count": 12,
   "metadata": {},
   "outputs": [
    {
     "name": "stdout",
     "output_type": "stream",
     "text": [
      "<class 'pandas.core.frame.DataFrame'>\n",
      "Index: 243713 entries, 0 to 244125\n",
      "Data columns (total 5 columns):\n",
      " #   Column     Non-Null Count   Dtype         \n",
      "---  ------     --------------   -----         \n",
      " 0   eventname  243713 non-null  object        \n",
      " 1   user_id    243713 non-null  int64         \n",
      " 2   date_time  243713 non-null  datetime64[ns]\n",
      " 3   group_id   243713 non-null  int64         \n",
      " 4   date       243713 non-null  object        \n",
      "dtypes: datetime64[ns](1), int64(2), object(2)\n",
      "memory usage: 11.2+ MB\n"
     ]
    }
   ],
   "source": [
    "data.info()"
   ]
  },
  {
   "cell_type": "code",
   "execution_count": 13,
   "metadata": {},
   "outputs": [
    {
     "data": {
      "text/plain": [
       "244126"
      ]
     },
     "execution_count": 13,
     "metadata": {},
     "output_type": "execute_result"
    }
   ],
   "source": [
    "243713 + 413 #Проверка кол-ва строк до и после"
   ]
  },
  {
   "cell_type": "markdown",
   "metadata": {},
   "source": [
    "Проверим нет ли неявных дубликатов в eventname."
   ]
  },
  {
   "cell_type": "code",
   "execution_count": 14,
   "metadata": {},
   "outputs": [
    {
     "data": {
      "text/plain": [
       "array(['MainScreenAppear', 'PaymentScreenSuccessful', 'CartScreenAppear',\n",
       "       'OffersScreenAppear', 'Tutorial'], dtype=object)"
      ]
     },
     "execution_count": 14,
     "metadata": {},
     "output_type": "execute_result"
    }
   ],
   "source": [
    "data['eventname'].unique()"
   ]
  },
  {
   "cell_type": "markdown",
   "metadata": {},
   "source": [
    "Проверим нет ли неявных дубликатов в group_id."
   ]
  },
  {
   "cell_type": "code",
   "execution_count": 15,
   "metadata": {},
   "outputs": [
    {
     "data": {
      "text/plain": [
       "array([246, 248, 247], dtype=int64)"
      ]
     },
     "execution_count": 15,
     "metadata": {},
     "output_type": "execute_result"
    }
   ],
   "source": [
    "data['group_id'].unique()"
   ]
  },
  {
   "cell_type": "markdown",
   "metadata": {},
   "source": [
    "Также проверим нет ли пользователей, которые нах-ся сразу в нескольких группах тестирования."
   ]
  },
  {
   "cell_type": "code",
   "execution_count": 16,
   "metadata": {},
   "outputs": [
    {
     "data": {
      "text/html": [
       "<div>\n",
       "<style scoped>\n",
       "    .dataframe tbody tr th:only-of-type {\n",
       "        vertical-align: middle;\n",
       "    }\n",
       "\n",
       "    .dataframe tbody tr th {\n",
       "        vertical-align: top;\n",
       "    }\n",
       "\n",
       "    .dataframe thead th {\n",
       "        text-align: right;\n",
       "    }\n",
       "</style>\n",
       "<table border=\"1\" class=\"dataframe\">\n",
       "  <thead>\n",
       "    <tr style=\"text-align: right;\">\n",
       "      <th></th>\n",
       "      <th>group_id</th>\n",
       "    </tr>\n",
       "    <tr>\n",
       "      <th>user_id</th>\n",
       "      <th></th>\n",
       "    </tr>\n",
       "  </thead>\n",
       "  <tbody>\n",
       "    <tr>\n",
       "      <th>6888746892508752</th>\n",
       "      <td>1</td>\n",
       "    </tr>\n",
       "    <tr>\n",
       "      <th>6216080220799726690</th>\n",
       "      <td>1</td>\n",
       "    </tr>\n",
       "    <tr>\n",
       "      <th>6215559225876063378</th>\n",
       "      <td>1</td>\n",
       "    </tr>\n",
       "    <tr>\n",
       "      <th>6215162890135937308</th>\n",
       "      <td>1</td>\n",
       "    </tr>\n",
       "    <tr>\n",
       "      <th>6213626876710715478</th>\n",
       "      <td>1</td>\n",
       "    </tr>\n",
       "    <tr>\n",
       "      <th>...</th>\n",
       "      <td>...</td>\n",
       "    </tr>\n",
       "    <tr>\n",
       "      <th>3170212200647575044</th>\n",
       "      <td>1</td>\n",
       "    </tr>\n",
       "    <tr>\n",
       "      <th>3167974726645136146</th>\n",
       "      <td>1</td>\n",
       "    </tr>\n",
       "    <tr>\n",
       "      <th>3167390091686880227</th>\n",
       "      <td>1</td>\n",
       "    </tr>\n",
       "    <tr>\n",
       "      <th>3184294769293286652</th>\n",
       "      <td>1</td>\n",
       "    </tr>\n",
       "    <tr>\n",
       "      <th>9222603179720523844</th>\n",
       "      <td>1</td>\n",
       "    </tr>\n",
       "  </tbody>\n",
       "</table>\n",
       "<p>7551 rows × 1 columns</p>\n",
       "</div>"
      ],
      "text/plain": [
       "                     group_id\n",
       "user_id                      \n",
       "6888746892508752            1\n",
       "6216080220799726690         1\n",
       "6215559225876063378         1\n",
       "6215162890135937308         1\n",
       "6213626876710715478         1\n",
       "...                       ...\n",
       "3170212200647575044         1\n",
       "3167974726645136146         1\n",
       "3167390091686880227         1\n",
       "3184294769293286652         1\n",
       "9222603179720523844         1\n",
       "\n",
       "[7551 rows x 1 columns]"
      ]
     },
     "execution_count": 16,
     "metadata": {},
     "output_type": "execute_result"
    }
   ],
   "source": [
    "data.groupby('user_id').agg({'group_id':'nunique'}).sort_values('group_id', ascending=True)"
   ]
  },
  {
   "cell_type": "markdown",
   "metadata": {},
   "source": [
    "\n",
    "**По итогам предобработки:**\n",
    "- Скорректировали названия столбцов и привели к нижнему регистру;\n",
    "- Изменили тип данных у столбца с датой и временем и добавили отдельный столбец с датой;\n",
    "- Пропусков в исходном датафрейме не оказалось;\n",
    "- Убрали 443 дубликата;\n",
    "- Проверили все ли пользователи имеют только одну группу тестирования."
   ]
  },
  {
   "cell_type": "markdown",
   "metadata": {},
   "source": [
    "## Общая информация о логе"
   ]
  },
  {
   "cell_type": "markdown",
   "metadata": {},
   "source": [
    "Прежде чем приступить к анализу воронки, сперва изучим общую информацию о логе. Начнем с пользователей и событий."
   ]
  },
  {
   "cell_type": "code",
   "execution_count": 17,
   "metadata": {},
   "outputs": [
    {
     "name": "stdout",
     "output_type": "stream",
     "text": [
      "Уникальные события в логе:['MainScreenAppear' 'PaymentScreenSuccessful' 'CartScreenAppear'\n",
      " 'OffersScreenAppear' 'Tutorial']\n",
      "Общее кол-во событий: 243713\n",
      "Кол-во уникальный пользователей: 7551\n"
     ]
    }
   ],
   "source": [
    "print(f'Уникальные события в логе:{data.eventname.unique()}\\nОбщее кол-во событий: {data.user_id.count()}\\nКол-во уникальный пользователей: {data.user_id.nunique()}')"
   ]
  },
  {
   "cell_type": "markdown",
   "metadata": {},
   "source": [
    "Прежде чем идти дальше, предлагаю дать краткое поснение к событиям в приложении:\n",
    "- MainScreenAppear: Переход на страницу главного меню;\n",
    "- PaymentScreenSuccessful: Переход на экран успешной оплаты покупки;\n",
    "- CartScreenAppear: Переход на экран просмотра корзины;\n",
    "- OffersScreenAppear: Переход на страницу с карточкой товара;\n",
    "- Tutorial: Экран обучения."
   ]
  },
  {
   "cell_type": "markdown",
   "metadata": {},
   "source": [
    "Далее найдем среднее кол-во событий в логе, которое приходится на пользователя."
   ]
  },
  {
   "cell_type": "code",
   "execution_count": 18,
   "metadata": {},
   "outputs": [
    {
     "data": {
      "text/html": [
       "<div>\n",
       "<style scoped>\n",
       "    .dataframe tbody tr th:only-of-type {\n",
       "        vertical-align: middle;\n",
       "    }\n",
       "\n",
       "    .dataframe tbody tr th {\n",
       "        vertical-align: top;\n",
       "    }\n",
       "\n",
       "    .dataframe thead th {\n",
       "        text-align: right;\n",
       "    }\n",
       "</style>\n",
       "<table border=\"1\" class=\"dataframe\">\n",
       "  <thead>\n",
       "    <tr style=\"text-align: right;\">\n",
       "      <th></th>\n",
       "      <th>eventname</th>\n",
       "    </tr>\n",
       "  </thead>\n",
       "  <tbody>\n",
       "    <tr>\n",
       "      <th>count</th>\n",
       "      <td>7551.000000</td>\n",
       "    </tr>\n",
       "    <tr>\n",
       "      <th>mean</th>\n",
       "      <td>32.275593</td>\n",
       "    </tr>\n",
       "    <tr>\n",
       "      <th>std</th>\n",
       "      <td>65.154219</td>\n",
       "    </tr>\n",
       "    <tr>\n",
       "      <th>min</th>\n",
       "      <td>1.000000</td>\n",
       "    </tr>\n",
       "    <tr>\n",
       "      <th>25%</th>\n",
       "      <td>9.000000</td>\n",
       "    </tr>\n",
       "    <tr>\n",
       "      <th>50%</th>\n",
       "      <td>20.000000</td>\n",
       "    </tr>\n",
       "    <tr>\n",
       "      <th>75%</th>\n",
       "      <td>37.000000</td>\n",
       "    </tr>\n",
       "    <tr>\n",
       "      <th>max</th>\n",
       "      <td>2307.000000</td>\n",
       "    </tr>\n",
       "  </tbody>\n",
       "</table>\n",
       "</div>"
      ],
      "text/plain": [
       "         eventname\n",
       "count  7551.000000\n",
       "mean     32.275593\n",
       "std      65.154219\n",
       "min       1.000000\n",
       "25%       9.000000\n",
       "50%      20.000000\n",
       "75%      37.000000\n",
       "max    2307.000000"
      ]
     },
     "execution_count": 18,
     "metadata": {},
     "output_type": "execute_result"
    }
   ],
   "source": [
    "data.groupby('user_id').agg({'eventname':'count'}).describe()"
   ]
  },
  {
   "cell_type": "code",
   "execution_count": 19,
   "metadata": {},
   "outputs": [
    {
     "data": {
      "image/png": "[encoded data removed]",
      "text/plain": [
       "<Figure size 1000x600 with 1 Axes>"
      ]
     },
     "metadata": {},
     "output_type": "display_data"
    }
   ],
   "source": [
    "data.groupby('user_id').agg({'eventname':'count'}).hist(bins=10, range=(0,500),figsize=(10,6))\n",
    "plt.xlabel('Кол-во событий')\n",
    "plt.ylabel('Кол-во пользователей')\n",
    "plt.title('Гистограмма кол-ва событий на пользователя')\n",
    "plt.show()"
   ]
  },
  {
   "cell_type": "markdown",
   "metadata": {},
   "source": [
    "\n",
    "По гистограмме видим, что большая часть пользователей совершает менее сотни событий, но также есть и те кто делает это до 300. Стоит отметить, что есть аномальные значения в кол-ве 2307 событий на пользователя, при третьем квартиле в 37. Поэтому за среднее кол-во событий будем брать медианное значение - 20 событий."
   ]
  },
  {
   "cell_type": "markdown",
   "metadata": {},
   "source": [
    "Далее взглянем за какой период у нас данные"
   ]
  },
  {
   "cell_type": "code",
   "execution_count": 20,
   "metadata": {},
   "outputs": [
    {
     "data": {
      "text/plain": [
       "'Максимальная дата события: 2019-08-07 21:15:17'"
      ]
     },
     "metadata": {},
     "output_type": "display_data"
    },
    {
     "data": {
      "text/plain": [
       "'Минимальная дата события: 2019-07-25 04:43:36'"
      ]
     },
     "metadata": {},
     "output_type": "display_data"
    }
   ],
   "source": [
    "display(f'Максимальная дата события: {max(data.date_time)}',\n",
    "        f'Минимальная дата события: {min(data.date_time)}')"
   ]
  },
  {
   "cell_type": "markdown",
   "metadata": {},
   "source": [
    "В нашем распоряжении данные за две недели - с 25 июля по 8 августа."
   ]
  },
  {
   "cell_type": "markdown",
   "metadata": {},
   "source": [
    "Оценим кол-во событий по дням в разрезе по по группам, чтобы определить период, который будем анализировать. Так как есть вероятность, что не во все даты есть полные данные."
   ]
  },
  {
   "cell_type": "code",
   "execution_count": 21,
   "metadata": {},
   "outputs": [
    {
     "data": {
      "image/png": "[encoded data removed]",
      "text/plain": [
       "<Figure size 1500x1000 with 1 Axes>"
      ]
     },
     "metadata": {},
     "output_type": "display_data"
    }
   ],
   "source": [
    "data['group_id'] = data['group_id'].astype('str')\n",
    "plt.figure(figsize=(15, 10))\n",
    "ax = sns.countplot(x=data['date'],  data=data, hue='group_id')  \n",
    "ax.set_title('Количество событий по датам в разрезе по группам')\n",
    "plt.xlabel('Кол-во событий')\n",
    "plt.ylabel('Дата')\n",
    "plt.show()"
   ]
  },
  {
   "cell_type": "markdown",
   "metadata": {},
   "source": [
    "На полученном графике, видно, что основная масса событий приходиться на период с 01.08 по 07.08. Проверим не превышает ли объем данных за период с 25.07 по 31.07 более ~5%, если нет то даные можно спокойно отбросить."
   ]
  },
  {
   "cell_type": "code",
   "execution_count": 22,
   "metadata": {},
   "outputs": [
    {
     "name": "stdout",
     "output_type": "stream",
     "text": [
      "Доля периода с малым кол-вом данных в общем кол-ве: 1.16\n",
      "Кол-во отбрасываемых строк: 2826\n",
      "Общее кол-во строк: 243713\n"
     ]
    }
   ],
   "source": [
    "print('Доля периода с малым кол-вом данных в общем кол-ве:',round(data[data['date'] <= '2019-07-31']['eventname'].count() / data.eventname.count() * 100, 2)),\n",
    "print('Кол-во отбрасываемых строк:', data[data['date'] <= '2019-07-31']['eventname'].count())\n",
    "print('Общее кол-во строк:', data.eventname.count())"
   ]
  },
  {
   "cell_type": "markdown",
   "metadata": {},
   "source": [
    "Так как данных всего 1.16%, то убираем их. Но перед эти посмотрим на потери в кол-ве событий и кол-ве пользователей."
   ]
  },
  {
   "cell_type": "code",
   "execution_count": 23,
   "metadata": {},
   "outputs": [
    {
     "name": "stdout",
     "output_type": "stream",
     "text": [
      "Кол-во событий до актуализации: 243713\n",
      "Пользователей до актуализации: 7551\n"
     ]
    }
   ],
   "source": [
    "print(f'Кол-во событий до актуализации: {data.eventname.count()}')\n",
    "print(f'Пользователей до актуализации: {data.user_id.nunique()}')"
   ]
  },
  {
   "cell_type": "code",
   "execution_count": 24,
   "metadata": {},
   "outputs": [],
   "source": [
    "irrelevant_events = data[data['date'] <= '2019-07-31']\n",
    "actual_events = data[data['date'] > '2019-07-31']\n",
    "irrelevant_users = []\n",
    "for i in irrelevant_events['user_id'].unique():\n",
    "    if i in actual_events['user_id'].unique():\n",
    "        continue\n",
    "    else:\n",
    "        irrelevant_users.append(i)"
   ]
  },
  {
   "cell_type": "code",
   "execution_count": 25,
   "metadata": {},
   "outputs": [
    {
     "name": "stdout",
     "output_type": "stream",
     "text": [
      "Будет потеряно событий: 2826(1.16%)\n",
      "Будет потеряно пользователей: 17(0.23%)\n"
     ]
    }
   ],
   "source": [
    "print(f'Будет потеряно событий: {irrelevant_events.eventname.count()}({irrelevant_events.eventname.count()/data.eventname.count():.2%})')\n",
    "print(f'Будет потеряно пользователей: {len(irrelevant_users)}({len(irrelevant_users)/data.user_id.nunique():.2%})')"
   ]
  },
  {
   "cell_type": "markdown",
   "metadata": {},
   "source": [
    "После удаления устаревших данных получитсья, что мы потеряем 1.16% событий и 0.23% пользователей, что на самом деле, не страшно. Поэтому актуализируем данные"
   ]
  },
  {
   "cell_type": "code",
   "execution_count": 26,
   "metadata": {},
   "outputs": [
    {
     "data": {
      "text/html": [
       "<div>\n",
       "<style scoped>\n",
       "    .dataframe tbody tr th:only-of-type {\n",
       "        vertical-align: middle;\n",
       "    }\n",
       "\n",
       "    .dataframe tbody tr th {\n",
       "        vertical-align: top;\n",
       "    }\n",
       "\n",
       "    .dataframe thead th {\n",
       "        text-align: right;\n",
       "    }\n",
       "</style>\n",
       "<table border=\"1\" class=\"dataframe\">\n",
       "  <thead>\n",
       "    <tr style=\"text-align: right;\">\n",
       "      <th></th>\n",
       "      <th>eventname</th>\n",
       "      <th>user_id</th>\n",
       "      <th>date_time</th>\n",
       "      <th>group_id</th>\n",
       "      <th>date</th>\n",
       "    </tr>\n",
       "  </thead>\n",
       "  <tbody>\n",
       "    <tr>\n",
       "      <th>2828</th>\n",
       "      <td>Tutorial</td>\n",
       "      <td>3737462046622621720</td>\n",
       "      <td>2019-08-01 00:07:28</td>\n",
       "      <td>246</td>\n",
       "      <td>2019-08-01</td>\n",
       "    </tr>\n",
       "    <tr>\n",
       "      <th>2829</th>\n",
       "      <td>MainScreenAppear</td>\n",
       "      <td>3737462046622621720</td>\n",
       "      <td>2019-08-01 00:08:00</td>\n",
       "      <td>246</td>\n",
       "      <td>2019-08-01</td>\n",
       "    </tr>\n",
       "    <tr>\n",
       "      <th>2830</th>\n",
       "      <td>MainScreenAppear</td>\n",
       "      <td>3737462046622621720</td>\n",
       "      <td>2019-08-01 00:08:55</td>\n",
       "      <td>246</td>\n",
       "      <td>2019-08-01</td>\n",
       "    </tr>\n",
       "    <tr>\n",
       "      <th>2831</th>\n",
       "      <td>OffersScreenAppear</td>\n",
       "      <td>3737462046622621720</td>\n",
       "      <td>2019-08-01 00:08:58</td>\n",
       "      <td>246</td>\n",
       "      <td>2019-08-01</td>\n",
       "    </tr>\n",
       "    <tr>\n",
       "      <th>2832</th>\n",
       "      <td>MainScreenAppear</td>\n",
       "      <td>1433840883824088890</td>\n",
       "      <td>2019-08-01 00:08:59</td>\n",
       "      <td>247</td>\n",
       "      <td>2019-08-01</td>\n",
       "    </tr>\n",
       "  </tbody>\n",
       "</table>\n",
       "</div>"
      ],
      "text/plain": [
       "               eventname              user_id           date_time group_id  \\\n",
       "2828            Tutorial  3737462046622621720 2019-08-01 00:07:28      246   \n",
       "2829    MainScreenAppear  3737462046622621720 2019-08-01 00:08:00      246   \n",
       "2830    MainScreenAppear  3737462046622621720 2019-08-01 00:08:55      246   \n",
       "2831  OffersScreenAppear  3737462046622621720 2019-08-01 00:08:58      246   \n",
       "2832    MainScreenAppear  1433840883824088890 2019-08-01 00:08:59      247   \n",
       "\n",
       "            date  \n",
       "2828  2019-08-01  \n",
       "2829  2019-08-01  \n",
       "2830  2019-08-01  \n",
       "2831  2019-08-01  \n",
       "2832  2019-08-01  "
      ]
     },
     "metadata": {},
     "output_type": "display_data"
    },
    {
     "data": {
      "text/plain": [
       "(240887, 5)"
      ]
     },
     "metadata": {},
     "output_type": "display_data"
    },
    {
     "data": {
      "text/plain": [
       "'Кол-во событий после актуализации: 240887'"
      ]
     },
     "metadata": {},
     "output_type": "display_data"
    },
    {
     "data": {
      "text/plain": [
       "'Пользователей после актуализации: 7534'"
      ]
     },
     "metadata": {},
     "output_type": "display_data"
    }
   ],
   "source": [
    "data = data[data['date'] > '2019-07-31']\n",
    "display(data.head(5),data.shape,\n",
    "       f'Кол-во событий после актуализации: {data.eventname.count()}', \n",
    "        f'Пользователей после актуализации: {data.user_id.nunique()}')"
   ]
  },
  {
   "cell_type": "code",
   "execution_count": 27,
   "metadata": {},
   "outputs": [
    {
     "data": {
      "image/png": "[encoded data removed]",
      "text/plain": [
       "<Figure size 800x800 with 1 Axes>"
      ]
     },
     "metadata": {},
     "output_type": "display_data"
    }
   ],
   "source": [
    "data.groupby('group_id')['user_id'].nunique().plot(kind='pie', title = 'Доли кол-ва пользователей по группам', autopct='%1.1f%%', figsize=(8,8), label='')\n",
    "plt.show()"
   ]
  },
  {
   "cell_type": "markdown",
   "metadata": {},
   "source": [
    "Доли уникальных пользователей по группам примерно одинаковые и составляют ~33%. Разница не более чем в 0.7%."
   ]
  },
  {
   "cell_type": "markdown",
   "metadata": {},
   "source": [
    "**Ознакомившись с общей информацией о логе, можно сделать промежуточные выводы. Всего событий в логе 243713, число уникальных пользователей 7551. В среднем пользователи совершают около 20 событий, так как в данных есть аномальные значение за этот показатель взяли медианное значение. Изначально данные были за период с 25.07 по 07.08, но построив график событий в разрезе погруппам для каждой даты, обнаружили, что данных за первую неделю очень мало и проверив, что их доля составляет около 1.5 %, актуализировали информацию.**"
   ]
  },
  {
   "cell_type": "markdown",
   "metadata": {},
   "source": [
    "## Воронка событий"
   ]
  },
  {
   "cell_type": "markdown",
   "metadata": {},
   "source": [
    "Приступая к изучению воронки событий, первым делом просмотрим как распределены события, какие наиболее часто встречаются."
   ]
  },
  {
   "cell_type": "code",
   "execution_count": 28,
   "metadata": {},
   "outputs": [
    {
     "data": {
      "text/html": [
       "<div>\n",
       "<style scoped>\n",
       "    .dataframe tbody tr th:only-of-type {\n",
       "        vertical-align: middle;\n",
       "    }\n",
       "\n",
       "    .dataframe tbody tr th {\n",
       "        vertical-align: top;\n",
       "    }\n",
       "\n",
       "    .dataframe thead th {\n",
       "        text-align: right;\n",
       "    }\n",
       "</style>\n",
       "<table border=\"1\" class=\"dataframe\">\n",
       "  <thead>\n",
       "    <tr style=\"text-align: right;\">\n",
       "      <th></th>\n",
       "      <th>user_id</th>\n",
       "    </tr>\n",
       "    <tr>\n",
       "      <th>eventname</th>\n",
       "      <th></th>\n",
       "    </tr>\n",
       "  </thead>\n",
       "  <tbody>\n",
       "    <tr>\n",
       "      <th>MainScreenAppear</th>\n",
       "      <td>117328</td>\n",
       "    </tr>\n",
       "    <tr>\n",
       "      <th>OffersScreenAppear</th>\n",
       "      <td>46333</td>\n",
       "    </tr>\n",
       "    <tr>\n",
       "      <th>CartScreenAppear</th>\n",
       "      <td>42303</td>\n",
       "    </tr>\n",
       "    <tr>\n",
       "      <th>PaymentScreenSuccessful</th>\n",
       "      <td>33918</td>\n",
       "    </tr>\n",
       "    <tr>\n",
       "      <th>Tutorial</th>\n",
       "      <td>1005</td>\n",
       "    </tr>\n",
       "  </tbody>\n",
       "</table>\n",
       "</div>"
      ],
      "text/plain": [
       "                         user_id\n",
       "eventname                       \n",
       "MainScreenAppear          117328\n",
       "OffersScreenAppear         46333\n",
       "CartScreenAppear           42303\n",
       "PaymentScreenSuccessful    33918\n",
       "Tutorial                    1005"
      ]
     },
     "execution_count": 28,
     "metadata": {},
     "output_type": "execute_result"
    }
   ],
   "source": [
    "data.groupby('eventname').agg({'user_id':'count'}).sort_values('user_id',ascending=False)"
   ]
  },
  {
   "cell_type": "markdown",
   "metadata": {},
   "source": [
    "Наиболее частое кол-во событий - Просмотр главной страницы. Наименее популярное событие - страница обучения. Просмотр карточки предложения и страница с корзиной имеют примерно одинаково кол-во и чуть менее посещаемая страница с успешной оплатой покупки."
   ]
  },
  {
   "cell_type": "code",
   "execution_count": 29,
   "metadata": {},
   "outputs": [
    {
     "data": {
      "text/html": [
       "<div>\n",
       "<style scoped>\n",
       "    .dataframe tbody tr th:only-of-type {\n",
       "        vertical-align: middle;\n",
       "    }\n",
       "\n",
       "    .dataframe tbody tr th {\n",
       "        vertical-align: top;\n",
       "    }\n",
       "\n",
       "    .dataframe thead th {\n",
       "        text-align: right;\n",
       "    }\n",
       "</style>\n",
       "<table border=\"1\" class=\"dataframe\">\n",
       "  <thead>\n",
       "    <tr style=\"text-align: right;\">\n",
       "      <th></th>\n",
       "      <th>eventname</th>\n",
       "      <th>count</th>\n",
       "    </tr>\n",
       "  </thead>\n",
       "  <tbody>\n",
       "    <tr>\n",
       "      <th>0</th>\n",
       "      <td>MainScreenAppear</td>\n",
       "      <td>7419</td>\n",
       "    </tr>\n",
       "    <tr>\n",
       "      <th>1</th>\n",
       "      <td>OffersScreenAppear</td>\n",
       "      <td>4593</td>\n",
       "    </tr>\n",
       "    <tr>\n",
       "      <th>2</th>\n",
       "      <td>CartScreenAppear</td>\n",
       "      <td>3734</td>\n",
       "    </tr>\n",
       "    <tr>\n",
       "      <th>3</th>\n",
       "      <td>PaymentScreenSuccessful</td>\n",
       "      <td>3539</td>\n",
       "    </tr>\n",
       "    <tr>\n",
       "      <th>4</th>\n",
       "      <td>Tutorial</td>\n",
       "      <td>840</td>\n",
       "    </tr>\n",
       "  </tbody>\n",
       "</table>\n",
       "</div>"
      ],
      "text/plain": [
       "                 eventname  count\n",
       "0         MainScreenAppear   7419\n",
       "1       OffersScreenAppear   4593\n",
       "2         CartScreenAppear   3734\n",
       "3  PaymentScreenSuccessful   3539\n",
       "4                 Tutorial    840"
      ]
     },
     "execution_count": 29,
     "metadata": {},
     "output_type": "execute_result"
    }
   ],
   "source": [
    "event_table = pd.DataFrame(data.groupby('eventname').agg({'user_id':'nunique'}).sort_values('user_id', ascending=False))\n",
    "event_table = event_table.rename(columns={'user_id':'count'})\n",
    "event_table.reset_index(inplace=True)\n",
    "event_table"
   ]
  },
  {
   "cell_type": "markdown",
   "metadata": {},
   "source": [
    "Почти все пользователи совершали событие - посещение главной страницы. Меньше всего пользователей посещали страницу с обучением.\n",
    "Примерно одинаковое кол-во пользователей были и на странице с успешной оплатой и на странице корзины покупок, страница с товаром имеет чуть больше кол-во посещения уникальных пользователей."
   ]
  },
  {
   "cell_type": "code",
   "execution_count": 30,
   "metadata": {},
   "outputs": [
    {
     "data": {
      "text/html": [
       "<div>\n",
       "<style scoped>\n",
       "    .dataframe tbody tr th:only-of-type {\n",
       "        vertical-align: middle;\n",
       "    }\n",
       "\n",
       "    .dataframe tbody tr th {\n",
       "        vertical-align: top;\n",
       "    }\n",
       "\n",
       "    .dataframe thead th {\n",
       "        text-align: right;\n",
       "    }\n",
       "</style>\n",
       "<table border=\"1\" class=\"dataframe\">\n",
       "  <thead>\n",
       "    <tr style=\"text-align: right;\">\n",
       "      <th></th>\n",
       "      <th>eventname</th>\n",
       "      <th>count</th>\n",
       "      <th>total_share</th>\n",
       "    </tr>\n",
       "  </thead>\n",
       "  <tbody>\n",
       "    <tr>\n",
       "      <th>0</th>\n",
       "      <td>MainScreenAppear</td>\n",
       "      <td>7419</td>\n",
       "      <td>98.47</td>\n",
       "    </tr>\n",
       "    <tr>\n",
       "      <th>1</th>\n",
       "      <td>OffersScreenAppear</td>\n",
       "      <td>4593</td>\n",
       "      <td>60.96</td>\n",
       "    </tr>\n",
       "    <tr>\n",
       "      <th>2</th>\n",
       "      <td>CartScreenAppear</td>\n",
       "      <td>3734</td>\n",
       "      <td>49.56</td>\n",
       "    </tr>\n",
       "    <tr>\n",
       "      <th>3</th>\n",
       "      <td>PaymentScreenSuccessful</td>\n",
       "      <td>3539</td>\n",
       "      <td>46.97</td>\n",
       "    </tr>\n",
       "    <tr>\n",
       "      <th>4</th>\n",
       "      <td>Tutorial</td>\n",
       "      <td>840</td>\n",
       "      <td>11.15</td>\n",
       "    </tr>\n",
       "  </tbody>\n",
       "</table>\n",
       "</div>"
      ],
      "text/plain": [
       "                 eventname  count  total_share\n",
       "0         MainScreenAppear   7419        98.47\n",
       "1       OffersScreenAppear   4593        60.96\n",
       "2         CartScreenAppear   3734        49.56\n",
       "3  PaymentScreenSuccessful   3539        46.97\n",
       "4                 Tutorial    840        11.15"
      ]
     },
     "execution_count": 30,
     "metadata": {},
     "output_type": "execute_result"
    }
   ],
   "source": [
    "event_table['total_share'] = round(event_table['count'] / data.user_id.nunique() * 100 , 2)\n",
    "event_table"
   ]
  },
  {
   "cell_type": "markdown",
   "metadata": {},
   "source": [
    "Наибольшая доля пользователей от общего числа посещали главную страницу - 98%. Около 10% поcетили страницу с обучением. Около 50 и 47 % пользователей были на странице с корзиной покупок и на странице оплаты картой соответсвенно. И две третих пользователей от общего числа были на странице с картчкой товара."
   ]
  },
  {
   "cell_type": "markdown",
   "metadata": {},
   "source": [
    "Выстраивая воронку событий, предположим, что она выглядит вот так:"
   ]
  },
  {
   "cell_type": "code",
   "execution_count": 31,
   "metadata": {},
   "outputs": [
    {
     "data": {
      "image/png": "[encoded data removed]",
      "text/plain": [
       "<Figure size 1500x1000 with 1 Axes>"
      ]
     },
     "metadata": {},
     "output_type": "display_data"
    }
   ],
   "source": [
    "event_table['percentage_by_first'] = round(event_table['count'] / event_table['count'][0] * 100, 2)\n",
    "funnel_event = event_table.query('eventname != \"Tutorial\"')[['eventname', 'percentage_by_first', 'count']].sort_values('percentage_by_first', ascending=True)\n",
    "plt.figure(figsize=(15,10))\n",
    "plt.barh(funnel_event['eventname'],funnel_event['percentage_by_first'], color = 'orange')\n",
    "plt.title('Воронка событий')\n",
    "plt.xlabel('Доля пользователей от первого события')\n",
    "plt.ylabel('Наименование события')\n",
    "plt.show()"
   ]
  },
  {
   "cell_type": "markdown",
   "metadata": {},
   "source": [
    "Итак, у нас получается следующая воронка:\n",
    "\n",
    "MainScreenAppear -> OffersSreenAppear -> CartScreenApper -> PaymentScreenSuccessful\n",
    "\n",
    "По итогу получается последовательная, возможно даже в некоторой степени стандартная воронка покупки - вначале пользователь попадает на главную страницу, далее заходит на интересующий его товар, далее добавляет товар в корзину и уже после просмотра корзины оплачивает товар и попадает на страницу с успешной оплатой. В этой воронке пропущена страница Tutorial, т.к. не все пользователи посещают эту страницу, интерфейс довольно простой в освоении, а также это не является обязательным шагом в воронке событий покупки"
   ]
  },
  {
   "cell_type": "markdown",
   "metadata": {},
   "source": [
    "Далее добавим в таблицу funnel_event долю события от прошлого. Чтобы наглядно увидеть на каком этапе теряется наибольшее кол-во пользователей."
   ]
  },
  {
   "cell_type": "code",
   "execution_count": 32,
   "metadata": {
    "scrolled": true
   },
   "outputs": [
    {
     "data": {
      "text/html": [
       "<div>\n",
       "<style scoped>\n",
       "    .dataframe tbody tr th:only-of-type {\n",
       "        vertical-align: middle;\n",
       "    }\n",
       "\n",
       "    .dataframe tbody tr th {\n",
       "        vertical-align: top;\n",
       "    }\n",
       "\n",
       "    .dataframe thead th {\n",
       "        text-align: right;\n",
       "    }\n",
       "</style>\n",
       "<table border=\"1\" class=\"dataframe\">\n",
       "  <thead>\n",
       "    <tr style=\"text-align: right;\">\n",
       "      <th></th>\n",
       "      <th>eventname</th>\n",
       "      <th>percentage_by_first</th>\n",
       "      <th>count</th>\n",
       "      <th>pre_share</th>\n",
       "    </tr>\n",
       "  </thead>\n",
       "  <tbody>\n",
       "    <tr>\n",
       "      <th>0</th>\n",
       "      <td>MainScreenAppear</td>\n",
       "      <td>100.00</td>\n",
       "      <td>7419</td>\n",
       "      <td>-</td>\n",
       "    </tr>\n",
       "    <tr>\n",
       "      <th>1</th>\n",
       "      <td>OffersScreenAppear</td>\n",
       "      <td>61.91</td>\n",
       "      <td>4593</td>\n",
       "      <td>61.91</td>\n",
       "    </tr>\n",
       "    <tr>\n",
       "      <th>2</th>\n",
       "      <td>CartScreenAppear</td>\n",
       "      <td>50.33</td>\n",
       "      <td>3734</td>\n",
       "      <td>81.3</td>\n",
       "    </tr>\n",
       "    <tr>\n",
       "      <th>3</th>\n",
       "      <td>PaymentScreenSuccessful</td>\n",
       "      <td>47.70</td>\n",
       "      <td>3539</td>\n",
       "      <td>94.78</td>\n",
       "    </tr>\n",
       "  </tbody>\n",
       "</table>\n",
       "</div>"
      ],
      "text/plain": [
       "                 eventname  percentage_by_first  count pre_share\n",
       "0         MainScreenAppear               100.00   7419         -\n",
       "1       OffersScreenAppear                61.91   4593     61.91\n",
       "2         CartScreenAppear                50.33   3734      81.3\n",
       "3  PaymentScreenSuccessful                47.70   3539     94.78"
      ]
     },
     "execution_count": 32,
     "metadata": {},
     "output_type": "execute_result"
    }
   ],
   "source": [
    "funnel_event = funnel_event.sort_values('count', ascending=False)\n",
    "funnel_event['pre_share'] = funnel_event['count'].div(funnel_event['count'].shift(1) ,2)\n",
    "funnel_event['pre_share'] = round(funnel_event['pre_share'] * 100, 2).fillna('-')\n",
    "funnel_event"
   ]
  },
  {
   "cell_type": "markdown",
   "metadata": {},
   "source": [
    "В полученной таблице с воронкой событий видно, что наименьшее кол-во пользоватлей с предыдущего события переходило с первого шага на второй, а значит именно здесь пользователя что то смущает и он не переходит к просмотру товара."
   ]
  },
  {
   "cell_type": "markdown",
   "metadata": {},
   "source": [
    "Посмотрим на общую долю пользователей, которые прошли от первого события к последнему."
   ]
  },
  {
   "cell_type": "code",
   "execution_count": 33,
   "metadata": {},
   "outputs": [
    {
     "name": "stdout",
     "output_type": "stream",
     "text": [
      "Доля пользователей, дошедших до пследнего события: 47.7\n"
     ]
    }
   ],
   "source": [
    "print('Доля пользователей, дошедших до пследнего события:', round(min(funnel_event['count']) / max(funnel_event['count']) * 100 , 2))"
   ]
  },
  {
   "cell_type": "markdown",
   "metadata": {},
   "source": [
    "**Изначально просмотрев общее кол-во событий по наименованиям, а также кол-во уникальных пользователей на каждом событии, в конечно счете предположили следющую воронку:**\n",
    "\n",
    "***MainScreenAppear -> OffersSreenAppear -> CartScreenApper -> PaymentScreenSuccessful.***\n",
    "\n",
    "**Событием с наибольшей долей пользователей, не перешедших на другой шаг, является шаг MainScreenAppear, по сравнению с шагом 2 и 3: ~81 и ~95% оставшихся пользователей с предыдущего шага, говорит о том, что главная страница имеет либо технические проблемы, либо плохо оформленный дизайн/превью товаров, что отталкивает пользователей перейти на саму страницу с карточкой товаров. Общая конверсия \"Главная страница/Страница об успешной транзакции\" составляет 47.7% довольно высокий показатель, однако есть куда стремиться, тем более с явной проблемой на первом событии.**"
   ]
  },
  {
   "cell_type": "markdown",
   "metadata": {},
   "source": [
    "## Анализ результатов эксперимента"
   ]
  },
  {
   "cell_type": "markdown",
   "metadata": {},
   "source": [
    "### Анализ результатов эксперимента"
   ]
  },
  {
   "cell_type": "markdown",
   "metadata": {},
   "source": [
    "Основной гипотезой A/A/B тестирования является: **\"При изменении шрифта кол-во активных уменьшится\"**. Именно это мы и будет проверять, сравнивая размеры групп на каждом событии. Приступая к анализу результатов А/А/В, посмотрим сколько пользователей в исследуемых группах."
   ]
  },
  {
   "cell_type": "code",
   "execution_count": 34,
   "metadata": {},
   "outputs": [
    {
     "data": {
      "text/html": [
       "<div>\n",
       "<style scoped>\n",
       "    .dataframe tbody tr th:only-of-type {\n",
       "        vertical-align: middle;\n",
       "    }\n",
       "\n",
       "    .dataframe tbody tr th {\n",
       "        vertical-align: top;\n",
       "    }\n",
       "\n",
       "    .dataframe thead th {\n",
       "        text-align: right;\n",
       "    }\n",
       "</style>\n",
       "<table border=\"1\" class=\"dataframe\">\n",
       "  <thead>\n",
       "    <tr style=\"text-align: right;\">\n",
       "      <th></th>\n",
       "      <th>user_id</th>\n",
       "    </tr>\n",
       "    <tr>\n",
       "      <th>group_id</th>\n",
       "      <th></th>\n",
       "    </tr>\n",
       "  </thead>\n",
       "  <tbody>\n",
       "    <tr>\n",
       "      <th>246</th>\n",
       "      <td>2484</td>\n",
       "    </tr>\n",
       "    <tr>\n",
       "      <th>247</th>\n",
       "      <td>2513</td>\n",
       "    </tr>\n",
       "    <tr>\n",
       "      <th>248</th>\n",
       "      <td>2537</td>\n",
       "    </tr>\n",
       "  </tbody>\n",
       "</table>\n",
       "</div>"
      ],
      "text/plain": [
       "          user_id\n",
       "group_id         \n",
       "246          2484\n",
       "247          2513\n",
       "248          2537"
      ]
     },
     "execution_count": 34,
     "metadata": {},
     "output_type": "execute_result"
    }
   ],
   "source": [
    "data.groupby('group_id').agg({'user_id':'nunique'})"
   ]
  },
  {
   "cell_type": "markdown",
   "metadata": {},
   "source": [
    "Различия хоть и небольшие, но необходимо проверить корректность всех расчетов и выяснить есть ли статистически значимые различия между группами."
   ]
  },
  {
   "cell_type": "markdown",
   "metadata": {},
   "source": [
    "Также посмотрим какое событие для каждой из групп наиболее популярное."
   ]
  },
  {
   "cell_type": "code",
   "execution_count": 35,
   "metadata": {},
   "outputs": [],
   "source": [
    "group_246 = data.query('group_id == \"246\"')\n",
    "group_247 = data.query('group_id == \"247\"')\n",
    "group_248 = data.query('group_id == \"248\"')"
   ]
  },
  {
   "cell_type": "code",
   "execution_count": 36,
   "metadata": {},
   "outputs": [
    {
     "name": "stdout",
     "output_type": "stream",
     "text": [
      "                         user_id\n",
      "eventname                       \n",
      "MainScreenAppear            2450\n",
      "OffersScreenAppear          1542\n",
      "CartScreenAppear            1266\n",
      "PaymentScreenSuccessful     1200\n",
      "Tutorial                     278\n",
      "                         user_id\n",
      "eventname                       \n",
      "MainScreenAppear            2476\n",
      "OffersScreenAppear          1520\n",
      "CartScreenAppear            1238\n",
      "PaymentScreenSuccessful     1158\n",
      "Tutorial                     283\n",
      "                         user_id\n",
      "eventname                       \n",
      "MainScreenAppear            2493\n",
      "OffersScreenAppear          1531\n",
      "CartScreenAppear            1230\n",
      "PaymentScreenSuccessful     1181\n",
      "Tutorial                     279\n"
     ]
    }
   ],
   "source": [
    "def top_ev(a):\n",
    "    list_top_ev = a.groupby('eventname').agg({'user_id':'nunique'})\n",
    "    return print(list_top_ev.sort_values('user_id',ascending=False))\n",
    "top_ev(group_246)\n",
    "top_ev(group_247)\n",
    "top_ev(group_248)"
   ]
  },
  {
   "cell_type": "markdown",
   "metadata": {},
   "source": [
    "Для всех групп посещение главной страницы является наиболее популярным событием, т.к первый шаг в нашей воронке MainScreenAppear именно здесь и будет больше всего кол-во уникальных пользователей. Далее как и в воронке следует просмотр страницы с товаром, страница с корзиной и страница об успешной оплате. Во всех группах примерно одинаковое кол-во пользователей, но все же маленькие различия есть.        "
   ]
  },
  {
   "cell_type": "markdown",
   "metadata": {},
   "source": [
    "Проверим являются ли эти различия между группами статистически значимыми. Проверять мы будем по z-значению, целевым действием же выступит каждое событие. Первым делом нам необходимо проверить - являются ли контрольные группы действительно таковыми и есть ли между ними статистически значимые различия."
   ]
  },
  {
   "cell_type": "markdown",
   "metadata": {},
   "source": [
    "Введем функцию для проверки статистической значимости различий между выборками к контрольному действию. \n",
    "\n",
    "**За значение alpha будем брать 5%.**"
   ]
  },
  {
   "cell_type": "code",
   "execution_count": 37,
   "metadata": {},
   "outputs": [],
   "source": [
    "def z_test(group_1, group_2, control_name):\n",
    "    alpha = 0.05\n",
    "    users_c_event = np.array([group_1[group_1['eventname'] == control_name]['user_id'].nunique(), group_2[group_2['eventname'] == control_name]['user_id'].nunique()])\n",
    "    users_event = np.array([group_1['user_id'].nunique(), group_2['user_id'].nunique()])\n",
    "    \n",
    "    p1 = users_c_event[0] / users_event[0]\n",
    "    p2 = users_c_event[1] / users_event[1]\n",
    "    p_combined = (users_c_event[0] + users_c_event[1]) / (users_event[0] + users_event[1])\n",
    "    \n",
    "    difference = p1 - p2\n",
    "    z_value = difference / mth.sqrt(p_combined * (1 - p_combined) * (1/users_event[0] + 1/users_event[1]))\n",
    "    \n",
    "    distr = stats.norm(0, 1)\n",
    "    p_value = (1 - distr.cdf(abs(z_value))) * 2\n",
    "    \n",
    "    print('p-значение: ', round(p_value,2))\n",
    "    \n",
    "    if p_value < alpha:\n",
    "        print('Отвергаем нулевую гипотезу: между долями есть значимая разница')\n",
    "    else: print('Не получилось отвергнуть нулевую гипотезу, нет оснований считать доли разными')         "
   ]
  },
  {
   "cell_type": "markdown",
   "metadata": {},
   "source": [
    "Итак мы ввели функцию, где на входе указываем  группы и контрольное событие. Далее находим кол-во пользователей совершевших  событие в каждой группе и общее кол-во пользователей в группах. После находим пропорции кол-ва пользователей, совершивших  событие к общему кол-ву пользователей и общую пропорцию. Находим z-значение. Задаем стандартное нормально распределение, чтобы в дальнешем использовать его с z-значением и получить результат"
   ]
  },
  {
   "cell_type": "markdown",
   "metadata": {},
   "source": [
    "Выведем группы и добавим лист с наименованиями событий."
   ]
  },
  {
   "cell_type": "code",
   "execution_count": 38,
   "metadata": {},
   "outputs": [
    {
     "data": {
      "text/html": [
       "<div>\n",
       "<style scoped>\n",
       "    .dataframe tbody tr th:only-of-type {\n",
       "        vertical-align: middle;\n",
       "    }\n",
       "\n",
       "    .dataframe tbody tr th {\n",
       "        vertical-align: top;\n",
       "    }\n",
       "\n",
       "    .dataframe thead th {\n",
       "        text-align: right;\n",
       "    }\n",
       "</style>\n",
       "<table border=\"1\" class=\"dataframe\">\n",
       "  <thead>\n",
       "    <tr style=\"text-align: right;\">\n",
       "      <th></th>\n",
       "      <th>eventname</th>\n",
       "      <th>user_id</th>\n",
       "      <th>date_time</th>\n",
       "      <th>group_id</th>\n",
       "      <th>date</th>\n",
       "    </tr>\n",
       "  </thead>\n",
       "  <tbody>\n",
       "    <tr>\n",
       "      <th>2828</th>\n",
       "      <td>Tutorial</td>\n",
       "      <td>3737462046622621720</td>\n",
       "      <td>2019-08-01 00:07:28</td>\n",
       "      <td>246</td>\n",
       "      <td>2019-08-01</td>\n",
       "    </tr>\n",
       "    <tr>\n",
       "      <th>2829</th>\n",
       "      <td>MainScreenAppear</td>\n",
       "      <td>3737462046622621720</td>\n",
       "      <td>2019-08-01 00:08:00</td>\n",
       "      <td>246</td>\n",
       "      <td>2019-08-01</td>\n",
       "    </tr>\n",
       "    <tr>\n",
       "      <th>2830</th>\n",
       "      <td>MainScreenAppear</td>\n",
       "      <td>3737462046622621720</td>\n",
       "      <td>2019-08-01 00:08:55</td>\n",
       "      <td>246</td>\n",
       "      <td>2019-08-01</td>\n",
       "    </tr>\n",
       "    <tr>\n",
       "      <th>2831</th>\n",
       "      <td>OffersScreenAppear</td>\n",
       "      <td>3737462046622621720</td>\n",
       "      <td>2019-08-01 00:08:58</td>\n",
       "      <td>246</td>\n",
       "      <td>2019-08-01</td>\n",
       "    </tr>\n",
       "    <tr>\n",
       "      <th>2834</th>\n",
       "      <td>OffersScreenAppear</td>\n",
       "      <td>3737462046622621720</td>\n",
       "      <td>2019-08-01 00:10:26</td>\n",
       "      <td>246</td>\n",
       "      <td>2019-08-01</td>\n",
       "    </tr>\n",
       "  </tbody>\n",
       "</table>\n",
       "</div>"
      ],
      "text/plain": [
       "               eventname              user_id           date_time group_id  \\\n",
       "2828            Tutorial  3737462046622621720 2019-08-01 00:07:28      246   \n",
       "2829    MainScreenAppear  3737462046622621720 2019-08-01 00:08:00      246   \n",
       "2830    MainScreenAppear  3737462046622621720 2019-08-01 00:08:55      246   \n",
       "2831  OffersScreenAppear  3737462046622621720 2019-08-01 00:08:58      246   \n",
       "2834  OffersScreenAppear  3737462046622621720 2019-08-01 00:10:26      246   \n",
       "\n",
       "            date  \n",
       "2828  2019-08-01  \n",
       "2829  2019-08-01  \n",
       "2830  2019-08-01  \n",
       "2831  2019-08-01  \n",
       "2834  2019-08-01  "
      ]
     },
     "metadata": {},
     "output_type": "display_data"
    },
    {
     "data": {
      "text/html": [
       "<div>\n",
       "<style scoped>\n",
       "    .dataframe tbody tr th:only-of-type {\n",
       "        vertical-align: middle;\n",
       "    }\n",
       "\n",
       "    .dataframe tbody tr th {\n",
       "        vertical-align: top;\n",
       "    }\n",
       "\n",
       "    .dataframe thead th {\n",
       "        text-align: right;\n",
       "    }\n",
       "</style>\n",
       "<table border=\"1\" class=\"dataframe\">\n",
       "  <thead>\n",
       "    <tr style=\"text-align: right;\">\n",
       "      <th></th>\n",
       "      <th>eventname</th>\n",
       "      <th>user_id</th>\n",
       "      <th>date_time</th>\n",
       "      <th>group_id</th>\n",
       "      <th>date</th>\n",
       "    </tr>\n",
       "  </thead>\n",
       "  <tbody>\n",
       "    <tr>\n",
       "      <th>2832</th>\n",
       "      <td>MainScreenAppear</td>\n",
       "      <td>1433840883824088890</td>\n",
       "      <td>2019-08-01 00:08:59</td>\n",
       "      <td>247</td>\n",
       "      <td>2019-08-01</td>\n",
       "    </tr>\n",
       "    <tr>\n",
       "      <th>2833</th>\n",
       "      <td>MainScreenAppear</td>\n",
       "      <td>4899590676214355127</td>\n",
       "      <td>2019-08-01 00:10:15</td>\n",
       "      <td>247</td>\n",
       "      <td>2019-08-01</td>\n",
       "    </tr>\n",
       "    <tr>\n",
       "      <th>2838</th>\n",
       "      <td>MainScreenAppear</td>\n",
       "      <td>4899590676214355127</td>\n",
       "      <td>2019-08-01 00:11:28</td>\n",
       "      <td>247</td>\n",
       "      <td>2019-08-01</td>\n",
       "    </tr>\n",
       "    <tr>\n",
       "      <th>2839</th>\n",
       "      <td>OffersScreenAppear</td>\n",
       "      <td>4899590676214355127</td>\n",
       "      <td>2019-08-01 00:11:30</td>\n",
       "      <td>247</td>\n",
       "      <td>2019-08-01</td>\n",
       "    </tr>\n",
       "    <tr>\n",
       "      <th>2843</th>\n",
       "      <td>OffersScreenAppear</td>\n",
       "      <td>4899590676214355127</td>\n",
       "      <td>2019-08-01 00:12:36</td>\n",
       "      <td>247</td>\n",
       "      <td>2019-08-01</td>\n",
       "    </tr>\n",
       "  </tbody>\n",
       "</table>\n",
       "</div>"
      ],
      "text/plain": [
       "               eventname              user_id           date_time group_id  \\\n",
       "2832    MainScreenAppear  1433840883824088890 2019-08-01 00:08:59      247   \n",
       "2833    MainScreenAppear  4899590676214355127 2019-08-01 00:10:15      247   \n",
       "2838    MainScreenAppear  4899590676214355127 2019-08-01 00:11:28      247   \n",
       "2839  OffersScreenAppear  4899590676214355127 2019-08-01 00:11:30      247   \n",
       "2843  OffersScreenAppear  4899590676214355127 2019-08-01 00:12:36      247   \n",
       "\n",
       "            date  \n",
       "2832  2019-08-01  \n",
       "2833  2019-08-01  \n",
       "2838  2019-08-01  \n",
       "2839  2019-08-01  \n",
       "2843  2019-08-01  "
      ]
     },
     "metadata": {},
     "output_type": "display_data"
    },
    {
     "data": {
      "text/html": [
       "<div>\n",
       "<style scoped>\n",
       "    .dataframe tbody tr th:only-of-type {\n",
       "        vertical-align: middle;\n",
       "    }\n",
       "\n",
       "    .dataframe tbody tr th {\n",
       "        vertical-align: top;\n",
       "    }\n",
       "\n",
       "    .dataframe thead th {\n",
       "        text-align: right;\n",
       "    }\n",
       "</style>\n",
       "<table border=\"1\" class=\"dataframe\">\n",
       "  <thead>\n",
       "    <tr style=\"text-align: right;\">\n",
       "      <th></th>\n",
       "      <th>eventname</th>\n",
       "      <th>user_id</th>\n",
       "      <th>date_time</th>\n",
       "      <th>group_id</th>\n",
       "      <th>date</th>\n",
       "    </tr>\n",
       "  </thead>\n",
       "  <tbody>\n",
       "    <tr>\n",
       "      <th>2844</th>\n",
       "      <td>MainScreenAppear</td>\n",
       "      <td>4613461174774205834</td>\n",
       "      <td>2019-08-01 00:14:31</td>\n",
       "      <td>248</td>\n",
       "      <td>2019-08-01</td>\n",
       "    </tr>\n",
       "    <tr>\n",
       "      <th>2845</th>\n",
       "      <td>MainScreenAppear</td>\n",
       "      <td>4613461174774205834</td>\n",
       "      <td>2019-08-01 00:14:34</td>\n",
       "      <td>248</td>\n",
       "      <td>2019-08-01</td>\n",
       "    </tr>\n",
       "    <tr>\n",
       "      <th>2846</th>\n",
       "      <td>CartScreenAppear</td>\n",
       "      <td>4613461174774205834</td>\n",
       "      <td>2019-08-01 00:14:34</td>\n",
       "      <td>248</td>\n",
       "      <td>2019-08-01</td>\n",
       "    </tr>\n",
       "    <tr>\n",
       "      <th>2847</th>\n",
       "      <td>PaymentScreenSuccessful</td>\n",
       "      <td>4613461174774205834</td>\n",
       "      <td>2019-08-01 00:14:43</td>\n",
       "      <td>248</td>\n",
       "      <td>2019-08-01</td>\n",
       "    </tr>\n",
       "    <tr>\n",
       "      <th>2848</th>\n",
       "      <td>OffersScreenAppear</td>\n",
       "      <td>4613461174774205834</td>\n",
       "      <td>2019-08-01 00:14:51</td>\n",
       "      <td>248</td>\n",
       "      <td>2019-08-01</td>\n",
       "    </tr>\n",
       "  </tbody>\n",
       "</table>\n",
       "</div>"
      ],
      "text/plain": [
       "                    eventname              user_id           date_time  \\\n",
       "2844         MainScreenAppear  4613461174774205834 2019-08-01 00:14:31   \n",
       "2845         MainScreenAppear  4613461174774205834 2019-08-01 00:14:34   \n",
       "2846         CartScreenAppear  4613461174774205834 2019-08-01 00:14:34   \n",
       "2847  PaymentScreenSuccessful  4613461174774205834 2019-08-01 00:14:43   \n",
       "2848       OffersScreenAppear  4613461174774205834 2019-08-01 00:14:51   \n",
       "\n",
       "     group_id        date  \n",
       "2844      248  2019-08-01  \n",
       "2845      248  2019-08-01  \n",
       "2846      248  2019-08-01  \n",
       "2847      248  2019-08-01  \n",
       "2848      248  2019-08-01  "
      ]
     },
     "metadata": {},
     "output_type": "display_data"
    },
    {
     "data": {
      "text/plain": [
       "array(['MainScreenAppear', 'OffersScreenAppear', 'CartScreenAppear',\n",
       "       'PaymentScreenSuccessful'], dtype=object)"
      ]
     },
     "metadata": {},
     "output_type": "display_data"
    }
   ],
   "source": [
    "group_246 = data.query('group_id == \"246\"')\n",
    "group_247 = data.query('group_id == \"247\"')\n",
    "group_248 = data.query('group_id == \"248\"')\n",
    "control_event_name = funnel_event['eventname'].unique()\n",
    "display(group_246.head(5), group_247.head(5), group_248.head(5), control_event_name)"
   ]
  },
  {
   "cell_type": "markdown",
   "metadata": {},
   "source": [
    "Проверим есть ли статистические значимые различия между двумя выборками контрольных групп 246 и 247, проверять будет по каждому событию. Воспользуемся циклом для значений в control_event_name и ранее введенной функцией. Но перед этим сформулируем гипотезы:\n",
    "\n",
    "- H0 - Доли уникальных пользователей, побывавших на этапе воронки, одинаковы;\n",
    "- H1 - Между долями уникальных посетителей, побывавших на этапе воронки, есть значимые различия."
   ]
  },
  {
   "cell_type": "code",
   "execution_count": 39,
   "metadata": {},
   "outputs": [
    {
     "name": "stdout",
     "output_type": "stream",
     "text": [
      "Событиe: MainScreenAppear\n",
      "p-значение:  0.76\n",
      "Не получилось отвергнуть нулевую гипотезу, нет оснований считать доли разными\n",
      "Событиe: OffersScreenAppear\n",
      "p-значение:  0.25\n",
      "Не получилось отвергнуть нулевую гипотезу, нет оснований считать доли разными\n",
      "Событиe: CartScreenAppear\n",
      "p-значение:  0.23\n",
      "Не получилось отвергнуть нулевую гипотезу, нет оснований считать доли разными\n",
      "Событиe: PaymentScreenSuccessful\n",
      "p-значение:  0.11\n",
      "Не получилось отвергнуть нулевую гипотезу, нет оснований считать доли разными\n"
     ]
    }
   ],
   "source": [
    "for i in control_event_name:\n",
    "    print('Событиe:', i)\n",
    "    z_test(group_246, group_247, i)"
   ]
  },
  {
   "cell_type": "markdown",
   "metadata": {},
   "source": [
    "Доля пользователей совершивших наиболее популярной событие в контрольных группах:"
   ]
  },
  {
   "cell_type": "code",
   "execution_count": 40,
   "metadata": {},
   "outputs": [
    {
     "name": "stdout",
     "output_type": "stream",
     "text": [
      "Доля пользователей в группе 246: 98.63\n",
      "Доля пользователей в группе 247: 98.53\n"
     ]
    }
   ],
   "source": [
    "print('Доля пользователей в группе 246:',round(group_246[group_246['eventname'] == 'MainScreenAppear']['user_id'].nunique() / group_246['user_id'].nunique() * 100, 2))\n",
    "print('Доля пользователей в группе 247:',round(group_247[group_247['eventname'] == 'MainScreenAppear']['user_id'].nunique() / group_247['user_id'].nunique() * 100, 2))"
   ]
  },
  {
   "cell_type": "markdown",
   "metadata": {},
   "source": [
    "Проверка статистически значимых различий для групп 246 и 247 показало, что различий по всем событиям, в том числе по событию с наибольшем по кол-вом пользователей, а значит эти две группы можно считать контрольными."
   ]
  },
  {
   "cell_type": "markdown",
   "metadata": {},
   "source": [
    "Далее проверим контрольные группы с экспериментальной, сравнивать также будем по всем событиям в воронке."
   ]
  },
  {
   "cell_type": "markdown",
   "metadata": {},
   "source": [
    "- HO - Различий между долями уникальных пользователей, побывавших на этапе воронки нет, по группам 246 и 248;\n",
    "- H1 - Между долями уникальных пользователей, побывавших на этапе воронки, по группам 246 и 248 есть статистически значимые различия."
   ]
  },
  {
   "cell_type": "code",
   "execution_count": 41,
   "metadata": {},
   "outputs": [
    {
     "name": "stdout",
     "output_type": "stream",
     "text": [
      "Событиe: MainScreenAppear\n",
      "p-значение:  0.29\n",
      "Не получилось отвергнуть нулевую гипотезу, нет оснований считать доли разными\n",
      "Событиe: OffersScreenAppear\n",
      "p-значение:  0.21\n",
      "Не получилось отвергнуть нулевую гипотезу, нет оснований считать доли разными\n",
      "Событиe: CartScreenAppear\n",
      "p-значение:  0.08\n",
      "Не получилось отвергнуть нулевую гипотезу, нет оснований считать доли разными\n",
      "Событиe: PaymentScreenSuccessful\n",
      "p-значение:  0.21\n",
      "Не получилось отвергнуть нулевую гипотезу, нет оснований считать доли разными\n"
     ]
    }
   ],
   "source": [
    "for i in control_event_name:\n",
    "    print('Событиe:', i)\n",
    "    z_test(group_246, group_248, i)"
   ]
  },
  {
   "cell_type": "markdown",
   "metadata": {},
   "source": [
    "Как и в случае с контрольными группами, статистически значимых различий между контрольной группой 246 и экспериментальной группой 248 нет, отвергнуть нулевую гипотезу о равнестве мы не можем. В данном случае, это является хорошим показателем, так как скорее всего эксперимент может быть удачным. Проверим есть ли различия между группами 247 и 248."
   ]
  },
  {
   "cell_type": "markdown",
   "metadata": {},
   "source": [
    "- HO - Различий между долями уникальных пользователей, побывавших на этапе воронки нет, по группам 247 и 248;\n",
    "- H1 - Между долями уникальных пользователей, побывавших на этапе воронки, по группам 247 и 248 есть статистически значимые различия."
   ]
  },
  {
   "cell_type": "code",
   "execution_count": 42,
   "metadata": {},
   "outputs": [
    {
     "name": "stdout",
     "output_type": "stream",
     "text": [
      "Событиe: MainScreenAppear\n",
      "p-значение:  0.46\n",
      "Не получилось отвергнуть нулевую гипотезу, нет оснований считать доли разными\n",
      "Событиe: OffersScreenAppear\n",
      "p-значение:  0.92\n",
      "Не получилось отвергнуть нулевую гипотезу, нет оснований считать доли разными\n",
      "Событиe: CartScreenAppear\n",
      "p-значение:  0.58\n",
      "Не получилось отвергнуть нулевую гипотезу, нет оснований считать доли разными\n",
      "Событиe: PaymentScreenSuccessful\n",
      "p-значение:  0.74\n",
      "Не получилось отвергнуть нулевую гипотезу, нет оснований считать доли разными\n"
     ]
    }
   ],
   "source": [
    "for i in control_event_name:\n",
    "    print('Событиe:', i)\n",
    "    z_test(group_247, group_248, i)"
   ]
  },
  {
   "cell_type": "markdown",
   "metadata": {},
   "source": [
    "Статистически значимых различий между группами 247 и 248 нет. Отвергнуть нулевую гипотезу мы не можем."
   ]
  },
  {
   "cell_type": "markdown",
   "metadata": {},
   "source": [
    "Далее сравним обе контрольные группы с экспериментальной, возможно будут какие либо изменения."
   ]
  },
  {
   "cell_type": "code",
   "execution_count": 43,
   "metadata": {},
   "outputs": [
    {
     "data": {
      "text/html": [
       "<div>\n",
       "<style scoped>\n",
       "    .dataframe tbody tr th:only-of-type {\n",
       "        vertical-align: middle;\n",
       "    }\n",
       "\n",
       "    .dataframe tbody tr th {\n",
       "        vertical-align: top;\n",
       "    }\n",
       "\n",
       "    .dataframe thead th {\n",
       "        text-align: right;\n",
       "    }\n",
       "</style>\n",
       "<table border=\"1\" class=\"dataframe\">\n",
       "  <thead>\n",
       "    <tr style=\"text-align: right;\">\n",
       "      <th></th>\n",
       "      <th>eventname</th>\n",
       "      <th>user_id</th>\n",
       "      <th>date_time</th>\n",
       "      <th>group_id</th>\n",
       "      <th>date</th>\n",
       "    </tr>\n",
       "  </thead>\n",
       "  <tbody>\n",
       "    <tr>\n",
       "      <th>2828</th>\n",
       "      <td>Tutorial</td>\n",
       "      <td>3737462046622621720</td>\n",
       "      <td>2019-08-01 00:07:28</td>\n",
       "      <td>246</td>\n",
       "      <td>2019-08-01</td>\n",
       "    </tr>\n",
       "    <tr>\n",
       "      <th>2829</th>\n",
       "      <td>MainScreenAppear</td>\n",
       "      <td>3737462046622621720</td>\n",
       "      <td>2019-08-01 00:08:00</td>\n",
       "      <td>246</td>\n",
       "      <td>2019-08-01</td>\n",
       "    </tr>\n",
       "  </tbody>\n",
       "</table>\n",
       "</div>"
      ],
      "text/plain": [
       "             eventname              user_id           date_time group_id  \\\n",
       "2828          Tutorial  3737462046622621720 2019-08-01 00:07:28      246   \n",
       "2829  MainScreenAppear  3737462046622621720 2019-08-01 00:08:00      246   \n",
       "\n",
       "            date  \n",
       "2828  2019-08-01  \n",
       "2829  2019-08-01  "
      ]
     },
     "metadata": {},
     "output_type": "display_data"
    },
    {
     "data": {
      "text/html": [
       "<div>\n",
       "<style scoped>\n",
       "    .dataframe tbody tr th:only-of-type {\n",
       "        vertical-align: middle;\n",
       "    }\n",
       "\n",
       "    .dataframe tbody tr th {\n",
       "        vertical-align: top;\n",
       "    }\n",
       "\n",
       "    .dataframe thead th {\n",
       "        text-align: right;\n",
       "    }\n",
       "</style>\n",
       "<table border=\"1\" class=\"dataframe\">\n",
       "  <thead>\n",
       "    <tr style=\"text-align: right;\">\n",
       "      <th></th>\n",
       "      <th>eventname</th>\n",
       "      <th>user_id</th>\n",
       "      <th>date_time</th>\n",
       "      <th>group_id</th>\n",
       "      <th>date</th>\n",
       "    </tr>\n",
       "  </thead>\n",
       "  <tbody>\n",
       "    <tr>\n",
       "      <th>244091</th>\n",
       "      <td>MainScreenAppear</td>\n",
       "      <td>2300292234025330845</td>\n",
       "      <td>2019-08-07 21:05:57</td>\n",
       "      <td>247</td>\n",
       "      <td>2019-08-07</td>\n",
       "    </tr>\n",
       "    <tr>\n",
       "      <th>244121</th>\n",
       "      <td>MainScreenAppear</td>\n",
       "      <td>4599628364049201812</td>\n",
       "      <td>2019-08-07 21:12:25</td>\n",
       "      <td>247</td>\n",
       "      <td>2019-08-07</td>\n",
       "    </tr>\n",
       "  </tbody>\n",
       "</table>\n",
       "</div>"
      ],
      "text/plain": [
       "               eventname              user_id           date_time group_id  \\\n",
       "244091  MainScreenAppear  2300292234025330845 2019-08-07 21:05:57      247   \n",
       "244121  MainScreenAppear  4599628364049201812 2019-08-07 21:12:25      247   \n",
       "\n",
       "              date  \n",
       "244091  2019-08-07  \n",
       "244121  2019-08-07  "
      ]
     },
     "metadata": {},
     "output_type": "display_data"
    }
   ],
   "source": [
    "control_groups = pd.concat([group_246,group_247])\n",
    "display(control_groups.head(2), control_groups.tail(2))"
   ]
  },
  {
   "cell_type": "markdown",
   "metadata": {},
   "source": [
    "- HO - Различий между долями уникальных пользователей, побывавших на этапе воронки, контрольных групп и экспериментальной нет;\n",
    "- H1 - Между долями уникальных пользователей, побывавших на этапе воронки, по группам есть статистически значимые различия."
   ]
  },
  {
   "cell_type": "code",
   "execution_count": 44,
   "metadata": {},
   "outputs": [
    {
     "name": "stdout",
     "output_type": "stream",
     "text": [
      "Событиe: MainScreenAppear\n",
      "p-значение:  0.29\n",
      "Не получилось отвергнуть нулевую гипотезу, нет оснований считать доли разными\n",
      "Событиe: OffersScreenAppear\n",
      "p-значение:  0.43\n",
      "Не получилось отвергнуть нулевую гипотезу, нет оснований считать доли разными\n",
      "Событиe: CartScreenAppear\n",
      "p-значение:  0.18\n",
      "Не получилось отвергнуть нулевую гипотезу, нет оснований считать доли разными\n",
      "Событиe: PaymentScreenSuccessful\n",
      "p-значение:  0.6\n",
      "Не получилось отвергнуть нулевую гипотезу, нет оснований считать доли разными\n"
     ]
    }
   ],
   "source": [
    "for i in control_event_name:\n",
    "    print('Событиe:', i)\n",
    "    z_test(control_groups, group_248, i)"
   ]
  },
  {
   "cell_type": "markdown",
   "metadata": {},
   "source": [
    "Как и в случае отдельных сравнений, общяя оценка контрольных групп с экспериментальнйо показала следующий результат - статистически значимых различий между группами нет. Отвергнуть нулевую гипотезу мы не можем.\n"
   ]
  },
  {
   "cell_type": "markdown",
   "metadata": {},
   "source": [
    "### Корректировка уровня значимости"
   ]
  },
  {
   "cell_type": "markdown",
   "metadata": {},
   "source": [
    "Все проверки гипотез были проделаны с 5% уровнем статистической значимости, что является базовым значением. Всего было проделано для 3 групп по **4** проверки (для каждого этапа воронки), сравнивая доли уникальных пользователей между двумя группами, резльтатом всех проверок является - принятие нулевой гипотезы. Так как в данной работе было более 1 теста на одних исходных данных и за один период, то появляется проблема множественной проверки гипотез. Это значит, что в действительности вероятность допустить ошибку и принять неверную гипотезу не 5%, а выше. Введем понятие FWER (групповая вероятность ошибки первого рода). Наиболее популярный метод рассчета FWER является метод Бонферрони:"
   ]
  },
  {
   "cell_type": "code",
   "execution_count": 45,
   "metadata": {},
   "outputs": [
    {
     "name": "stdout",
     "output_type": "stream",
     "text": [
      "При α = 5%, FWER: 18.55%\n"
     ]
    }
   ],
   "source": [
    "print(f'При α = 5%, FWER: {round((1 - (1-0.05)**4)*100,2)}%')"
   ]
  },
  {
   "cell_type": "markdown",
   "metadata": {},
   "source": [
    "Значит, что фактическая вероятность допущения ошибки, не 5%, а близится к 19%."
   ]
  },
  {
   "cell_type": "markdown",
   "metadata": {},
   "source": [
    "Если мы увеличим уровень статистической значиомсти до 10%, то результаты будут следующие:"
   ]
  },
  {
   "cell_type": "code",
   "execution_count": 46,
   "metadata": {},
   "outputs": [
    {
     "name": "stdout",
     "output_type": "stream",
     "text": [
      "При α = 10%, FWER: 34.39%\n"
     ]
    }
   ],
   "source": [
    "print(f'При α = 10%, FWER: {round((1 - (1-0.1)**4)*100,2)}%')"
   ]
  },
  {
   "cell_type": "markdown",
   "metadata": {},
   "source": [
    "При это при всем, скорректированным значением α должно быть:"
   ]
  },
  {
   "cell_type": "code",
   "execution_count": 47,
   "metadata": {},
   "outputs": [
    {
     "name": "stdout",
     "output_type": "stream",
     "text": [
      "α(скорр)=0.0127\n"
     ]
    }
   ],
   "source": [
    "print(f'α(скорр)={round(1-(1-0.05)**(1/4),4)}')"
   ]
  },
  {
   "cell_type": "markdown",
   "metadata": {},
   "source": [
    "Обычно такой уровень значимости используется в медицине (1%) для уменьшения вероятности допущения ошибки первого рода. В нашем же исследовании черезчур сильная точность не обязательна, оставим уровень значимости прежним 5%."
   ]
  },
  {
   "cell_type": "markdown",
   "metadata": {},
   "source": [
    "### Промежточный итог"
   ]
  },
  {
   "cell_type": "markdown",
   "metadata": {},
   "source": [
    "**В ходе анализа результатов A/A/B тестирования, просмотрели общее кол-во пользователей по группам, выяснили какие события совершают наибольшее кол-во пользователей, как и в случае с воронкой это - просмотр главной страницы. Используя z-значение оценили выборки между группами по событиям, в результате чего пришли к выводам:**\n",
    "\n",
    "- Статистически значимых различий между контрольными группами нет, а значит их можно считать таковыми (Нулевая гипотеза не отвергнута);\n",
    "- Статистически значимых различий между контрольной группой 246 и экспериментальной группой 248 нет (Нулевая гипотеза не отвергнута);\n",
    "- Статистически значимых различий между контрольной группой 247 и экспериментальной группой 248 нет (Нулевая гипотеза не отвергнута);\n",
    "- Статистически значимых различий между объединенными контрольными группами (246 и 247) и экспериментальной группой 248 нет (Нулевая гипотеза не отвергнута);\n",
    "\n",
    "***Так как статистически значимых различий на каждом событии между контрольными группами и экспериментальной нет, можно сделать вывод о том, что на каждом событии группы равны, а значит признать эксперимент удачным и остановить его, так как изначальной гипотезой является - Изменение шрифта уменьшит кол-во активных пользователей.***"
   ]
  },
  {
   "cell_type": "markdown",
   "metadata": {},
   "source": [
    "## Итог\n",
    "\n",
    "В начале данной работы в нашем распоряжении был датасет с информацией о пользователях: их идентификационный номер, совершаемое ими событие, дата события, а также номер группы к которой они принадлежат в эксперименте A/A/B тестирования. Нам необходимо было построить предположительную ворону событий, а также понять на каком этапе уходит наибольшая доля пользователей. Также нам предостяло ознакомиться с результатами A/A/B тестирования и проверить являются ли различия в группах статистически значимыми. Далее по плану:\n",
    "\n",
    "1) Создали переменную с нашим импортированным датасетом, изучили общую информацию по нему;\n",
    "\n",
    "2) Скорректировали тип данных, изменили названия столбцов, проверили нет ли одинаковых пользователей в разных группах, удалили дубликаты и проверили датафрейм на пропуски, каких не оказалось, добавили дополнительный столбец с датой.\n",
    "\n",
    "3) Далее изучили общую информацию о пользователях, какие бывают события, за какой период данные. Всего пользователи совершают 5 событий: посещение главной страницы, просмотр страницы товара, обучение на специальной странице, просмотр корзины и страница с успешной транзакцией. Всего событий в логе 243713 с 7551-им уникальным польователем. В среднем полльзователь совершает около 20 событий, но есть и аномальные значения, доходящие до 300 и выше. Изначально данные были за период с 25 июля по 7 августа, но так как часть данных была не полной, то мы отбросили её, доля отбрасываемой части была ~1%, при этом доли кол-ва пользователей из разных групп не изменились.\n",
    "\n",
    "4) Просмотрев наиболее часто совершаемые события и число уникальных пользователей на каждом этапе построили воронку событий: MainScreenAppear -> OffersSreenAppear -> CartScreenApper -> PaymentScreenSuccessful, Tutorial не входит в общие события т.к. при покупке не является обязательной страницей. Наибольшая доля пользователй, которе уходят от шага к шагу, является первое событие - просмотр главной страницы, около 62% пользоватлеей доживают до следующего этапа. Общая конверсия составляет ~48%, что довольно высокий показатель. \n",
    "\n",
    "5) Анализируя результаты эксперимента, применив z-значние и сравнив выборки между группами на каждом событии можно прийти к следующему:\n",
    "\n",
    "    -Контрольные группы сформированы корректно и на каждом событии в воронке статистически значимых различий между группами нет;\n",
    "    -Как и в случае с объединенными контрольными группами, так и по отдельности, но между 246, 247, 248(экспериментальная группы) статистически значимых разичий нет\n",
    "    -Так как различий нет, то можно признать эксперимент удачным и завершить его, результатом которого является- после изменения шрифта кол-во активных пользователей не изменяется.\n",
    "    \n",
    "**Общие пожелания и рекоммендации:**\n",
    "\n",
    "   **В целом данные были довольно \"чистые\" и масштабных изменений или пропусков не было, были дубликаты, но на дальнейшую работу никак не повлияли. Все переменные и столбцы были использованны, дополнительно потребовалось лишь ввести отдельно столбец с датой.**\n",
    "    \n",
    "   **Отдельно по воронке, так как главная страница является визитной карточкой компаний и первое, что видит будущий покупатель, ей стоит уделить особое внимание, возможно стоит пересмотреть дизайн фото презентаций продуктов, либо же добивить краткое описание или короткие промо ролики для заинтерисованности, возможно изменить витрину товаров и на верхние строчки поднимать наиболее популярные товары, чтобы привлекать пользователя. Из всех возможных вариантов стоит обсудить с отделом маркетинга и дизайна и определить какой из вариантов будет наименее затратный и с высоким профитом, также возмжно провести экспертное или проблемное интервью, а далее выдвинуть гипотезы и проверить изменения с использованием A/B теста. Важным замечанием яляется, что это все стоит делать только после проверки технической исправности главной страницы.**\n",
    "    \n",
    "   **Пару слов по результатом A/A/B тестирования, хоть результаты и оказались положительными - изменение шрифта не влияет на кол-во активных пользователей, но это не значит, что необходимо сразу вводить изменения на всех пользователей. Так как все же основной целью бизнеса является получение прибыли, стоит проверить повлияет ли изменение шрифта на изменение денежных метрик таких как: читая прибыль, LTV, ARPU, ARPPU, среднее кол-во позиций в заказе и другие. Да, кол-во пользователей, перешедших на страницу с успешной транзакцией не изменилось, но метрики кол-ва пользователей не значительно оценивают кол-во денежных средств в обороте. Возможно и на такие метрики как DAU и MAU изменение не повлияет, но стоит помнить, что это может оттолкнуть пользователей от увеличения корзины и выбора в сторону более дорогих товаров.**"
   ]
  }
 ],
 "metadata": {
  "ExecuteTimeLog": [
   {
    "duration": 420,
    "start_time": "2024-06-15T00:15:57.905Z"
   },
   {
    "duration": 6,
    "start_time": "2024-06-15T00:16:06.648Z"
   },
   {
    "duration": 851,
    "start_time": "2024-06-15T00:17:06.956Z"
   },
   {
    "duration": 350,
    "start_time": "2024-06-15T00:21:01.267Z"
   },
   {
    "duration": 283,
    "start_time": "2024-06-15T00:21:19.329Z"
   },
   {
    "duration": 138,
    "start_time": "2024-06-15T00:21:28.216Z"
   },
   {
    "duration": 179,
    "start_time": "2024-06-15T00:21:55.663Z"
   },
   {
    "duration": 250,
    "start_time": "2024-06-15T00:21:58.704Z"
   },
   {
    "duration": 85,
    "start_time": "2024-06-15T00:22:07.281Z"
   },
   {
    "duration": 79,
    "start_time": "2024-06-15T00:22:15.298Z"
   },
   {
    "duration": 71,
    "start_time": "2024-06-15T00:22:38.525Z"
   },
   {
    "duration": 1040,
    "start_time": "2024-06-15T00:22:51.702Z"
   },
   {
    "duration": 109,
    "start_time": "2024-06-15T00:22:52.744Z"
   },
   {
    "duration": 242,
    "start_time": "2024-06-15T00:23:08.936Z"
   },
   {
    "duration": 93,
    "start_time": "2024-06-15T00:23:35.795Z"
   },
   {
    "duration": 148,
    "start_time": "2024-06-15T00:24:56.490Z"
   },
   {
    "duration": 7,
    "start_time": "2024-06-15T00:25:33.161Z"
   },
   {
    "duration": 16,
    "start_time": "2024-06-15T00:25:37.803Z"
   },
   {
    "duration": 80,
    "start_time": "2024-06-15T00:32:55.939Z"
   },
   {
    "duration": 5,
    "start_time": "2024-06-15T00:33:36.539Z"
   },
   {
    "duration": 3,
    "start_time": "2024-06-15T00:33:48.238Z"
   },
   {
    "duration": 6,
    "start_time": "2024-06-15T00:33:53.390Z"
   },
   {
    "duration": 12,
    "start_time": "2024-06-15T00:34:20.871Z"
   },
   {
    "duration": 9,
    "start_time": "2024-06-15T00:34:33.411Z"
   },
   {
    "duration": 6,
    "start_time": "2024-06-15T00:37:40.931Z"
   },
   {
    "duration": 2,
    "start_time": "2024-06-15T00:38:48.188Z"
   },
   {
    "duration": 6,
    "start_time": "2024-06-15T00:38:54.838Z"
   },
   {
    "duration": 12,
    "start_time": "2024-06-15T00:40:10.591Z"
   },
   {
    "duration": 10,
    "start_time": "2024-06-15T00:40:13.556Z"
   },
   {
    "duration": 10,
    "start_time": "2024-06-15T00:40:17.134Z"
   },
   {
    "duration": 3,
    "start_time": "2024-06-15T00:40:26.207Z"
   },
   {
    "duration": 8,
    "start_time": "2024-06-15T00:40:32.107Z"
   },
   {
    "duration": 11,
    "start_time": "2024-06-15T00:40:57.056Z"
   },
   {
    "duration": 14,
    "start_time": "2024-06-15T00:41:02.004Z"
   },
   {
    "duration": 14,
    "start_time": "2024-06-15T00:43:17.253Z"
   },
   {
    "duration": 6,
    "start_time": "2024-06-15T00:44:58.886Z"
   },
   {
    "duration": 11,
    "start_time": "2024-06-15T00:45:06.400Z"
   },
   {
    "duration": 13,
    "start_time": "2024-06-15T00:45:14.899Z"
   },
   {
    "duration": 7,
    "start_time": "2024-06-15T00:45:28.935Z"
   },
   {
    "duration": 9,
    "start_time": "2024-06-15T00:45:35.959Z"
   },
   {
    "duration": 10,
    "start_time": "2024-06-15T00:45:39.157Z"
   },
   {
    "duration": 7,
    "start_time": "2024-06-15T00:46:12.367Z"
   },
   {
    "duration": 6,
    "start_time": "2024-06-15T00:46:19.272Z"
   },
   {
    "duration": 7,
    "start_time": "2024-06-15T00:46:24.013Z"
   },
   {
    "duration": 7,
    "start_time": "2024-06-15T00:46:30.500Z"
   },
   {
    "duration": 9,
    "start_time": "2024-06-15T00:46:39.178Z"
   },
   {
    "duration": 54,
    "start_time": "2024-06-15T20:30:32.494Z"
   },
   {
    "duration": 1360,
    "start_time": "2024-06-15T20:30:37.207Z"
   },
   {
    "duration": 319,
    "start_time": "2024-06-15T20:30:38.569Z"
   },
   {
    "duration": 22,
    "start_time": "2024-06-15T20:30:38.890Z"
   },
   {
    "duration": 8,
    "start_time": "2024-06-15T20:30:38.914Z"
   },
   {
    "duration": 11,
    "start_time": "2024-06-15T20:30:38.925Z"
   },
   {
    "duration": 74,
    "start_time": "2024-06-15T20:30:38.938Z"
   },
   {
    "duration": 100,
    "start_time": "2024-06-15T20:31:40.922Z"
   },
   {
    "duration": 10,
    "start_time": "2024-06-15T20:31:43.626Z"
   },
   {
    "duration": 11,
    "start_time": "2024-06-15T20:31:49.897Z"
   },
   {
    "duration": 13,
    "start_time": "2024-06-15T20:32:32.669Z"
   },
   {
    "duration": 13,
    "start_time": "2024-06-15T20:32:39.529Z"
   },
   {
    "duration": 14,
    "start_time": "2024-06-15T21:57:10.572Z"
   },
   {
    "duration": 13,
    "start_time": "2024-06-15T21:59:33.054Z"
   },
   {
    "duration": 1143,
    "start_time": "2024-06-15T21:59:46.739Z"
   },
   {
    "duration": 199,
    "start_time": "2024-06-15T21:59:47.884Z"
   },
   {
    "duration": 23,
    "start_time": "2024-06-15T21:59:48.085Z"
   },
   {
    "duration": 10,
    "start_time": "2024-06-15T21:59:48.110Z"
   },
   {
    "duration": 25,
    "start_time": "2024-06-15T21:59:48.122Z"
   },
   {
    "duration": 108,
    "start_time": "2024-06-15T21:59:54.006Z"
   },
   {
    "duration": 9,
    "start_time": "2024-06-15T21:59:57.318Z"
   },
   {
    "duration": 7,
    "start_time": "2024-06-15T22:00:32.797Z"
   },
   {
    "duration": 7,
    "start_time": "2024-06-15T22:00:34.800Z"
   },
   {
    "duration": 7,
    "start_time": "2024-06-15T22:00:36.492Z"
   },
   {
    "duration": 63,
    "start_time": "2024-06-15T22:00:55.154Z"
   },
   {
    "duration": 19,
    "start_time": "2024-06-15T22:01:03.582Z"
   },
   {
    "duration": 1102,
    "start_time": "2024-06-15T22:01:40.333Z"
   },
   {
    "duration": 13,
    "start_time": "2024-06-15T22:01:47.216Z"
   },
   {
    "duration": 21,
    "start_time": "2024-06-15T22:01:51.457Z"
   },
   {
    "duration": 18,
    "start_time": "2024-06-15T22:02:15.947Z"
   },
   {
    "duration": 8,
    "start_time": "2024-06-15T22:03:23.759Z"
   },
   {
    "duration": 1088,
    "start_time": "2024-06-15T22:03:27.342Z"
   },
   {
    "duration": 17,
    "start_time": "2024-06-15T22:03:32.938Z"
   },
   {
    "duration": 10,
    "start_time": "2024-06-15T22:04:04.054Z"
   },
   {
    "duration": 9,
    "start_time": "2024-06-15T22:04:37.408Z"
   },
   {
    "duration": 24,
    "start_time": "2024-06-15T22:04:38.081Z"
   },
   {
    "duration": 1031,
    "start_time": "2024-06-15T22:04:41.322Z"
   },
   {
    "duration": 1025,
    "start_time": "2024-06-15T22:04:44.246Z"
   },
   {
    "duration": 956,
    "start_time": "2024-06-15T22:04:48.806Z"
   },
   {
    "duration": 1060,
    "start_time": "2024-06-15T22:04:56.866Z"
   },
   {
    "duration": 1193,
    "start_time": "2024-06-15T22:05:32.243Z"
   },
   {
    "duration": 198,
    "start_time": "2024-06-15T22:05:33.438Z"
   },
   {
    "duration": 23,
    "start_time": "2024-06-15T22:05:33.638Z"
   },
   {
    "duration": 48,
    "start_time": "2024-06-15T22:05:33.663Z"
   },
   {
    "duration": 17,
    "start_time": "2024-06-15T22:05:33.712Z"
   },
   {
    "duration": 1042,
    "start_time": "2024-06-15T22:05:33.731Z"
   },
   {
    "duration": 77,
    "start_time": "2024-06-15T22:06:08.752Z"
   },
   {
    "duration": 10,
    "start_time": "2024-06-15T22:06:24.623Z"
   },
   {
    "duration": 995,
    "start_time": "2024-06-15T22:06:27.973Z"
   },
   {
    "duration": 12,
    "start_time": "2024-06-15T22:07:12.022Z"
   },
   {
    "duration": 18,
    "start_time": "2024-06-15T22:07:22.770Z"
   },
   {
    "duration": 1171,
    "start_time": "2024-06-15T22:08:05.007Z"
   },
   {
    "duration": 12,
    "start_time": "2024-06-15T22:08:24.879Z"
   },
   {
    "duration": 10,
    "start_time": "2024-06-15T22:08:25.288Z"
   },
   {
    "duration": 1050,
    "start_time": "2024-06-15T22:08:26.523Z"
   },
   {
    "duration": 10,
    "start_time": "2024-06-15T22:08:32.294Z"
   },
   {
    "duration": 1040,
    "start_time": "2024-06-15T22:08:32.846Z"
   },
   {
    "duration": 1265,
    "start_time": "2024-06-15T22:08:42.889Z"
   },
   {
    "duration": 205,
    "start_time": "2024-06-15T22:08:44.156Z"
   },
   {
    "duration": 38,
    "start_time": "2024-06-15T22:08:44.366Z"
   },
   {
    "duration": 9,
    "start_time": "2024-06-15T22:08:44.405Z"
   },
   {
    "duration": 11,
    "start_time": "2024-06-15T22:08:44.416Z"
   },
   {
    "duration": 33,
    "start_time": "2024-06-15T22:08:44.430Z"
   },
   {
    "duration": 116,
    "start_time": "2024-06-15T22:09:34.225Z"
   },
   {
    "duration": 942,
    "start_time": "2024-06-15T22:09:51.368Z"
   },
   {
    "duration": 70,
    "start_time": "2024-06-15T22:10:40.405Z"
   },
   {
    "duration": 33,
    "start_time": "2024-06-15T22:10:52.165Z"
   },
   {
    "duration": 64,
    "start_time": "2024-06-15T22:11:06.097Z"
   },
   {
    "duration": 87,
    "start_time": "2024-06-15T22:11:34.619Z"
   },
   {
    "duration": 103,
    "start_time": "2024-06-15T22:11:41.991Z"
   },
   {
    "duration": 83,
    "start_time": "2024-06-15T22:11:46.932Z"
   },
   {
    "duration": 104,
    "start_time": "2024-06-15T22:12:29.618Z"
   },
   {
    "duration": 8,
    "start_time": "2024-06-15T22:12:55.899Z"
   },
   {
    "duration": 13,
    "start_time": "2024-06-15T22:13:00.503Z"
   },
   {
    "duration": 32,
    "start_time": "2024-06-15T22:13:06.260Z"
   },
   {
    "duration": 1178,
    "start_time": "2024-06-15T22:13:48.162Z"
   },
   {
    "duration": 193,
    "start_time": "2024-06-15T22:13:49.343Z"
   },
   {
    "duration": 24,
    "start_time": "2024-06-15T22:13:49.538Z"
   },
   {
    "duration": 22,
    "start_time": "2024-06-15T22:13:49.564Z"
   },
   {
    "duration": 9,
    "start_time": "2024-06-15T22:13:49.588Z"
   },
   {
    "duration": 24,
    "start_time": "2024-06-15T22:13:49.599Z"
   },
   {
    "duration": 935,
    "start_time": "2024-06-15T22:13:49.624Z"
   },
   {
    "duration": 33,
    "start_time": "2024-06-15T22:13:50.561Z"
   },
   {
    "duration": 94,
    "start_time": "2024-06-15T22:13:50.595Z"
   },
   {
    "duration": 115,
    "start_time": "2024-06-15T22:13:50.691Z"
   },
   {
    "duration": 31,
    "start_time": "2024-06-15T22:13:50.808Z"
   },
   {
    "duration": 4,
    "start_time": "2024-06-15T22:14:23.382Z"
   },
   {
    "duration": 61,
    "start_time": "2024-06-15T22:14:58.419Z"
   },
   {
    "duration": 4,
    "start_time": "2024-06-15T22:15:18.498Z"
   },
   {
    "duration": 20,
    "start_time": "2024-06-15T22:15:34.269Z"
   },
   {
    "duration": 44,
    "start_time": "2024-06-15T22:18:32.929Z"
   },
   {
    "duration": 41,
    "start_time": "2024-06-15T22:18:51.587Z"
   },
   {
    "duration": 43,
    "start_time": "2024-06-15T22:19:10.321Z"
   },
   {
    "duration": 68,
    "start_time": "2024-06-15T22:19:17.867Z"
   },
   {
    "duration": 110,
    "start_time": "2024-06-15T22:59:43.756Z"
   },
   {
    "duration": 18,
    "start_time": "2024-06-15T22:59:48.835Z"
   },
   {
    "duration": 1000,
    "start_time": "2024-06-15T22:59:58.793Z"
   },
   {
    "duration": 21,
    "start_time": "2024-06-15T23:00:02.901Z"
   },
   {
    "duration": 26,
    "start_time": "2024-06-15T23:00:20.815Z"
   },
   {
    "duration": 86,
    "start_time": "2024-06-15T23:01:45.894Z"
   },
   {
    "duration": 5,
    "start_time": "2024-06-15T23:02:29.283Z"
   },
   {
    "duration": 74,
    "start_time": "2024-06-15T23:02:37.930Z"
   },
   {
    "duration": 75,
    "start_time": "2024-06-15T23:02:53.807Z"
   },
   {
    "duration": 61,
    "start_time": "2024-06-15T23:03:03.436Z"
   },
   {
    "duration": 83,
    "start_time": "2024-06-15T23:03:16.194Z"
   },
   {
    "duration": 96,
    "start_time": "2024-06-15T23:03:27.691Z"
   },
   {
    "duration": 24,
    "start_time": "2024-06-15T23:03:51.317Z"
   },
   {
    "duration": 25,
    "start_time": "2024-06-15T23:04:22.271Z"
   },
   {
    "duration": 22,
    "start_time": "2024-06-15T23:04:31.276Z"
   },
   {
    "duration": 68,
    "start_time": "2024-06-15T23:06:02.416Z"
   },
   {
    "duration": 61,
    "start_time": "2024-06-15T23:09:50.834Z"
   },
   {
    "duration": 24,
    "start_time": "2024-06-15T23:10:54.675Z"
   },
   {
    "duration": 27,
    "start_time": "2024-06-15T23:11:01.561Z"
   },
   {
    "duration": 24,
    "start_time": "2024-06-15T23:11:15.528Z"
   },
   {
    "duration": 183,
    "start_time": "2024-06-15T23:11:22.022Z"
   },
   {
    "duration": 234,
    "start_time": "2024-06-15T23:11:34.676Z"
   },
   {
    "duration": 23,
    "start_time": "2024-06-15T23:11:44.182Z"
   },
   {
    "duration": 27,
    "start_time": "2024-06-15T23:12:00.351Z"
   },
   {
    "duration": 29,
    "start_time": "2024-06-15T23:12:06.962Z"
   },
   {
    "duration": 65,
    "start_time": "2024-06-15T23:12:21.901Z"
   },
   {
    "duration": 28,
    "start_time": "2024-06-15T23:12:25.622Z"
   },
   {
    "duration": 142,
    "start_time": "2024-06-15T23:13:05.559Z"
   },
   {
    "duration": 165,
    "start_time": "2024-06-15T23:13:21.462Z"
   },
   {
    "duration": 184,
    "start_time": "2024-06-15T23:13:42.918Z"
   },
   {
    "duration": 159,
    "start_time": "2024-06-15T23:13:48.472Z"
   },
   {
    "duration": 172,
    "start_time": "2024-06-15T23:14:43.291Z"
   },
   {
    "duration": 31,
    "start_time": "2024-06-15T23:16:05.308Z"
   },
   {
    "duration": 31,
    "start_time": "2024-06-15T23:16:09.099Z"
   },
   {
    "duration": 26,
    "start_time": "2024-06-15T23:16:22.886Z"
   },
   {
    "duration": 21,
    "start_time": "2024-06-15T23:17:20.269Z"
   },
   {
    "duration": 155,
    "start_time": "2024-06-15T23:18:15.800Z"
   },
   {
    "duration": 269,
    "start_time": "2024-06-15T23:19:43.024Z"
   },
   {
    "duration": 171,
    "start_time": "2024-06-15T23:21:24.935Z"
   },
   {
    "duration": 151,
    "start_time": "2024-06-15T23:21:33.332Z"
   },
   {
    "duration": 65,
    "start_time": "2024-06-15T23:21:43.600Z"
   },
   {
    "duration": 67,
    "start_time": "2024-06-15T23:21:46.491Z"
   },
   {
    "duration": 152,
    "start_time": "2024-06-15T23:21:55.861Z"
   },
   {
    "duration": 67,
    "start_time": "2024-06-15T23:22:01.588Z"
   },
   {
    "duration": 139,
    "start_time": "2024-06-15T23:22:05.923Z"
   },
   {
    "duration": 68,
    "start_time": "2024-06-15T23:22:13.969Z"
   },
   {
    "duration": 197,
    "start_time": "2024-06-15T23:22:22.416Z"
   },
   {
    "duration": 754,
    "start_time": "2024-06-15T23:25:03.086Z"
   },
   {
    "duration": 730,
    "start_time": "2024-06-15T23:25:12.996Z"
   },
   {
    "duration": 741,
    "start_time": "2024-06-15T23:25:21.969Z"
   },
   {
    "duration": 70,
    "start_time": "2024-06-15T23:25:27.124Z"
   },
   {
    "duration": 87,
    "start_time": "2024-06-15T23:25:30.077Z"
   },
   {
    "duration": 833,
    "start_time": "2024-06-15T23:25:33.893Z"
   },
   {
    "duration": 71,
    "start_time": "2024-06-15T23:25:52.550Z"
   },
   {
    "duration": 735,
    "start_time": "2024-06-15T23:25:55.738Z"
   },
   {
    "duration": 16,
    "start_time": "2024-06-15T23:48:24.095Z"
   },
   {
    "duration": 1071,
    "start_time": "2024-06-15T23:48:37.786Z"
   },
   {
    "duration": 50,
    "start_time": "2024-06-15T23:48:48.235Z"
   },
   {
    "duration": 62,
    "start_time": "2024-06-15T23:48:53.036Z"
   },
   {
    "duration": 9,
    "start_time": "2024-06-15T23:51:27.558Z"
   },
   {
    "duration": 1021,
    "start_time": "2024-06-15T23:51:52.929Z"
   },
   {
    "duration": 61,
    "start_time": "2024-06-15T23:52:08.157Z"
   },
   {
    "duration": 114,
    "start_time": "2024-06-15T23:52:11.040Z"
   },
   {
    "duration": 140,
    "start_time": "2024-06-15T23:52:18.052Z"
   },
   {
    "duration": 321,
    "start_time": "2024-06-15T23:52:22.949Z"
   },
   {
    "duration": 1013,
    "start_time": "2024-06-15T23:53:44.108Z"
   },
   {
    "duration": 332,
    "start_time": "2024-06-15T23:53:51.765Z"
   },
   {
    "duration": 42,
    "start_time": "2024-06-17T03:57:03.948Z"
   },
   {
    "duration": 1172,
    "start_time": "2024-06-17T03:57:09.407Z"
   },
   {
    "duration": 757,
    "start_time": "2024-06-17T03:57:10.581Z"
   },
   {
    "duration": 15,
    "start_time": "2024-06-17T03:57:11.339Z"
   },
   {
    "duration": 5,
    "start_time": "2024-06-17T03:57:11.356Z"
   },
   {
    "duration": 6,
    "start_time": "2024-06-17T03:57:11.363Z"
   },
   {
    "duration": 26,
    "start_time": "2024-06-17T03:57:11.370Z"
   },
   {
    "duration": 810,
    "start_time": "2024-06-17T03:57:11.397Z"
   },
   {
    "duration": 16,
    "start_time": "2024-06-17T03:57:12.209Z"
   },
   {
    "duration": 77,
    "start_time": "2024-06-17T03:57:12.227Z"
   },
   {
    "duration": 89,
    "start_time": "2024-06-17T03:57:12.305Z"
   },
   {
    "duration": 21,
    "start_time": "2024-06-17T03:57:12.397Z"
   },
   {
    "duration": 4,
    "start_time": "2024-06-17T03:57:12.419Z"
   },
   {
    "duration": 21,
    "start_time": "2024-06-17T03:57:12.424Z"
   },
   {
    "duration": 54,
    "start_time": "2024-06-17T03:57:12.447Z"
   },
   {
    "duration": 17,
    "start_time": "2024-06-17T03:57:12.503Z"
   },
   {
    "duration": 19,
    "start_time": "2024-06-17T03:57:12.521Z"
   },
   {
    "duration": 167,
    "start_time": "2024-06-17T03:57:12.541Z"
   },
   {
    "duration": 468,
    "start_time": "2024-06-17T03:57:12.709Z"
   },
   {
    "duration": 48,
    "start_time": "2024-06-17T03:57:13.178Z"
   },
   {
    "duration": 237,
    "start_time": "2024-06-17T03:57:13.227Z"
   },
   {
    "duration": 96,
    "start_time": "2024-06-17T03:59:23.914Z"
   },
   {
    "duration": 39,
    "start_time": "2024-06-17T03:59:58.481Z"
   },
   {
    "duration": 1088,
    "start_time": "2024-06-17T04:00:08.059Z"
   },
   {
    "duration": 752,
    "start_time": "2024-06-17T04:00:09.149Z"
   },
   {
    "duration": 16,
    "start_time": "2024-06-17T04:00:09.902Z"
   },
   {
    "duration": 7,
    "start_time": "2024-06-17T04:00:09.920Z"
   },
   {
    "duration": 33,
    "start_time": "2024-06-17T04:00:09.930Z"
   },
   {
    "duration": 23,
    "start_time": "2024-06-17T04:00:09.964Z"
   },
   {
    "duration": 952,
    "start_time": "2024-06-17T04:00:09.988Z"
   },
   {
    "duration": 18,
    "start_time": "2024-06-17T04:00:10.941Z"
   },
   {
    "duration": 91,
    "start_time": "2024-06-17T04:00:10.960Z"
   },
   {
    "duration": 95,
    "start_time": "2024-06-17T04:00:11.052Z"
   },
   {
    "duration": 20,
    "start_time": "2024-06-17T04:00:11.149Z"
   },
   {
    "duration": 14,
    "start_time": "2024-06-17T04:00:11.170Z"
   },
   {
    "duration": 28,
    "start_time": "2024-06-17T04:00:11.185Z"
   },
   {
    "duration": 38,
    "start_time": "2024-06-17T04:00:11.216Z"
   },
   {
    "duration": 18,
    "start_time": "2024-06-17T04:00:11.255Z"
   },
   {
    "duration": 30,
    "start_time": "2024-06-17T04:00:11.274Z"
   },
   {
    "duration": 164,
    "start_time": "2024-06-17T04:00:11.305Z"
   },
   {
    "duration": 500,
    "start_time": "2024-06-17T04:00:11.470Z"
   },
   {
    "duration": 138,
    "start_time": "2024-06-17T04:00:11.972Z"
   },
   {
    "duration": 39,
    "start_time": "2024-06-17T04:16:23.521Z"
   },
   {
    "duration": 1039,
    "start_time": "2024-06-17T04:16:31.191Z"
   },
   {
    "duration": 741,
    "start_time": "2024-06-17T04:16:32.232Z"
   },
   {
    "duration": 17,
    "start_time": "2024-06-17T04:16:32.974Z"
   },
   {
    "duration": 7,
    "start_time": "2024-06-17T04:16:32.993Z"
   },
   {
    "duration": 7,
    "start_time": "2024-06-17T04:16:33.002Z"
   },
   {
    "duration": 24,
    "start_time": "2024-06-17T04:16:33.010Z"
   },
   {
    "duration": 842,
    "start_time": "2024-06-17T04:16:33.035Z"
   },
   {
    "duration": 21,
    "start_time": "2024-06-17T04:16:33.878Z"
   },
   {
    "duration": 67,
    "start_time": "2024-06-17T04:16:33.900Z"
   },
   {
    "duration": 95,
    "start_time": "2024-06-17T04:16:33.969Z"
   },
   {
    "duration": 30,
    "start_time": "2024-06-17T04:16:34.065Z"
   },
   {
    "duration": 7,
    "start_time": "2024-06-17T04:16:34.097Z"
   },
   {
    "duration": 30,
    "start_time": "2024-06-17T04:16:34.105Z"
   },
   {
    "duration": 41,
    "start_time": "2024-06-17T04:16:34.136Z"
   },
   {
    "duration": 18,
    "start_time": "2024-06-17T04:16:34.178Z"
   },
   {
    "duration": 18,
    "start_time": "2024-06-17T04:16:34.197Z"
   },
   {
    "duration": 147,
    "start_time": "2024-06-17T04:16:34.217Z"
   },
   {
    "duration": 418,
    "start_time": "2024-06-17T04:16:34.365Z"
   },
   {
    "duration": 88,
    "start_time": "2024-06-17T04:16:34.784Z"
   },
   {
    "duration": 28,
    "start_time": "2024-06-17T04:16:40.576Z"
   },
   {
    "duration": 39,
    "start_time": "2024-06-17T04:16:46.185Z"
   },
   {
    "duration": 33,
    "start_time": "2024-06-17T04:16:58.131Z"
   },
   {
    "duration": 727,
    "start_time": "2024-06-17T04:17:25.297Z"
   },
   {
    "duration": 745,
    "start_time": "2024-06-17T04:17:30.858Z"
   },
   {
    "duration": 43,
    "start_time": "2024-06-17T04:17:56.648Z"
   },
   {
    "duration": 6,
    "start_time": "2024-06-17T04:18:11.317Z"
   },
   {
    "duration": 43,
    "start_time": "2024-06-17T04:18:17.523Z"
   },
   {
    "duration": 33,
    "start_time": "2024-06-17T04:18:35.783Z"
   },
   {
    "duration": 32,
    "start_time": "2024-06-17T04:18:41.775Z"
   },
   {
    "duration": 49,
    "start_time": "2024-06-17T04:18:45.672Z"
   },
   {
    "duration": 758,
    "start_time": "2024-06-17T04:18:52.929Z"
   },
   {
    "duration": 26,
    "start_time": "2024-06-17T04:18:59.079Z"
   },
   {
    "duration": 717,
    "start_time": "2024-06-17T04:20:17.774Z"
   },
   {
    "duration": 734,
    "start_time": "2024-06-17T04:20:25.467Z"
   },
   {
    "duration": 48,
    "start_time": "2024-06-17T04:20:29.246Z"
   },
   {
    "duration": 10,
    "start_time": "2024-06-17T04:20:34.538Z"
   },
   {
    "duration": 726,
    "start_time": "2024-06-17T04:21:08.005Z"
   },
   {
    "duration": 30,
    "start_time": "2024-06-17T04:21:12.000Z"
   },
   {
    "duration": 30,
    "start_time": "2024-06-17T04:21:21.192Z"
   },
   {
    "duration": 29,
    "start_time": "2024-06-17T04:21:24.113Z"
   },
   {
    "duration": 41,
    "start_time": "2024-06-17T04:21:29.175Z"
   },
   {
    "duration": 714,
    "start_time": "2024-06-17T04:22:08.583Z"
   },
   {
    "duration": 779,
    "start_time": "2024-06-17T04:22:11.662Z"
   },
   {
    "duration": 34,
    "start_time": "2024-06-17T04:22:18.144Z"
   },
   {
    "duration": 201,
    "start_time": "2024-06-17T04:22:27.628Z"
   },
   {
    "duration": 185,
    "start_time": "2024-06-17T04:22:44.988Z"
   },
   {
    "duration": 428,
    "start_time": "2024-06-17T04:23:04.582Z"
   },
   {
    "duration": 72,
    "start_time": "2024-06-17T04:23:32.502Z"
   },
   {
    "duration": 40,
    "start_time": "2024-06-17T04:23:35.688Z"
   },
   {
    "duration": 33,
    "start_time": "2024-06-17T04:23:44.689Z"
   },
   {
    "duration": 32,
    "start_time": "2024-06-17T04:23:48.203Z"
   },
   {
    "duration": 50,
    "start_time": "2024-06-17T04:25:38.542Z"
   },
   {
    "duration": 31,
    "start_time": "2024-06-17T04:25:56.436Z"
   },
   {
    "duration": 30,
    "start_time": "2024-06-17T04:26:35.785Z"
   },
   {
    "duration": 114,
    "start_time": "2024-06-17T04:26:58.543Z"
   },
   {
    "duration": 109,
    "start_time": "2024-06-17T04:27:25.702Z"
   },
   {
    "duration": 141,
    "start_time": "2024-06-17T04:27:56.680Z"
   },
   {
    "duration": 106,
    "start_time": "2024-06-17T04:28:23.638Z"
   },
   {
    "duration": 336,
    "start_time": "2024-06-17T04:28:39.025Z"
   },
   {
    "duration": 348,
    "start_time": "2024-06-17T04:28:47.995Z"
   },
   {
    "duration": 157,
    "start_time": "2024-06-17T04:29:05.562Z"
   },
   {
    "duration": 42,
    "start_time": "2024-06-17T04:29:39.923Z"
   },
   {
    "duration": 214,
    "start_time": "2024-06-17T04:29:51.020Z"
   },
   {
    "duration": 111,
    "start_time": "2024-06-17T04:29:56.145Z"
   },
   {
    "duration": 57,
    "start_time": "2024-06-17T04:30:03.555Z"
   },
   {
    "duration": 43,
    "start_time": "2024-06-17T04:30:11.275Z"
   },
   {
    "duration": 113,
    "start_time": "2024-06-17T04:30:22.485Z"
   },
   {
    "duration": 133,
    "start_time": "2024-06-17T04:30:32.085Z"
   },
   {
    "duration": 106,
    "start_time": "2024-06-17T04:30:38.563Z"
   },
   {
    "duration": 42,
    "start_time": "2024-06-17T04:30:48.138Z"
   },
   {
    "duration": 112,
    "start_time": "2024-06-17T04:30:58.901Z"
   },
   {
    "duration": 125,
    "start_time": "2024-06-17T04:31:05.607Z"
   },
   {
    "duration": 115,
    "start_time": "2024-06-17T04:31:09.718Z"
   },
   {
    "duration": 115,
    "start_time": "2024-06-17T04:31:11.703Z"
   },
   {
    "duration": 120,
    "start_time": "2024-06-17T04:31:14.487Z"
   },
   {
    "duration": 42,
    "start_time": "2024-06-17T04:31:22.291Z"
   },
   {
    "duration": 60,
    "start_time": "2024-06-17T04:31:24.089Z"
   },
   {
    "duration": 57,
    "start_time": "2024-06-17T04:31:38.096Z"
   },
   {
    "duration": 124,
    "start_time": "2024-06-17T04:31:44.822Z"
   },
   {
    "duration": 53,
    "start_time": "2024-06-17T04:31:54.327Z"
   },
   {
    "duration": 43,
    "start_time": "2024-06-17T04:31:55.896Z"
   },
   {
    "duration": 800,
    "start_time": "2024-06-17T04:32:19.685Z"
   },
   {
    "duration": 127,
    "start_time": "2024-06-17T04:32:25.495Z"
   },
   {
    "duration": 124,
    "start_time": "2024-06-17T04:36:34.618Z"
   },
   {
    "duration": 40,
    "start_time": "2024-06-17T04:36:38.691Z"
   },
   {
    "duration": 91,
    "start_time": "2024-06-17T04:36:45.628Z"
   },
   {
    "duration": 41,
    "start_time": "2024-06-17T04:36:51.184Z"
   },
   {
    "duration": 41,
    "start_time": "2024-06-17T04:36:55.747Z"
   },
   {
    "duration": 42,
    "start_time": "2024-06-17T04:37:03.082Z"
   },
   {
    "duration": 41,
    "start_time": "2024-06-17T04:37:09.080Z"
   },
   {
    "duration": 42,
    "start_time": "2024-06-17T04:37:13.642Z"
   },
   {
    "duration": 55,
    "start_time": "2024-06-17T04:38:19.279Z"
   },
   {
    "duration": 179,
    "start_time": "2024-06-17T04:38:27.713Z"
   },
   {
    "duration": 46,
    "start_time": "2024-06-17T04:43:07.126Z"
   },
   {
    "duration": 45,
    "start_time": "2024-06-17T04:43:23.910Z"
   },
   {
    "duration": 46,
    "start_time": "2024-06-17T04:43:28.981Z"
   },
   {
    "duration": 50,
    "start_time": "2024-06-17T04:43:45.295Z"
   },
   {
    "duration": 145,
    "start_time": "2024-06-17T04:43:48.410Z"
   },
   {
    "duration": 230,
    "start_time": "2024-06-17T04:44:00.284Z"
   },
   {
    "duration": 139,
    "start_time": "2024-06-17T04:44:09.600Z"
   },
   {
    "duration": 142,
    "start_time": "2024-06-17T04:44:18.263Z"
   },
   {
    "duration": 47,
    "start_time": "2024-06-17T04:45:59.560Z"
   },
   {
    "duration": 725,
    "start_time": "2024-06-17T04:46:10.720Z"
   },
   {
    "duration": 1219,
    "start_time": "2024-06-17T04:46:15.888Z"
   },
   {
    "duration": 1284,
    "start_time": "2024-06-17T04:46:28.903Z"
   },
   {
    "duration": 651,
    "start_time": "2024-06-17T04:46:42.238Z"
   },
   {
    "duration": 45,
    "start_time": "2024-06-17T04:46:54.284Z"
   },
   {
    "duration": 1208,
    "start_time": "2024-06-17T04:47:23.099Z"
   },
   {
    "duration": 272,
    "start_time": "2024-06-17T04:47:53.612Z"
   },
   {
    "duration": 303,
    "start_time": "2024-06-17T04:48:03.019Z"
   },
   {
    "duration": 134,
    "start_time": "2024-06-17T04:48:14.627Z"
   },
   {
    "duration": 241,
    "start_time": "2024-06-17T04:48:22.092Z"
   },
   {
    "duration": 56,
    "start_time": "2024-06-17T04:48:36.176Z"
   },
   {
    "duration": 45,
    "start_time": "2024-06-17T04:48:38.675Z"
   },
   {
    "duration": 44,
    "start_time": "2024-06-17T04:48:40.660Z"
   },
   {
    "duration": 235,
    "start_time": "2024-06-17T04:48:45.419Z"
   },
   {
    "duration": 119,
    "start_time": "2024-06-17T04:50:11.103Z"
   },
   {
    "duration": 125,
    "start_time": "2024-06-17T04:50:18.410Z"
   },
   {
    "duration": 115,
    "start_time": "2024-06-17T04:50:39.630Z"
   },
   {
    "duration": 113,
    "start_time": "2024-06-17T04:50:59.530Z"
   },
   {
    "duration": 118,
    "start_time": "2024-06-17T04:51:08.327Z"
   },
   {
    "duration": 114,
    "start_time": "2024-06-17T04:51:27.041Z"
   },
   {
    "duration": 46,
    "start_time": "2024-06-17T18:09:31.750Z"
   },
   {
    "duration": 1167,
    "start_time": "2024-06-17T18:09:38.280Z"
   },
   {
    "duration": 808,
    "start_time": "2024-06-17T18:09:39.449Z"
   },
   {
    "duration": 17,
    "start_time": "2024-06-17T18:09:40.258Z"
   },
   {
    "duration": 14,
    "start_time": "2024-06-17T18:09:40.277Z"
   },
   {
    "duration": 6,
    "start_time": "2024-06-17T18:09:40.293Z"
   },
   {
    "duration": 24,
    "start_time": "2024-06-17T18:09:40.301Z"
   },
   {
    "duration": 912,
    "start_time": "2024-06-17T18:09:40.327Z"
   },
   {
    "duration": 20,
    "start_time": "2024-06-17T18:09:41.240Z"
   },
   {
    "duration": 88,
    "start_time": "2024-06-17T18:09:41.261Z"
   },
   {
    "duration": 103,
    "start_time": "2024-06-17T18:09:41.351Z"
   },
   {
    "duration": 24,
    "start_time": "2024-06-17T18:09:41.455Z"
   },
   {
    "duration": 3,
    "start_time": "2024-06-17T18:09:41.481Z"
   },
   {
    "duration": 37,
    "start_time": "2024-06-17T18:09:41.486Z"
   },
   {
    "duration": 38,
    "start_time": "2024-06-17T18:09:41.526Z"
   },
   {
    "duration": 22,
    "start_time": "2024-06-17T18:09:41.565Z"
   },
   {
    "duration": 45,
    "start_time": "2024-06-17T18:09:41.588Z"
   },
   {
    "duration": 168,
    "start_time": "2024-06-17T18:09:41.635Z"
   },
   {
    "duration": 515,
    "start_time": "2024-06-17T18:09:41.805Z"
   },
   {
    "duration": 219,
    "start_time": "2024-06-17T18:09:42.321Z"
   },
   {
    "duration": 37,
    "start_time": "2024-06-17T18:10:59.689Z"
   },
   {
    "duration": 39,
    "start_time": "2024-06-17T18:11:19.891Z"
   },
   {
    "duration": 33,
    "start_time": "2024-06-17T18:11:48.653Z"
   },
   {
    "duration": 124,
    "start_time": "2024-06-17T18:14:18.533Z"
   },
   {
    "duration": 184,
    "start_time": "2024-06-17T18:14:34.253Z"
   },
   {
    "duration": 65,
    "start_time": "2024-06-17T18:15:56.308Z"
   },
   {
    "duration": 4,
    "start_time": "2024-06-17T18:16:11.852Z"
   },
   {
    "duration": 49,
    "start_time": "2024-06-17T18:16:15.123Z"
   },
   {
    "duration": 38,
    "start_time": "2024-06-17T18:16:21.508Z"
   },
   {
    "duration": 39,
    "start_time": "2024-06-17T18:16:29.049Z"
   },
   {
    "duration": 120,
    "start_time": "2024-06-17T18:16:50.080Z"
   },
   {
    "duration": 177,
    "start_time": "2024-06-17T18:17:15.799Z"
   },
   {
    "duration": 131,
    "start_time": "2024-06-17T18:17:22.773Z"
   },
   {
    "duration": 49,
    "start_time": "2024-06-17T18:17:53.358Z"
   },
   {
    "duration": 49,
    "start_time": "2024-06-17T18:18:01.715Z"
   },
   {
    "duration": 54,
    "start_time": "2024-06-17T18:18:04.560Z"
   },
   {
    "duration": 48,
    "start_time": "2024-06-17T18:18:26.163Z"
   },
   {
    "duration": 131,
    "start_time": "2024-06-17T18:18:31.359Z"
   },
   {
    "duration": 175,
    "start_time": "2024-06-17T18:18:53.599Z"
   },
   {
    "duration": 61,
    "start_time": "2024-06-17T18:19:10.959Z"
   },
   {
    "duration": 131,
    "start_time": "2024-06-17T18:19:17.372Z"
   },
   {
    "duration": 54,
    "start_time": "2024-06-17T18:21:38.321Z"
   },
   {
    "duration": 453,
    "start_time": "2024-06-17T18:22:42.153Z"
   },
   {
    "duration": 406,
    "start_time": "2024-06-17T18:23:02.863Z"
   },
   {
    "duration": 566,
    "start_time": "2024-06-17T18:23:21.848Z"
   },
   {
    "duration": 501,
    "start_time": "2024-06-17T18:23:42.214Z"
   },
   {
    "duration": 608,
    "start_time": "2024-06-17T18:24:19.896Z"
   },
   {
    "duration": 513,
    "start_time": "2024-06-17T18:24:24.430Z"
   },
   {
    "duration": 607,
    "start_time": "2024-06-17T18:24:30.421Z"
   },
   {
    "duration": 552,
    "start_time": "2024-06-17T18:24:43.275Z"
   },
   {
    "duration": 49,
    "start_time": "2024-06-17T18:25:10.050Z"
   },
   {
    "duration": 234,
    "start_time": "2024-06-17T18:25:18.627Z"
   },
   {
    "duration": 228,
    "start_time": "2024-06-17T18:25:32.018Z"
   },
   {
    "duration": 228,
    "start_time": "2024-06-17T18:25:47.103Z"
   },
   {
    "duration": 802,
    "start_time": "2024-06-17T18:40:16.211Z"
   },
   {
    "duration": 53,
    "start_time": "2024-06-17T18:40:26.096Z"
   },
   {
    "duration": 54,
    "start_time": "2024-06-17T18:40:34.897Z"
   },
   {
    "duration": 539,
    "start_time": "2024-06-17T18:40:43.282Z"
   },
   {
    "duration": 515,
    "start_time": "2024-06-17T18:41:10.430Z"
   },
   {
    "duration": 358,
    "start_time": "2024-06-17T18:41:29.764Z"
   },
   {
    "duration": 479,
    "start_time": "2024-06-17T18:42:13.795Z"
   },
   {
    "duration": 57,
    "start_time": "2024-06-17T18:42:47.964Z"
   },
   {
    "duration": 516,
    "start_time": "2024-06-17T18:42:54.165Z"
   },
   {
    "duration": 513,
    "start_time": "2024-06-17T18:44:01.365Z"
   },
   {
    "duration": 716,
    "start_time": "2024-06-17T18:44:29.719Z"
   },
   {
    "duration": 603,
    "start_time": "2024-06-17T18:44:56.904Z"
   },
   {
    "duration": 626,
    "start_time": "2024-06-17T18:45:04.082Z"
   },
   {
    "duration": 43,
    "start_time": "2024-06-18T02:19:12.798Z"
   },
   {
    "duration": 1156,
    "start_time": "2024-06-18T02:19:18.252Z"
   },
   {
    "duration": 253,
    "start_time": "2024-06-18T02:19:19.410Z"
   },
   {
    "duration": 16,
    "start_time": "2024-06-18T02:19:19.665Z"
   },
   {
    "duration": 9,
    "start_time": "2024-06-18T02:19:19.682Z"
   },
   {
    "duration": 11,
    "start_time": "2024-06-18T02:19:19.692Z"
   },
   {
    "duration": 34,
    "start_time": "2024-06-18T02:19:19.704Z"
   },
   {
    "duration": 884,
    "start_time": "2024-06-18T02:19:19.739Z"
   },
   {
    "duration": 18,
    "start_time": "2024-06-18T02:19:20.624Z"
   },
   {
    "duration": 89,
    "start_time": "2024-06-18T02:19:20.644Z"
   },
   {
    "duration": 100,
    "start_time": "2024-06-18T02:19:20.734Z"
   },
   {
    "duration": 21,
    "start_time": "2024-06-18T02:19:20.836Z"
   },
   {
    "duration": 5,
    "start_time": "2024-06-18T02:19:20.858Z"
   },
   {
    "duration": 19,
    "start_time": "2024-06-18T02:19:20.864Z"
   },
   {
    "duration": 50,
    "start_time": "2024-06-18T02:19:20.885Z"
   },
   {
    "duration": 19,
    "start_time": "2024-06-18T02:19:20.937Z"
   },
   {
    "duration": 21,
    "start_time": "2024-06-18T02:19:20.957Z"
   },
   {
    "duration": 168,
    "start_time": "2024-06-18T02:19:20.979Z"
   },
   {
    "duration": 527,
    "start_time": "2024-06-18T02:19:21.148Z"
   },
   {
    "duration": 544,
    "start_time": "2024-06-18T02:19:21.677Z"
   },
   {
    "duration": 520,
    "start_time": "2024-06-18T02:24:03.041Z"
   },
   {
    "duration": 36,
    "start_time": "2024-06-18T02:24:45.913Z"
   },
   {
    "duration": 14,
    "start_time": "2024-06-18T02:24:57.542Z"
   },
   {
    "duration": 29,
    "start_time": "2024-06-18T02:25:11.091Z"
   },
   {
    "duration": 19,
    "start_time": "2024-06-18T02:25:32.073Z"
   },
   {
    "duration": 20,
    "start_time": "2024-06-18T02:25:49.406Z"
   },
   {
    "duration": 19,
    "start_time": "2024-06-18T02:26:45.926Z"
   },
   {
    "duration": 32,
    "start_time": "2024-06-18T02:26:55.798Z"
   },
   {
    "duration": 58,
    "start_time": "2024-06-18T02:27:11.986Z"
   },
   {
    "duration": 19,
    "start_time": "2024-06-18T02:27:17.777Z"
   },
   {
    "duration": 63,
    "start_time": "2024-06-18T02:29:00.032Z"
   },
   {
    "duration": 57,
    "start_time": "2024-06-18T02:29:03.864Z"
   },
   {
    "duration": 63,
    "start_time": "2024-06-18T02:29:06.622Z"
   },
   {
    "duration": 60,
    "start_time": "2024-06-18T02:29:22.357Z"
   },
   {
    "duration": 4,
    "start_time": "2024-06-18T02:29:29.843Z"
   },
   {
    "duration": 19,
    "start_time": "2024-06-18T02:29:31.599Z"
   },
   {
    "duration": 22,
    "start_time": "2024-06-18T02:29:41.413Z"
   },
   {
    "duration": 561,
    "start_time": "2024-06-18T02:30:06.096Z"
   },
   {
    "duration": 20,
    "start_time": "2024-06-18T02:30:43.169Z"
   },
   {
    "duration": 56,
    "start_time": "2024-06-18T02:31:29.548Z"
   },
   {
    "duration": 28,
    "start_time": "2024-06-18T02:31:39.425Z"
   },
   {
    "duration": 63,
    "start_time": "2024-06-18T02:31:51.105Z"
   },
   {
    "duration": 84,
    "start_time": "2024-06-18T02:31:59.066Z"
   },
   {
    "duration": 93,
    "start_time": "2024-06-18T02:32:15.992Z"
   },
   {
    "duration": 987,
    "start_time": "2024-06-18T02:32:33.142Z"
   },
   {
    "duration": 146,
    "start_time": "2024-06-18T02:32:34.131Z"
   },
   {
    "duration": 16,
    "start_time": "2024-06-18T02:32:34.279Z"
   },
   {
    "duration": 46,
    "start_time": "2024-06-18T02:32:34.301Z"
   },
   {
    "duration": 104,
    "start_time": "2024-06-18T02:32:34.349Z"
   },
   {
    "duration": 23,
    "start_time": "2024-06-18T02:32:34.455Z"
   },
   {
    "duration": 842,
    "start_time": "2024-06-18T02:32:34.480Z"
   },
   {
    "duration": 19,
    "start_time": "2024-06-18T02:32:35.323Z"
   },
   {
    "duration": 82,
    "start_time": "2024-06-18T02:32:35.343Z"
   },
   {
    "duration": 101,
    "start_time": "2024-06-18T02:32:35.427Z"
   },
   {
    "duration": 28,
    "start_time": "2024-06-18T02:32:35.529Z"
   },
   {
    "duration": 7,
    "start_time": "2024-06-18T02:32:35.558Z"
   },
   {
    "duration": 18,
    "start_time": "2024-06-18T02:32:35.567Z"
   },
   {
    "duration": 47,
    "start_time": "2024-06-18T02:32:35.586Z"
   },
   {
    "duration": 19,
    "start_time": "2024-06-18T02:32:35.634Z"
   },
   {
    "duration": 20,
    "start_time": "2024-06-18T02:32:35.654Z"
   },
   {
    "duration": 166,
    "start_time": "2024-06-18T02:32:35.676Z"
   },
   {
    "duration": 466,
    "start_time": "2024-06-18T02:32:35.843Z"
   },
   {
    "duration": 501,
    "start_time": "2024-06-18T02:32:36.310Z"
   },
   {
    "duration": 56,
    "start_time": "2024-06-18T02:32:36.812Z"
   },
   {
    "duration": 0,
    "start_time": "2024-06-18T02:32:36.869Z"
   },
   {
    "duration": 28,
    "start_time": "2024-06-18T02:32:45.153Z"
   },
   {
    "duration": 29,
    "start_time": "2024-06-18T02:32:52.196Z"
   },
   {
    "duration": 63,
    "start_time": "2024-06-18T02:32:57.909Z"
   },
   {
    "duration": 27,
    "start_time": "2024-06-18T02:33:04.952Z"
   },
   {
    "duration": 27,
    "start_time": "2024-06-18T02:33:18.026Z"
   },
   {
    "duration": 56,
    "start_time": "2024-06-18T02:33:26.032Z"
   },
   {
    "duration": 71,
    "start_time": "2024-06-18T02:33:30.612Z"
   },
   {
    "duration": 57,
    "start_time": "2024-06-18T02:33:54.680Z"
   },
   {
    "duration": 71,
    "start_time": "2024-06-18T02:34:20.371Z"
   },
   {
    "duration": 65,
    "start_time": "2024-06-18T02:36:38.380Z"
   },
   {
    "duration": 60,
    "start_time": "2024-06-18T02:36:52.174Z"
   },
   {
    "duration": 67,
    "start_time": "2024-06-18T02:36:57.659Z"
   },
   {
    "duration": 59,
    "start_time": "2024-06-18T02:37:04.265Z"
   },
   {
    "duration": 48,
    "start_time": "2024-06-18T02:37:23.124Z"
   },
   {
    "duration": 33,
    "start_time": "2024-06-18T02:37:31.133Z"
   },
   {
    "duration": 27,
    "start_time": "2024-06-18T02:37:43.866Z"
   },
   {
    "duration": 113,
    "start_time": "2024-06-18T02:38:04.999Z"
   },
   {
    "duration": 36,
    "start_time": "2024-06-18T02:38:08.840Z"
   },
   {
    "duration": 24,
    "start_time": "2024-06-18T02:38:23.553Z"
   },
   {
    "duration": 93,
    "start_time": "2024-06-18T02:38:31.706Z"
   },
   {
    "duration": 36,
    "start_time": "2024-06-18T02:38:33.975Z"
   },
   {
    "duration": 42,
    "start_time": "2024-06-18T02:38:43.582Z"
   },
   {
    "duration": 23,
    "start_time": "2024-06-18T02:38:59.945Z"
   },
   {
    "duration": 30,
    "start_time": "2024-06-18T02:39:02.449Z"
   },
   {
    "duration": 25,
    "start_time": "2024-06-18T02:39:15.336Z"
   },
   {
    "duration": 124,
    "start_time": "2024-06-18T02:39:48.539Z"
   },
   {
    "duration": 994,
    "start_time": "2024-06-18T02:41:08.232Z"
   },
   {
    "duration": 155,
    "start_time": "2024-06-18T02:41:09.228Z"
   },
   {
    "duration": 23,
    "start_time": "2024-06-18T02:41:09.384Z"
   },
   {
    "duration": 7,
    "start_time": "2024-06-18T02:41:09.408Z"
   },
   {
    "duration": 9,
    "start_time": "2024-06-18T02:41:09.417Z"
   },
   {
    "duration": 31,
    "start_time": "2024-06-18T02:41:09.427Z"
   },
   {
    "duration": 873,
    "start_time": "2024-06-18T02:41:09.460Z"
   },
   {
    "duration": 21,
    "start_time": "2024-06-18T02:41:10.335Z"
   },
   {
    "duration": 103,
    "start_time": "2024-06-18T02:41:10.358Z"
   },
   {
    "duration": 95,
    "start_time": "2024-06-18T02:41:10.462Z"
   },
   {
    "duration": 21,
    "start_time": "2024-06-18T02:41:10.559Z"
   },
   {
    "duration": 4,
    "start_time": "2024-06-18T02:41:10.581Z"
   },
   {
    "duration": 28,
    "start_time": "2024-06-18T02:41:10.586Z"
   },
   {
    "duration": 41,
    "start_time": "2024-06-18T02:41:10.616Z"
   },
   {
    "duration": 18,
    "start_time": "2024-06-18T02:41:10.658Z"
   },
   {
    "duration": 31,
    "start_time": "2024-06-18T02:41:10.677Z"
   },
   {
    "duration": 148,
    "start_time": "2024-06-18T02:41:10.710Z"
   },
   {
    "duration": 486,
    "start_time": "2024-06-18T02:41:10.859Z"
   },
   {
    "duration": 491,
    "start_time": "2024-06-18T02:41:11.346Z"
   },
   {
    "duration": 34,
    "start_time": "2024-06-18T02:41:11.838Z"
   },
   {
    "duration": 36,
    "start_time": "2024-06-18T02:41:11.873Z"
   },
   {
    "duration": 42,
    "start_time": "2024-06-18T02:46:20.185Z"
   },
   {
    "duration": 1079,
    "start_time": "2024-06-18T02:46:26.064Z"
   },
   {
    "duration": 268,
    "start_time": "2024-06-18T02:46:27.144Z"
   },
   {
    "duration": 17,
    "start_time": "2024-06-18T02:46:27.413Z"
   },
   {
    "duration": 17,
    "start_time": "2024-06-18T02:46:27.432Z"
   },
   {
    "duration": 7,
    "start_time": "2024-06-18T02:46:27.450Z"
   },
   {
    "duration": 29,
    "start_time": "2024-06-18T02:46:27.458Z"
   },
   {
    "duration": 841,
    "start_time": "2024-06-18T02:46:27.488Z"
   },
   {
    "duration": 17,
    "start_time": "2024-06-18T02:46:28.330Z"
   },
   {
    "duration": 129,
    "start_time": "2024-06-18T02:46:28.349Z"
   },
   {
    "duration": 119,
    "start_time": "2024-06-18T02:46:28.480Z"
   },
   {
    "duration": 23,
    "start_time": "2024-06-18T02:46:28.600Z"
   },
   {
    "duration": 4,
    "start_time": "2024-06-18T02:46:28.624Z"
   },
   {
    "duration": 24,
    "start_time": "2024-06-18T02:46:28.629Z"
   },
   {
    "duration": 48,
    "start_time": "2024-06-18T02:46:28.655Z"
   },
   {
    "duration": 20,
    "start_time": "2024-06-18T02:46:28.705Z"
   },
   {
    "duration": 24,
    "start_time": "2024-06-18T02:46:28.726Z"
   },
   {
    "duration": 180,
    "start_time": "2024-06-18T02:46:28.751Z"
   },
   {
    "duration": 479,
    "start_time": "2024-06-18T02:46:28.933Z"
   },
   {
    "duration": 515,
    "start_time": "2024-06-18T02:46:29.413Z"
   },
   {
    "duration": 34,
    "start_time": "2024-06-18T02:46:29.929Z"
   },
   {
    "duration": 42,
    "start_time": "2024-06-18T02:46:29.964Z"
   },
   {
    "duration": 12,
    "start_time": "2024-06-18T02:46:30.008Z"
   },
   {
    "duration": 62,
    "start_time": "2024-06-18T02:46:41.859Z"
   },
   {
    "duration": 82,
    "start_time": "2024-06-18T02:47:20.347Z"
   },
   {
    "duration": 88,
    "start_time": "2024-06-18T02:47:30.452Z"
   },
   {
    "duration": 91,
    "start_time": "2024-06-18T02:47:36.267Z"
   },
   {
    "duration": 93,
    "start_time": "2024-06-18T02:47:43.775Z"
   },
   {
    "duration": 93,
    "start_time": "2024-06-18T02:47:48.370Z"
   },
   {
    "duration": 135,
    "start_time": "2024-06-18T02:47:50.862Z"
   },
   {
    "duration": 422,
    "start_time": "2024-06-18T02:49:35.808Z"
   },
   {
    "duration": 37,
    "start_time": "2024-06-18T02:59:54.399Z"
   },
   {
    "duration": 21,
    "start_time": "2024-06-18T03:00:11.351Z"
   },
   {
    "duration": 20,
    "start_time": "2024-06-18T03:00:31.275Z"
   },
   {
    "duration": 3,
    "start_time": "2024-06-18T03:00:56.771Z"
   },
   {
    "duration": 88,
    "start_time": "2024-06-18T03:01:00.586Z"
   },
   {
    "duration": 11,
    "start_time": "2024-06-18T03:01:05.652Z"
   },
   {
    "duration": 24,
    "start_time": "2024-06-18T03:01:08.045Z"
   },
   {
    "duration": 24,
    "start_time": "2024-06-18T03:01:14.372Z"
   },
   {
    "duration": 7,
    "start_time": "2024-06-18T03:02:01.653Z"
   },
   {
    "duration": 7,
    "start_time": "2024-06-18T03:02:05.219Z"
   },
   {
    "duration": 13,
    "start_time": "2024-06-18T03:02:10.876Z"
   },
   {
    "duration": 10,
    "start_time": "2024-06-18T03:02:16.535Z"
   },
   {
    "duration": 877,
    "start_time": "2024-06-18T03:04:35.385Z"
   },
   {
    "duration": 7,
    "start_time": "2024-06-18T03:04:41.973Z"
   },
   {
    "duration": 12,
    "start_time": "2024-06-18T03:05:12.144Z"
   },
   {
    "duration": 22,
    "start_time": "2024-06-18T03:05:30.975Z"
   },
   {
    "duration": 11,
    "start_time": "2024-06-18T03:09:06.988Z"
   },
   {
    "duration": 46,
    "start_time": "2024-06-18T03:09:14.754Z"
   },
   {
    "duration": 19,
    "start_time": "2024-06-18T03:13:39.500Z"
   },
   {
    "duration": 22,
    "start_time": "2024-06-18T03:13:45.855Z"
   },
   {
    "duration": 19,
    "start_time": "2024-06-18T03:13:48.556Z"
   },
   {
    "duration": 19,
    "start_time": "2024-06-18T03:13:50.919Z"
   },
   {
    "duration": 20,
    "start_time": "2024-06-18T03:13:53.393Z"
   },
   {
    "duration": 19,
    "start_time": "2024-06-18T03:13:58.112Z"
   },
   {
    "duration": 18,
    "start_time": "2024-06-18T03:14:30.407Z"
   },
   {
    "duration": 18,
    "start_time": "2024-06-18T03:14:43.203Z"
   },
   {
    "duration": 20,
    "start_time": "2024-06-18T03:15:07.519Z"
   },
   {
    "duration": 17,
    "start_time": "2024-06-18T03:20:50.742Z"
   },
   {
    "duration": 8,
    "start_time": "2024-06-18T03:20:58.044Z"
   },
   {
    "duration": 47,
    "start_time": "2024-06-18T03:40:21.791Z"
   },
   {
    "duration": 1063,
    "start_time": "2024-06-18T03:41:06.858Z"
   },
   {
    "duration": 1100,
    "start_time": "2024-06-18T03:41:18.111Z"
   },
   {
    "duration": 60,
    "start_time": "2024-06-18T03:41:26.490Z"
   },
   {
    "duration": 1175,
    "start_time": "2024-06-18T03:41:29.571Z"
   },
   {
    "duration": 47,
    "start_time": "2024-06-18T03:41:47.500Z"
   },
   {
    "duration": 43,
    "start_time": "2024-06-18T03:41:52.852Z"
   },
   {
    "duration": 46,
    "start_time": "2024-06-18T03:41:57.033Z"
   },
   {
    "duration": 46,
    "start_time": "2024-06-18T03:42:09.436Z"
   },
   {
    "duration": 7,
    "start_time": "2024-06-18T03:42:21.398Z"
   },
   {
    "duration": 8,
    "start_time": "2024-06-18T03:42:28.652Z"
   },
   {
    "duration": 7,
    "start_time": "2024-06-18T03:42:32.046Z"
   },
   {
    "duration": 10,
    "start_time": "2024-06-18T03:42:38.724Z"
   },
   {
    "duration": 10,
    "start_time": "2024-06-18T03:42:46.307Z"
   },
   {
    "duration": 9,
    "start_time": "2024-06-18T03:44:19.726Z"
   },
   {
    "duration": 10,
    "start_time": "2024-06-18T03:48:29.925Z"
   },
   {
    "duration": 991,
    "start_time": "2024-06-18T03:48:38.353Z"
   },
   {
    "duration": 147,
    "start_time": "2024-06-18T03:48:39.347Z"
   },
   {
    "duration": 17,
    "start_time": "2024-06-18T03:48:39.497Z"
   },
   {
    "duration": 6,
    "start_time": "2024-06-18T03:48:39.516Z"
   },
   {
    "duration": 9,
    "start_time": "2024-06-18T03:48:39.523Z"
   },
   {
    "duration": 27,
    "start_time": "2024-06-18T03:48:39.533Z"
   },
   {
    "duration": 855,
    "start_time": "2024-06-18T03:48:39.561Z"
   },
   {
    "duration": 19,
    "start_time": "2024-06-18T03:48:40.417Z"
   },
   {
    "duration": 87,
    "start_time": "2024-06-18T03:48:40.437Z"
   },
   {
    "duration": 102,
    "start_time": "2024-06-18T03:48:40.525Z"
   },
   {
    "duration": 33,
    "start_time": "2024-06-18T03:48:40.629Z"
   },
   {
    "duration": 4,
    "start_time": "2024-06-18T03:48:40.664Z"
   },
   {
    "duration": 33,
    "start_time": "2024-06-18T03:48:40.670Z"
   },
   {
    "duration": 35,
    "start_time": "2024-06-18T03:48:40.705Z"
   },
   {
    "duration": 18,
    "start_time": "2024-06-18T03:48:40.742Z"
   },
   {
    "duration": 70,
    "start_time": "2024-06-18T03:48:40.761Z"
   },
   {
    "duration": 152,
    "start_time": "2024-06-18T03:48:40.832Z"
   },
   {
    "duration": 491,
    "start_time": "2024-06-18T03:48:40.985Z"
   },
   {
    "duration": 571,
    "start_time": "2024-06-18T03:48:41.477Z"
   },
   {
    "duration": 34,
    "start_time": "2024-06-18T03:48:42.050Z"
   },
   {
    "duration": 36,
    "start_time": "2024-06-18T03:48:42.085Z"
   },
   {
    "duration": 133,
    "start_time": "2024-06-18T03:48:42.123Z"
   },
   {
    "duration": 21,
    "start_time": "2024-06-18T03:48:42.258Z"
   },
   {
    "duration": 55,
    "start_time": "2024-06-18T03:48:42.280Z"
   },
   {
    "duration": 9,
    "start_time": "2024-06-18T03:48:42.336Z"
   },
   {
    "duration": 96,
    "start_time": "2024-06-18T03:48:42.346Z"
   },
   {
    "duration": 3,
    "start_time": "2024-06-18T03:49:51.605Z"
   },
   {
    "duration": 8,
    "start_time": "2024-06-18T03:49:55.955Z"
   },
   {
    "duration": 6,
    "start_time": "2024-06-18T03:50:05.563Z"
   },
   {
    "duration": 8,
    "start_time": "2024-06-18T03:50:14.457Z"
   },
   {
    "duration": 13,
    "start_time": "2024-06-18T03:50:48.352Z"
   },
   {
    "duration": 1049,
    "start_time": "2024-06-18T03:50:58.240Z"
   },
   {
    "duration": 1075,
    "start_time": "2024-06-18T03:51:07.919Z"
   },
   {
    "duration": 10,
    "start_time": "2024-06-18T03:51:15.233Z"
   },
   {
    "duration": 1145,
    "start_time": "2024-06-18T03:51:33.926Z"
   },
   {
    "duration": 49,
    "start_time": "2024-06-18T03:52:00.479Z"
   },
   {
    "duration": 47,
    "start_time": "2024-06-18T03:52:22.642Z"
   },
   {
    "duration": 47,
    "start_time": "2024-06-18T03:52:51.180Z"
   },
   {
    "duration": 61,
    "start_time": "2024-06-18T03:53:06.912Z"
   },
   {
    "duration": 1078,
    "start_time": "2024-06-18T03:54:07.546Z"
   },
   {
    "duration": 47,
    "start_time": "2024-06-18T03:54:19.571Z"
   },
   {
    "duration": 1156,
    "start_time": "2024-06-18T03:56:10.642Z"
   },
   {
    "duration": 8,
    "start_time": "2024-06-18T03:56:22.548Z"
   },
   {
    "duration": 1042,
    "start_time": "2024-06-18T03:56:29.839Z"
   },
   {
    "duration": 60,
    "start_time": "2024-06-18T03:56:52.307Z"
   },
   {
    "duration": 45,
    "start_time": "2024-06-18T03:57:07.053Z"
   },
   {
    "duration": 50,
    "start_time": "2024-06-18T03:57:17.938Z"
   },
   {
    "duration": 47,
    "start_time": "2024-06-18T03:57:21.760Z"
   },
   {
    "duration": 1143,
    "start_time": "2024-06-18T03:57:27.892Z"
   },
   {
    "duration": 997,
    "start_time": "2024-06-18T03:57:31.966Z"
   },
   {
    "duration": 47,
    "start_time": "2024-06-18T03:57:35.320Z"
   },
   {
    "duration": 47,
    "start_time": "2024-06-18T03:57:45.050Z"
   },
   {
    "duration": 1004,
    "start_time": "2024-06-18T03:57:51.732Z"
   },
   {
    "duration": 160,
    "start_time": "2024-06-18T03:57:52.737Z"
   },
   {
    "duration": 16,
    "start_time": "2024-06-18T03:57:52.898Z"
   },
   {
    "duration": 7,
    "start_time": "2024-06-18T03:57:52.915Z"
   },
   {
    "duration": 7,
    "start_time": "2024-06-18T03:57:52.923Z"
   },
   {
    "duration": 28,
    "start_time": "2024-06-18T03:57:52.930Z"
   },
   {
    "duration": 846,
    "start_time": "2024-06-18T03:57:52.959Z"
   },
   {
    "duration": 17,
    "start_time": "2024-06-18T03:57:53.807Z"
   },
   {
    "duration": 78,
    "start_time": "2024-06-18T03:57:53.825Z"
   },
   {
    "duration": 100,
    "start_time": "2024-06-18T03:57:53.905Z"
   },
   {
    "duration": 22,
    "start_time": "2024-06-18T03:57:54.006Z"
   },
   {
    "duration": 4,
    "start_time": "2024-06-18T03:57:54.029Z"
   },
   {
    "duration": 33,
    "start_time": "2024-06-18T03:57:54.034Z"
   },
   {
    "duration": 62,
    "start_time": "2024-06-18T03:57:54.069Z"
   },
   {
    "duration": 19,
    "start_time": "2024-06-18T03:57:54.132Z"
   },
   {
    "duration": 20,
    "start_time": "2024-06-18T03:57:54.153Z"
   },
   {
    "duration": 164,
    "start_time": "2024-06-18T03:57:54.174Z"
   },
   {
    "duration": 475,
    "start_time": "2024-06-18T03:57:54.339Z"
   },
   {
    "duration": 497,
    "start_time": "2024-06-18T03:57:54.815Z"
   },
   {
    "duration": 35,
    "start_time": "2024-06-18T03:57:55.314Z"
   },
   {
    "duration": 26,
    "start_time": "2024-06-18T03:57:55.350Z"
   },
   {
    "duration": 109,
    "start_time": "2024-06-18T03:57:55.377Z"
   },
   {
    "duration": 34,
    "start_time": "2024-06-18T03:57:55.487Z"
   },
   {
    "duration": 48,
    "start_time": "2024-06-18T03:57:55.522Z"
   },
   {
    "duration": 9,
    "start_time": "2024-06-18T03:57:55.571Z"
   },
   {
    "duration": 1067,
    "start_time": "2024-06-18T03:57:55.582Z"
   },
   {
    "duration": 12,
    "start_time": "2024-06-18T03:58:05.229Z"
   },
   {
    "duration": 514,
    "start_time": "2024-06-18T03:58:53.659Z"
   },
   {
    "duration": 523,
    "start_time": "2024-06-18T03:58:57.016Z"
   },
   {
    "duration": 501,
    "start_time": "2024-06-18T03:59:12.331Z"
   },
   {
    "duration": 11,
    "start_time": "2024-06-18T03:59:29.915Z"
   },
   {
    "duration": 9,
    "start_time": "2024-06-18T03:59:37.306Z"
   },
   {
    "duration": 598,
    "start_time": "2024-06-18T04:00:22.091Z"
   },
   {
    "duration": 4,
    "start_time": "2024-06-18T04:01:09.447Z"
   },
   {
    "duration": 5,
    "start_time": "2024-06-18T04:01:13.238Z"
   },
   {
    "duration": 548,
    "start_time": "2024-06-18T04:01:26.833Z"
   },
   {
    "duration": 1414,
    "start_time": "2024-06-18T22:16:48.766Z"
   },
   {
    "duration": 296,
    "start_time": "2024-06-18T22:16:50.182Z"
   },
   {
    "duration": 23,
    "start_time": "2024-06-18T22:16:50.480Z"
   },
   {
    "duration": 8,
    "start_time": "2024-06-18T22:16:50.505Z"
   },
   {
    "duration": 9,
    "start_time": "2024-06-18T22:16:50.514Z"
   },
   {
    "duration": 19,
    "start_time": "2024-06-18T22:16:50.525Z"
   },
   {
    "duration": 1079,
    "start_time": "2024-06-18T22:16:50.545Z"
   },
   {
    "duration": 27,
    "start_time": "2024-06-18T22:16:51.625Z"
   },
   {
    "duration": 103,
    "start_time": "2024-06-18T22:16:51.654Z"
   },
   {
    "duration": 124,
    "start_time": "2024-06-18T22:16:51.760Z"
   },
   {
    "duration": 32,
    "start_time": "2024-06-18T22:16:51.886Z"
   },
   {
    "duration": 4,
    "start_time": "2024-06-18T22:16:51.920Z"
   },
   {
    "duration": 22,
    "start_time": "2024-06-18T22:16:51.926Z"
   },
   {
    "duration": 69,
    "start_time": "2024-06-18T22:16:51.950Z"
   },
   {
    "duration": 24,
    "start_time": "2024-06-18T22:16:52.021Z"
   },
   {
    "duration": 39,
    "start_time": "2024-06-18T22:16:52.047Z"
   },
   {
    "duration": 209,
    "start_time": "2024-06-18T22:16:52.088Z"
   },
   {
    "duration": 723,
    "start_time": "2024-06-18T22:16:52.298Z"
   },
   {
    "duration": 688,
    "start_time": "2024-06-18T22:16:53.023Z"
   },
   {
    "duration": 53,
    "start_time": "2024-06-18T22:16:53.712Z"
   },
   {
    "duration": 44,
    "start_time": "2024-06-18T22:16:53.766Z"
   },
   {
    "duration": 144,
    "start_time": "2024-06-18T22:16:53.812Z"
   },
   {
    "duration": 41,
    "start_time": "2024-06-18T22:16:53.957Z"
   },
   {
    "duration": 56,
    "start_time": "2024-06-18T22:16:54.000Z"
   },
   {
    "duration": 123,
    "start_time": "2024-06-18T22:16:54.057Z"
   },
   {
    "duration": 0,
    "start_time": "2024-06-18T22:16:54.182Z"
   },
   {
    "duration": 8,
    "start_time": "2024-06-18T22:17:01.820Z"
   },
   {
    "duration": 1028,
    "start_time": "2024-06-18T22:17:34.718Z"
   },
   {
    "duration": 1233,
    "start_time": "2024-06-18T22:18:14.772Z"
   },
   {
    "duration": 1011,
    "start_time": "2024-06-18T22:18:38.949Z"
   },
   {
    "duration": 9,
    "start_time": "2024-06-18T22:19:12.619Z"
   },
   {
    "duration": 12,
    "start_time": "2024-06-18T22:19:16.576Z"
   },
   {
    "duration": 15,
    "start_time": "2024-06-18T22:19:23.331Z"
   },
   {
    "duration": 270,
    "start_time": "2024-06-18T22:19:44.588Z"
   },
   {
    "duration": 13,
    "start_time": "2024-06-18T22:19:52.976Z"
   },
   {
    "duration": 13,
    "start_time": "2024-06-18T22:20:11.492Z"
   },
   {
    "duration": 12,
    "start_time": "2024-06-18T22:20:36.447Z"
   },
   {
    "duration": 112,
    "start_time": "2024-06-18T22:20:47.943Z"
   },
   {
    "duration": 112,
    "start_time": "2024-06-18T22:21:11.476Z"
   },
   {
    "duration": 12,
    "start_time": "2024-06-18T22:21:21.449Z"
   },
   {
    "duration": 13,
    "start_time": "2024-06-18T22:21:27.666Z"
   },
   {
    "duration": 14,
    "start_time": "2024-06-18T22:21:45.042Z"
   },
   {
    "duration": 80,
    "start_time": "2024-06-18T22:22:07.069Z"
   },
   {
    "duration": 199,
    "start_time": "2024-06-18T22:22:14.333Z"
   },
   {
    "duration": 13,
    "start_time": "2024-06-18T22:22:30.214Z"
   },
   {
    "duration": 17,
    "start_time": "2024-06-18T22:22:39.712Z"
   },
   {
    "duration": 109,
    "start_time": "2024-06-18T22:22:45.550Z"
   },
   {
    "duration": 102,
    "start_time": "2024-06-18T22:22:52.044Z"
   },
   {
    "duration": 113,
    "start_time": "2024-06-18T22:23:00.679Z"
   },
   {
    "duration": 160,
    "start_time": "2024-06-18T22:23:15.986Z"
   },
   {
    "duration": 72,
    "start_time": "2024-06-18T22:23:25.019Z"
   },
   {
    "duration": 114,
    "start_time": "2024-06-18T22:23:35.792Z"
   },
   {
    "duration": 159,
    "start_time": "2024-06-18T22:24:03.879Z"
   },
   {
    "duration": 112,
    "start_time": "2024-06-18T22:24:08.359Z"
   },
   {
    "duration": 13,
    "start_time": "2024-06-18T22:24:40.591Z"
   },
   {
    "duration": 13,
    "start_time": "2024-06-18T22:24:43.466Z"
   },
   {
    "duration": 107,
    "start_time": "2024-06-18T22:25:36.400Z"
   },
   {
    "duration": 111,
    "start_time": "2024-06-18T22:26:18.110Z"
   },
   {
    "duration": 126,
    "start_time": "2024-06-18T22:26:21.378Z"
   },
   {
    "duration": 103,
    "start_time": "2024-06-18T22:26:35.056Z"
   },
   {
    "duration": 112,
    "start_time": "2024-06-18T22:26:39.416Z"
   },
   {
    "duration": 64,
    "start_time": "2024-06-18T22:27:44.740Z"
   },
   {
    "duration": 55,
    "start_time": "2024-06-18T22:27:48.903Z"
   },
   {
    "duration": 163,
    "start_time": "2024-06-18T22:28:10.097Z"
   },
   {
    "duration": 140,
    "start_time": "2024-06-18T22:28:23.119Z"
   },
   {
    "duration": 261,
    "start_time": "2024-06-18T22:28:29.695Z"
   },
   {
    "duration": 174,
    "start_time": "2024-06-18T22:29:07.734Z"
   },
   {
    "duration": 148,
    "start_time": "2024-06-18T22:29:11.562Z"
   },
   {
    "duration": 139,
    "start_time": "2024-06-18T22:29:14.534Z"
   },
   {
    "duration": 181,
    "start_time": "2024-06-18T22:29:21.884Z"
   },
   {
    "duration": 165,
    "start_time": "2024-06-18T22:29:28.388Z"
   },
   {
    "duration": 165,
    "start_time": "2024-06-18T22:31:30.986Z"
   },
   {
    "duration": 155,
    "start_time": "2024-06-18T22:32:43.636Z"
   },
   {
    "duration": 157,
    "start_time": "2024-06-18T22:32:54.342Z"
   },
   {
    "duration": 161,
    "start_time": "2024-06-18T22:33:54.735Z"
   },
   {
    "duration": 160,
    "start_time": "2024-06-18T22:34:02.516Z"
   },
   {
    "duration": 173,
    "start_time": "2024-06-18T22:43:37.035Z"
   },
   {
    "duration": 523,
    "start_time": "2024-06-18T22:45:28.561Z"
   },
   {
    "duration": 151,
    "start_time": "2024-06-18T22:47:06.433Z"
   },
   {
    "duration": 153,
    "start_time": "2024-06-18T22:47:30.119Z"
   },
   {
    "duration": 170,
    "start_time": "2024-06-18T22:47:41.672Z"
   },
   {
    "duration": 73,
    "start_time": "2024-06-19T15:27:32.584Z"
   },
   {
    "duration": 45,
    "start_time": "2024-06-19T15:36:12.723Z"
   },
   {
    "duration": 1394,
    "start_time": "2024-06-19T15:36:18.335Z"
   },
   {
    "duration": 337,
    "start_time": "2024-06-19T15:36:19.731Z"
   },
   {
    "duration": 23,
    "start_time": "2024-06-19T15:36:20.070Z"
   },
   {
    "duration": 8,
    "start_time": "2024-06-19T15:36:20.095Z"
   },
   {
    "duration": 13,
    "start_time": "2024-06-19T15:36:20.105Z"
   },
   {
    "duration": 52,
    "start_time": "2024-06-19T15:36:20.120Z"
   },
   {
    "duration": 1004,
    "start_time": "2024-06-19T15:36:20.174Z"
   },
   {
    "duration": 27,
    "start_time": "2024-06-19T15:36:21.180Z"
   },
   {
    "duration": 108,
    "start_time": "2024-06-19T15:36:21.208Z"
   },
   {
    "duration": 121,
    "start_time": "2024-06-19T15:36:21.318Z"
   },
   {
    "duration": 36,
    "start_time": "2024-06-19T15:36:21.441Z"
   },
   {
    "duration": 4,
    "start_time": "2024-06-19T15:36:21.479Z"
   },
   {
    "duration": 32,
    "start_time": "2024-06-19T15:36:21.485Z"
   },
   {
    "duration": 61,
    "start_time": "2024-06-19T15:36:21.520Z"
   },
   {
    "duration": 23,
    "start_time": "2024-06-19T15:36:21.582Z"
   },
   {
    "duration": 64,
    "start_time": "2024-06-19T15:36:21.607Z"
   },
   {
    "duration": 202,
    "start_time": "2024-06-19T15:36:21.673Z"
   },
   {
    "duration": 705,
    "start_time": "2024-06-19T15:36:21.876Z"
   },
   {
    "duration": 675,
    "start_time": "2024-06-19T15:36:22.583Z"
   },
   {
    "duration": 53,
    "start_time": "2024-06-19T15:36:23.259Z"
   },
   {
    "duration": 50,
    "start_time": "2024-06-19T15:36:23.314Z"
   },
   {
    "duration": 174,
    "start_time": "2024-06-19T15:36:23.366Z"
   },
   {
    "duration": 30,
    "start_time": "2024-06-19T15:36:23.541Z"
   },
   {
    "duration": 117,
    "start_time": "2024-06-19T15:36:23.573Z"
   },
   {
    "duration": 0,
    "start_time": "2024-06-19T15:36:23.692Z"
   },
   {
    "duration": 0,
    "start_time": "2024-06-19T15:36:23.693Z"
   },
   {
    "duration": 9,
    "start_time": "2024-06-19T15:37:05.732Z"
   },
   {
    "duration": 14,
    "start_time": "2024-06-19T15:37:09.204Z"
   },
   {
    "duration": 13,
    "start_time": "2024-06-19T15:37:19.335Z"
   },
   {
    "duration": 1183,
    "start_time": "2024-06-19T15:37:29.918Z"
   },
   {
    "duration": 196,
    "start_time": "2024-06-19T15:37:31.105Z"
   },
   {
    "duration": 23,
    "start_time": "2024-06-19T15:37:31.304Z"
   },
   {
    "duration": 87,
    "start_time": "2024-06-19T15:37:31.329Z"
   },
   {
    "duration": 35,
    "start_time": "2024-06-19T15:37:31.417Z"
   },
   {
    "duration": 79,
    "start_time": "2024-06-19T15:37:31.455Z"
   },
   {
    "duration": 1007,
    "start_time": "2024-06-19T15:37:31.536Z"
   },
   {
    "duration": 34,
    "start_time": "2024-06-19T15:37:32.545Z"
   },
   {
    "duration": 101,
    "start_time": "2024-06-19T15:37:32.582Z"
   },
   {
    "duration": 123,
    "start_time": "2024-06-19T15:37:32.685Z"
   },
   {
    "duration": 32,
    "start_time": "2024-06-19T15:37:32.810Z"
   },
   {
    "duration": 17,
    "start_time": "2024-06-19T15:37:32.844Z"
   },
   {
    "duration": 23,
    "start_time": "2024-06-19T15:37:32.863Z"
   },
   {
    "duration": 42,
    "start_time": "2024-06-19T15:37:32.888Z"
   },
   {
    "duration": 37,
    "start_time": "2024-06-19T15:37:32.931Z"
   },
   {
    "duration": 28,
    "start_time": "2024-06-19T15:37:32.970Z"
   },
   {
    "duration": 217,
    "start_time": "2024-06-19T15:37:32.999Z"
   },
   {
    "duration": 693,
    "start_time": "2024-06-19T15:37:33.218Z"
   },
   {
    "duration": 678,
    "start_time": "2024-06-19T15:37:33.913Z"
   },
   {
    "duration": 52,
    "start_time": "2024-06-19T15:37:34.593Z"
   },
   {
    "duration": 51,
    "start_time": "2024-06-19T15:37:34.647Z"
   },
   {
    "duration": 134,
    "start_time": "2024-06-19T15:37:34.700Z"
   },
   {
    "duration": 32,
    "start_time": "2024-06-19T15:37:34.836Z"
   },
   {
    "duration": 55,
    "start_time": "2024-06-19T15:37:34.870Z"
   },
   {
    "duration": 8,
    "start_time": "2024-06-19T15:37:34.926Z"
   },
   {
    "duration": 188,
    "start_time": "2024-06-19T15:37:34.935Z"
   },
   {
    "duration": 1441,
    "start_time": "2024-06-19T15:45:26.155Z"
   },
   {
    "duration": 1282,
    "start_time": "2024-06-19T15:45:49.836Z"
   },
   {
    "duration": 1168,
    "start_time": "2024-06-19T15:46:52.493Z"
   },
   {
    "duration": 1144,
    "start_time": "2024-06-19T15:47:09.784Z"
   },
   {
    "duration": 9,
    "start_time": "2024-06-19T15:47:20.282Z"
   },
   {
    "duration": 4,
    "start_time": "2024-06-19T15:52:27.691Z"
   },
   {
    "duration": 9,
    "start_time": "2024-06-19T15:52:30.696Z"
   },
   {
    "duration": 154,
    "start_time": "2024-06-19T15:52:35.181Z"
   },
   {
    "duration": 3,
    "start_time": "2024-06-19T15:52:39.499Z"
   },
   {
    "duration": 11,
    "start_time": "2024-06-19T15:54:28.198Z"
   },
   {
    "duration": 11,
    "start_time": "2024-06-19T15:54:42.477Z"
   },
   {
    "duration": 4,
    "start_time": "2024-06-19T15:56:00.288Z"
   },
   {
    "duration": 4,
    "start_time": "2024-06-19T15:56:14.436Z"
   },
   {
    "duration": 13,
    "start_time": "2024-06-19T15:56:22.727Z"
   },
   {
    "duration": 80,
    "start_time": "2024-06-19T15:57:28.882Z"
   },
   {
    "duration": 14,
    "start_time": "2024-06-19T15:57:32.921Z"
   },
   {
    "duration": 15,
    "start_time": "2024-06-19T15:57:44.242Z"
   },
   {
    "duration": 3390,
    "start_time": "2024-06-19T15:59:33.863Z"
   },
   {
    "duration": 5,
    "start_time": "2024-06-19T16:00:23.882Z"
   },
   {
    "duration": 5,
    "start_time": "2024-06-19T16:00:42.903Z"
   },
   {
    "duration": 3,
    "start_time": "2024-06-19T16:00:59.389Z"
   },
   {
    "duration": 6,
    "start_time": "2024-06-19T16:01:17.787Z"
   },
   {
    "duration": 6,
    "start_time": "2024-06-19T16:01:19.878Z"
   },
   {
    "duration": 1427,
    "start_time": "2024-06-19T16:01:30.382Z"
   },
   {
    "duration": 201,
    "start_time": "2024-06-19T16:01:31.811Z"
   },
   {
    "duration": 23,
    "start_time": "2024-06-19T16:01:32.013Z"
   },
   {
    "duration": 24,
    "start_time": "2024-06-19T16:01:32.038Z"
   },
   {
    "duration": 9,
    "start_time": "2024-06-19T16:01:32.063Z"
   },
   {
    "duration": 24,
    "start_time": "2024-06-19T16:01:32.073Z"
   },
   {
    "duration": 977,
    "start_time": "2024-06-19T16:01:32.098Z"
   },
   {
    "duration": 29,
    "start_time": "2024-06-19T16:01:33.076Z"
   },
   {
    "duration": 112,
    "start_time": "2024-06-19T16:01:33.107Z"
   },
   {
    "duration": 126,
    "start_time": "2024-06-19T16:01:33.222Z"
   },
   {
    "duration": 36,
    "start_time": "2024-06-19T16:01:33.350Z"
   },
   {
    "duration": 23,
    "start_time": "2024-06-19T16:01:33.388Z"
   },
   {
    "duration": 24,
    "start_time": "2024-06-19T16:01:33.412Z"
   },
   {
    "duration": 57,
    "start_time": "2024-06-19T16:01:33.437Z"
   },
   {
    "duration": 23,
    "start_time": "2024-06-19T16:01:33.496Z"
   },
   {
    "duration": 51,
    "start_time": "2024-06-19T16:01:33.521Z"
   },
   {
    "duration": 213,
    "start_time": "2024-06-19T16:01:33.574Z"
   },
   {
    "duration": 754,
    "start_time": "2024-06-19T16:01:33.789Z"
   },
   {
    "duration": 682,
    "start_time": "2024-06-19T16:01:34.546Z"
   },
   {
    "duration": 63,
    "start_time": "2024-06-19T16:01:35.230Z"
   },
   {
    "duration": 56,
    "start_time": "2024-06-19T16:01:35.295Z"
   },
   {
    "duration": 120,
    "start_time": "2024-06-19T16:01:35.353Z"
   },
   {
    "duration": 27,
    "start_time": "2024-06-19T16:01:35.475Z"
   },
   {
    "duration": 78,
    "start_time": "2024-06-19T16:01:35.504Z"
   },
   {
    "duration": 8,
    "start_time": "2024-06-19T16:01:35.584Z"
   },
   {
    "duration": 287,
    "start_time": "2024-06-19T16:01:35.593Z"
   },
   {
    "duration": 6,
    "start_time": "2024-06-19T16:01:35.882Z"
   },
   {
    "duration": 9,
    "start_time": "2024-06-19T16:02:36.372Z"
   },
   {
    "duration": 6,
    "start_time": "2024-06-19T16:02:57.177Z"
   },
   {
    "duration": 3,
    "start_time": "2024-06-19T16:03:24.653Z"
   },
   {
    "duration": 137,
    "start_time": "2024-06-19T16:03:31.789Z"
   },
   {
    "duration": 4,
    "start_time": "2024-06-19T16:03:35.241Z"
   },
   {
    "duration": 4,
    "start_time": "2024-06-19T16:03:43.432Z"
   },
   {
    "duration": 13,
    "start_time": "2024-06-19T16:03:58.922Z"
   },
   {
    "duration": 4,
    "start_time": "2024-06-19T16:04:47.875Z"
   },
   {
    "duration": 4,
    "start_time": "2024-06-19T16:05:05.402Z"
   },
   {
    "duration": 4,
    "start_time": "2024-06-19T16:05:09.846Z"
   },
   {
    "duration": 81,
    "start_time": "2024-06-19T16:07:51.814Z"
   },
   {
    "duration": 4,
    "start_time": "2024-06-19T16:07:55.358Z"
   },
   {
    "duration": 4,
    "start_time": "2024-06-19T16:08:23.321Z"
   },
   {
    "duration": 114,
    "start_time": "2024-06-19T16:09:46.191Z"
   },
   {
    "duration": 10,
    "start_time": "2024-06-19T16:10:05.913Z"
   },
   {
    "duration": 10,
    "start_time": "2024-06-19T16:10:35.222Z"
   },
   {
    "duration": 12,
    "start_time": "2024-06-19T16:10:50.549Z"
   },
   {
    "duration": 9,
    "start_time": "2024-06-19T16:11:30.445Z"
   },
   {
    "duration": 11,
    "start_time": "2024-06-19T16:13:45.572Z"
   },
   {
    "duration": 1080,
    "start_time": "2024-06-19T16:14:11.225Z"
   },
   {
    "duration": 2388,
    "start_time": "2024-06-19T16:14:30.611Z"
   },
   {
    "duration": 280,
    "start_time": "2024-06-19T16:14:45.357Z"
   },
   {
    "duration": 107,
    "start_time": "2024-06-19T16:14:58.390Z"
   },
   {
    "duration": 5,
    "start_time": "2024-06-19T16:15:11.537Z"
   },
   {
    "duration": 1587,
    "start_time": "2024-06-19T16:15:20.276Z"
   },
   {
    "duration": 2915,
    "start_time": "2024-06-19T16:15:30.718Z"
   },
   {
    "duration": 7,
    "start_time": "2024-06-19T16:15:47.947Z"
   },
   {
    "duration": 5,
    "start_time": "2024-06-19T16:16:39.266Z"
   },
   {
    "duration": 7,
    "start_time": "2024-06-19T16:17:17.543Z"
   },
   {
    "duration": 16,
    "start_time": "2024-06-19T16:17:49.952Z"
   },
   {
    "duration": 13,
    "start_time": "2024-06-19T16:17:56.631Z"
   },
   {
    "duration": 8,
    "start_time": "2024-06-19T16:18:05.534Z"
   },
   {
    "duration": 7,
    "start_time": "2024-06-19T16:18:21.277Z"
   },
   {
    "duration": 11,
    "start_time": "2024-06-19T16:20:39.085Z"
   },
   {
    "duration": 11,
    "start_time": "2024-06-19T16:20:55.939Z"
   },
   {
    "duration": 9,
    "start_time": "2024-06-19T16:56:11.980Z"
   },
   {
    "duration": 11,
    "start_time": "2024-06-19T16:56:18.556Z"
   },
   {
    "duration": 5,
    "start_time": "2024-06-19T16:56:32.417Z"
   },
   {
    "duration": 14,
    "start_time": "2024-06-19T16:57:10.084Z"
   },
   {
    "duration": 4,
    "start_time": "2024-06-19T16:57:23.511Z"
   },
   {
    "duration": 13,
    "start_time": "2024-06-19T16:57:27.966Z"
   },
   {
    "duration": 4,
    "start_time": "2024-06-19T16:57:40.704Z"
   },
   {
    "duration": 4,
    "start_time": "2024-06-19T16:57:43.230Z"
   },
   {
    "duration": 7,
    "start_time": "2024-06-19T16:57:50.474Z"
   },
   {
    "duration": 11,
    "start_time": "2024-06-19T16:58:25.362Z"
   },
   {
    "duration": 5,
    "start_time": "2024-06-19T16:58:39.672Z"
   },
   {
    "duration": 9,
    "start_time": "2024-06-19T16:58:48.856Z"
   },
   {
    "duration": 10,
    "start_time": "2024-06-19T17:02:57.423Z"
   },
   {
    "duration": 65,
    "start_time": "2024-06-19T17:05:22.664Z"
   },
   {
    "duration": 59,
    "start_time": "2024-06-19T17:05:45.420Z"
   },
   {
    "duration": 88,
    "start_time": "2024-06-19T17:06:29.971Z"
   },
   {
    "duration": 65,
    "start_time": "2024-06-19T17:06:58.512Z"
   },
   {
    "duration": 114,
    "start_time": "2024-06-19T17:07:01.987Z"
   },
   {
    "duration": 83,
    "start_time": "2024-06-19T17:07:05.613Z"
   },
   {
    "duration": 64,
    "start_time": "2024-06-19T17:07:19.316Z"
   },
   {
    "duration": 59,
    "start_time": "2024-06-19T17:07:27.521Z"
   },
   {
    "duration": 4,
    "start_time": "2024-06-19T17:07:42.266Z"
   },
   {
    "duration": 11,
    "start_time": "2024-06-19T17:08:00.242Z"
   },
   {
    "duration": 11,
    "start_time": "2024-06-19T17:09:29.891Z"
   },
   {
    "duration": 14,
    "start_time": "2024-06-19T17:09:45.514Z"
   },
   {
    "duration": 12,
    "start_time": "2024-06-19T17:09:48.747Z"
   },
   {
    "duration": 16,
    "start_time": "2024-06-19T17:10:48.157Z"
   },
   {
    "duration": 20,
    "start_time": "2024-06-19T17:11:03.619Z"
   },
   {
    "duration": 12,
    "start_time": "2024-06-19T17:11:09.253Z"
   },
   {
    "duration": 15,
    "start_time": "2024-06-19T17:11:50.490Z"
   },
   {
    "duration": 12,
    "start_time": "2024-06-19T17:11:55.179Z"
   },
   {
    "duration": 14,
    "start_time": "2024-06-19T17:12:51.631Z"
   },
   {
    "duration": 12,
    "start_time": "2024-06-19T17:12:58.580Z"
   },
   {
    "duration": 6,
    "start_time": "2024-06-19T17:13:20.518Z"
   },
   {
    "duration": 14,
    "start_time": "2024-06-19T17:13:26.322Z"
   },
   {
    "duration": 9,
    "start_time": "2024-06-19T17:24:59.571Z"
   },
   {
    "duration": 193,
    "start_time": "2024-06-19T17:25:20.902Z"
   },
   {
    "duration": 14,
    "start_time": "2024-06-19T17:25:22.517Z"
   },
   {
    "duration": 12,
    "start_time": "2024-06-19T17:25:22.833Z"
   },
   {
    "duration": 188,
    "start_time": "2024-06-19T17:25:45.130Z"
   },
   {
    "duration": 14,
    "start_time": "2024-06-19T17:25:46.810Z"
   },
   {
    "duration": 15,
    "start_time": "2024-06-19T17:25:47.127Z"
   },
   {
    "duration": 9,
    "start_time": "2024-06-19T17:25:49.979Z"
   },
   {
    "duration": 12,
    "start_time": "2024-06-19T17:26:06.865Z"
   },
   {
    "duration": 11,
    "start_time": "2024-06-19T17:26:16.006Z"
   },
   {
    "duration": 7,
    "start_time": "2024-06-19T17:26:21.211Z"
   },
   {
    "duration": 3,
    "start_time": "2024-06-19T17:26:27.274Z"
   },
   {
    "duration": 10,
    "start_time": "2024-06-19T17:26:47.018Z"
   },
   {
    "duration": 13,
    "start_time": "2024-06-19T17:27:12.735Z"
   },
   {
    "duration": 14,
    "start_time": "2024-06-19T17:27:39.275Z"
   },
   {
    "duration": 19,
    "start_time": "2024-06-19T17:27:54.370Z"
   },
   {
    "duration": 13,
    "start_time": "2024-06-19T17:27:58.922Z"
   },
   {
    "duration": 22,
    "start_time": "2024-06-19T17:28:02.150Z"
   },
   {
    "duration": 14,
    "start_time": "2024-06-19T17:28:13.371Z"
   },
   {
    "duration": 15,
    "start_time": "2024-06-19T17:28:17.714Z"
   },
   {
    "duration": 14,
    "start_time": "2024-06-19T17:28:23.814Z"
   },
   {
    "duration": 15,
    "start_time": "2024-06-19T17:28:55.274Z"
   },
   {
    "duration": 21,
    "start_time": "2024-06-19T17:29:06.019Z"
   },
   {
    "duration": 14,
    "start_time": "2024-06-19T17:29:17.218Z"
   },
   {
    "duration": 15,
    "start_time": "2024-06-19T17:29:36.327Z"
   },
   {
    "duration": 6,
    "start_time": "2024-06-19T17:33:27.713Z"
   },
   {
    "duration": 20,
    "start_time": "2024-06-19T17:33:33.352Z"
   },
   {
    "duration": 1267,
    "start_time": "2024-06-19T17:33:52.923Z"
   },
   {
    "duration": 215,
    "start_time": "2024-06-19T17:33:54.193Z"
   },
   {
    "duration": 23,
    "start_time": "2024-06-19T17:33:54.410Z"
   },
   {
    "duration": 9,
    "start_time": "2024-06-19T17:33:54.435Z"
   },
   {
    "duration": 13,
    "start_time": "2024-06-19T17:33:54.466Z"
   },
   {
    "duration": 37,
    "start_time": "2024-06-19T17:33:54.481Z"
   },
   {
    "duration": 1016,
    "start_time": "2024-06-19T17:33:54.520Z"
   },
   {
    "duration": 61,
    "start_time": "2024-06-19T17:33:55.537Z"
   },
   {
    "duration": 101,
    "start_time": "2024-06-19T17:33:55.601Z"
   },
   {
    "duration": 128,
    "start_time": "2024-06-19T17:33:55.703Z"
   },
   {
    "duration": 59,
    "start_time": "2024-06-19T17:33:55.833Z"
   },
   {
    "duration": 4,
    "start_time": "2024-06-19T17:33:55.895Z"
   },
   {
    "duration": 94,
    "start_time": "2024-06-19T17:33:55.901Z"
   },
   {
    "duration": 47,
    "start_time": "2024-06-19T17:33:55.998Z"
   },
   {
    "duration": 29,
    "start_time": "2024-06-19T17:33:56.047Z"
   },
   {
    "duration": 29,
    "start_time": "2024-06-19T17:33:56.078Z"
   },
   {
    "duration": 222,
    "start_time": "2024-06-19T17:33:56.109Z"
   },
   {
    "duration": 755,
    "start_time": "2024-06-19T17:33:56.332Z"
   },
   {
    "duration": 759,
    "start_time": "2024-06-19T17:33:57.089Z"
   },
   {
    "duration": 78,
    "start_time": "2024-06-19T17:33:57.850Z"
   },
   {
    "duration": 51,
    "start_time": "2024-06-19T17:33:57.930Z"
   },
   {
    "duration": 136,
    "start_time": "2024-06-19T17:33:57.983Z"
   },
   {
    "duration": 25,
    "start_time": "2024-06-19T17:33:58.120Z"
   },
   {
    "duration": 72,
    "start_time": "2024-06-19T17:33:58.147Z"
   },
   {
    "duration": 12,
    "start_time": "2024-06-19T17:33:58.221Z"
   },
   {
    "duration": 191,
    "start_time": "2024-06-19T17:33:58.234Z"
   },
   {
    "duration": 11,
    "start_time": "2024-06-19T17:33:58.426Z"
   },
   {
    "duration": 8,
    "start_time": "2024-06-19T17:35:27.617Z"
   },
   {
    "duration": 10,
    "start_time": "2024-06-19T17:35:45.946Z"
   },
   {
    "duration": 6,
    "start_time": "2024-06-19T17:36:08.545Z"
   },
   {
    "duration": 12,
    "start_time": "2024-06-19T17:36:12.000Z"
   },
   {
    "duration": 139,
    "start_time": "2024-06-19T17:36:23.650Z"
   },
   {
    "duration": 129,
    "start_time": "2024-06-19T17:36:32.510Z"
   },
   {
    "duration": 10,
    "start_time": "2024-06-19T17:36:39.128Z"
   },
   {
    "duration": 12,
    "start_time": "2024-06-19T17:36:49.735Z"
   },
   {
    "duration": 6,
    "start_time": "2024-06-19T17:37:03.700Z"
   },
   {
    "duration": 15,
    "start_time": "2024-06-19T17:37:07.459Z"
   },
   {
    "duration": 6,
    "start_time": "2024-06-19T17:39:00.870Z"
   },
   {
    "duration": 12,
    "start_time": "2024-06-19T17:39:05.803Z"
   },
   {
    "duration": 13,
    "start_time": "2024-06-19T17:39:09.155Z"
   },
   {
    "duration": 13,
    "start_time": "2024-06-19T17:39:26.667Z"
   },
   {
    "duration": 12,
    "start_time": "2024-06-19T17:40:04.447Z"
   },
   {
    "duration": 1295,
    "start_time": "2024-06-19T17:40:12.106Z"
   },
   {
    "duration": 191,
    "start_time": "2024-06-19T17:40:13.403Z"
   },
   {
    "duration": 23,
    "start_time": "2024-06-19T17:40:13.595Z"
   },
   {
    "duration": 9,
    "start_time": "2024-06-19T17:40:13.620Z"
   },
   {
    "duration": 35,
    "start_time": "2024-06-19T17:40:13.631Z"
   },
   {
    "duration": 19,
    "start_time": "2024-06-19T17:40:13.667Z"
   },
   {
    "duration": 989,
    "start_time": "2024-06-19T17:40:13.688Z"
   },
   {
    "duration": 27,
    "start_time": "2024-06-19T17:40:14.679Z"
   },
   {
    "duration": 103,
    "start_time": "2024-06-19T17:40:14.708Z"
   },
   {
    "duration": 118,
    "start_time": "2024-06-19T17:40:14.813Z"
   },
   {
    "duration": 54,
    "start_time": "2024-06-19T17:40:14.932Z"
   },
   {
    "duration": 11,
    "start_time": "2024-06-19T17:40:14.988Z"
   },
   {
    "duration": 59,
    "start_time": "2024-06-19T17:40:15.001Z"
   },
   {
    "duration": 91,
    "start_time": "2024-06-19T17:40:15.063Z"
   },
   {
    "duration": 23,
    "start_time": "2024-06-19T17:40:15.156Z"
   },
   {
    "duration": 102,
    "start_time": "2024-06-19T17:40:15.181Z"
   },
   {
    "duration": 232,
    "start_time": "2024-06-19T17:40:15.285Z"
   },
   {
    "duration": 696,
    "start_time": "2024-06-19T17:40:15.519Z"
   },
   {
    "duration": 715,
    "start_time": "2024-06-19T17:40:16.216Z"
   },
   {
    "duration": 64,
    "start_time": "2024-06-19T17:40:16.933Z"
   },
   {
    "duration": 39,
    "start_time": "2024-06-19T17:40:16.999Z"
   },
   {
    "duration": 164,
    "start_time": "2024-06-19T17:40:17.040Z"
   },
   {
    "duration": 27,
    "start_time": "2024-06-19T17:40:17.206Z"
   },
   {
    "duration": 145,
    "start_time": "2024-06-19T17:40:17.235Z"
   },
   {
    "duration": 13,
    "start_time": "2024-06-19T17:40:17.381Z"
   },
   {
    "duration": 190,
    "start_time": "2024-06-19T17:40:17.396Z"
   },
   {
    "duration": 12,
    "start_time": "2024-06-19T17:40:17.588Z"
   },
   {
    "duration": 65,
    "start_time": "2024-06-19T17:44:31.357Z"
   },
   {
    "duration": 3,
    "start_time": "2024-06-19T17:44:41.998Z"
   },
   {
    "duration": 103,
    "start_time": "2024-06-19T17:44:50.371Z"
   },
   {
    "duration": 10,
    "start_time": "2024-06-19T17:45:02.024Z"
   },
   {
    "duration": 9,
    "start_time": "2024-06-19T17:45:16.312Z"
   },
   {
    "duration": 70,
    "start_time": "2024-06-19T17:45:38.548Z"
   },
   {
    "duration": 59,
    "start_time": "2024-06-19T17:46:02.431Z"
   },
   {
    "duration": 4,
    "start_time": "2024-06-19T17:46:42.054Z"
   },
   {
    "duration": 4,
    "start_time": "2024-06-19T17:46:59.354Z"
   },
   {
    "duration": 5,
    "start_time": "2024-06-19T17:47:15.903Z"
   },
   {
    "duration": 4,
    "start_time": "2024-06-19T17:47:25.897Z"
   },
   {
    "duration": 4,
    "start_time": "2024-06-19T17:47:33.475Z"
   },
   {
    "duration": 4,
    "start_time": "2024-06-19T17:47:37.703Z"
   },
   {
    "duration": 5,
    "start_time": "2024-06-19T17:47:41.657Z"
   },
   {
    "duration": 4,
    "start_time": "2024-06-19T17:47:44.779Z"
   },
   {
    "duration": 5,
    "start_time": "2024-06-19T17:48:16.388Z"
   },
   {
    "duration": 38,
    "start_time": "2024-06-19T18:16:28.514Z"
   },
   {
    "duration": 18,
    "start_time": "2024-06-19T19:05:46.938Z"
   },
   {
    "duration": 15,
    "start_time": "2024-06-19T19:08:27.620Z"
   },
   {
    "duration": 187,
    "start_time": "2024-06-19T19:09:15.908Z"
   },
   {
    "duration": 181,
    "start_time": "2024-06-19T19:09:22.572Z"
   },
   {
    "duration": 5,
    "start_time": "2024-06-19T19:09:26.405Z"
   },
   {
    "duration": 15,
    "start_time": "2024-06-19T19:16:33.945Z"
   },
   {
    "duration": 17,
    "start_time": "2024-06-19T19:16:38.000Z"
   },
   {
    "duration": 32,
    "start_time": "2024-06-19T19:16:51.780Z"
   },
   {
    "duration": 24,
    "start_time": "2024-06-19T19:16:57.621Z"
   },
   {
    "duration": 45,
    "start_time": "2024-06-19T19:17:44.345Z"
   },
   {
    "duration": 1088,
    "start_time": "2024-06-19T19:19:04.217Z"
   },
   {
    "duration": 9,
    "start_time": "2024-06-19T19:19:31.411Z"
   },
   {
    "duration": 1020,
    "start_time": "2024-06-19T19:19:35.978Z"
   },
   {
    "duration": 56,
    "start_time": "2024-06-19T19:21:06.965Z"
   },
   {
    "duration": 51,
    "start_time": "2024-06-19T19:21:30.780Z"
   },
   {
    "duration": 1076,
    "start_time": "2024-06-19T19:23:02.726Z"
   },
   {
    "duration": 6,
    "start_time": "2024-06-19T19:23:39.025Z"
   },
   {
    "duration": 58,
    "start_time": "2024-06-19T19:23:39.889Z"
   },
   {
    "duration": 15,
    "start_time": "2024-06-19T19:23:40.483Z"
   },
   {
    "duration": 5,
    "start_time": "2024-06-19T19:24:04.711Z"
   },
   {
    "duration": 56,
    "start_time": "2024-06-19T19:24:05.612Z"
   },
   {
    "duration": 12,
    "start_time": "2024-06-19T19:24:06.494Z"
   },
   {
    "duration": 5,
    "start_time": "2024-06-19T19:24:44.065Z"
   },
   {
    "duration": 63,
    "start_time": "2024-06-19T19:24:46.218Z"
   },
   {
    "duration": 30,
    "start_time": "2024-06-19T19:24:50.505Z"
   },
   {
    "duration": 11,
    "start_time": "2024-06-19T19:26:23.316Z"
   },
   {
    "duration": 12,
    "start_time": "2024-06-19T19:26:39.187Z"
   },
   {
    "duration": 28,
    "start_time": "2024-06-19T19:26:58.100Z"
   },
   {
    "duration": 13,
    "start_time": "2024-06-19T19:27:52.683Z"
   },
   {
    "duration": 48,
    "start_time": "2024-06-19T19:27:53.555Z"
   },
   {
    "duration": 33,
    "start_time": "2024-06-19T19:27:54.227Z"
   },
   {
    "duration": 39,
    "start_time": "2024-06-19T19:27:54.658Z"
   },
   {
    "duration": 37,
    "start_time": "2024-06-19T19:29:13.462Z"
   },
   {
    "duration": 33,
    "start_time": "2024-06-19T19:29:25.403Z"
   },
   {
    "duration": 13,
    "start_time": "2024-06-19T19:29:26.506Z"
   },
   {
    "duration": 10,
    "start_time": "2024-06-19T19:29:26.779Z"
   },
   {
    "duration": 13,
    "start_time": "2024-06-19T19:29:31.163Z"
   },
   {
    "duration": 31,
    "start_time": "2024-06-19T19:29:32.483Z"
   },
   {
    "duration": 6,
    "start_time": "2024-06-19T19:29:33.882Z"
   },
   {
    "duration": 32,
    "start_time": "2024-06-19T19:29:34.522Z"
   },
   {
    "duration": 12,
    "start_time": "2024-06-19T19:29:35.647Z"
   },
   {
    "duration": 46,
    "start_time": "2024-06-19T19:31:01.287Z"
   },
   {
    "duration": 35,
    "start_time": "2024-06-19T19:31:02.068Z"
   },
   {
    "duration": 1196,
    "start_time": "2024-06-19T19:31:44.256Z"
   },
   {
    "duration": 25,
    "start_time": "2024-06-19T19:31:52.375Z"
   },
   {
    "duration": 11,
    "start_time": "2024-06-19T19:33:23.840Z"
   },
   {
    "duration": 1224,
    "start_time": "2024-06-19T19:33:35.538Z"
   },
   {
    "duration": 221,
    "start_time": "2024-06-19T19:33:36.764Z"
   },
   {
    "duration": 33,
    "start_time": "2024-06-19T19:33:36.987Z"
   },
   {
    "duration": 9,
    "start_time": "2024-06-19T19:33:37.023Z"
   },
   {
    "duration": 31,
    "start_time": "2024-06-19T19:33:37.034Z"
   },
   {
    "duration": 24,
    "start_time": "2024-06-19T19:33:37.067Z"
   },
   {
    "duration": 969,
    "start_time": "2024-06-19T19:33:37.093Z"
   },
   {
    "duration": 29,
    "start_time": "2024-06-19T19:33:38.063Z"
   },
   {
    "duration": 110,
    "start_time": "2024-06-19T19:33:38.094Z"
   },
   {
    "duration": 123,
    "start_time": "2024-06-19T19:33:38.207Z"
   },
   {
    "duration": 38,
    "start_time": "2024-06-19T19:33:38.331Z"
   },
   {
    "duration": 4,
    "start_time": "2024-06-19T19:33:38.371Z"
   },
   {
    "duration": 22,
    "start_time": "2024-06-19T19:33:38.377Z"
   },
   {
    "duration": 73,
    "start_time": "2024-06-19T19:33:38.400Z"
   },
   {
    "duration": 23,
    "start_time": "2024-06-19T19:33:38.475Z"
   },
   {
    "duration": 30,
    "start_time": "2024-06-19T19:33:38.500Z"
   },
   {
    "duration": 222,
    "start_time": "2024-06-19T19:33:38.532Z"
   },
   {
    "duration": 685,
    "start_time": "2024-06-19T19:33:38.761Z"
   },
   {
    "duration": 671,
    "start_time": "2024-06-19T19:33:39.447Z"
   },
   {
    "duration": 63,
    "start_time": "2024-06-19T19:33:40.120Z"
   },
   {
    "duration": 42,
    "start_time": "2024-06-19T19:33:40.185Z"
   },
   {
    "duration": 148,
    "start_time": "2024-06-19T19:33:40.229Z"
   },
   {
    "duration": 28,
    "start_time": "2024-06-19T19:33:40.379Z"
   },
   {
    "duration": 90,
    "start_time": "2024-06-19T19:33:40.409Z"
   },
   {
    "duration": 15,
    "start_time": "2024-06-19T19:33:40.501Z"
   },
   {
    "duration": 189,
    "start_time": "2024-06-19T19:33:40.518Z"
   },
   {
    "duration": 12,
    "start_time": "2024-06-19T19:33:40.709Z"
   },
   {
    "duration": 31,
    "start_time": "2024-06-19T19:33:40.724Z"
   },
   {
    "duration": 40,
    "start_time": "2024-06-19T19:33:40.757Z"
   },
   {
    "duration": 6,
    "start_time": "2024-06-19T19:33:40.799Z"
   },
   {
    "duration": 62,
    "start_time": "2024-06-19T19:33:40.807Z"
   },
   {
    "duration": 145,
    "start_time": "2024-06-19T19:33:40.870Z"
   },
   {
    "duration": 0,
    "start_time": "2024-06-19T19:33:41.017Z"
   },
   {
    "duration": 7,
    "start_time": "2024-06-19T19:34:07.119Z"
   },
   {
    "duration": 68,
    "start_time": "2024-06-19T19:34:07.878Z"
   },
   {
    "duration": 34,
    "start_time": "2024-06-19T19:34:08.395Z"
   },
   {
    "duration": 3,
    "start_time": "2024-06-19T19:34:32.591Z"
   },
   {
    "duration": 1161,
    "start_time": "2024-06-19T19:34:37.683Z"
   },
   {
    "duration": 199,
    "start_time": "2024-06-19T19:34:38.846Z"
   },
   {
    "duration": 42,
    "start_time": "2024-06-19T19:34:39.048Z"
   },
   {
    "duration": 10,
    "start_time": "2024-06-19T19:34:39.093Z"
   },
   {
    "duration": 11,
    "start_time": "2024-06-19T19:34:39.105Z"
   },
   {
    "duration": 48,
    "start_time": "2024-06-19T19:34:39.118Z"
   },
   {
    "duration": 973,
    "start_time": "2024-06-19T19:34:39.168Z"
   },
   {
    "duration": 30,
    "start_time": "2024-06-19T19:34:40.143Z"
   },
   {
    "duration": 103,
    "start_time": "2024-06-19T19:34:40.175Z"
   },
   {
    "duration": 118,
    "start_time": "2024-06-19T19:34:40.280Z"
   },
   {
    "duration": 32,
    "start_time": "2024-06-19T19:34:40.399Z"
   },
   {
    "duration": 3,
    "start_time": "2024-06-19T19:34:40.433Z"
   },
   {
    "duration": 39,
    "start_time": "2024-06-19T19:34:40.437Z"
   },
   {
    "duration": 43,
    "start_time": "2024-06-19T19:34:40.478Z"
   },
   {
    "duration": 45,
    "start_time": "2024-06-19T19:34:40.522Z"
   },
   {
    "duration": 30,
    "start_time": "2024-06-19T19:34:40.569Z"
   },
   {
    "duration": 215,
    "start_time": "2024-06-19T19:34:40.601Z"
   },
   {
    "duration": 687,
    "start_time": "2024-06-19T19:34:40.817Z"
   },
   {
    "duration": 660,
    "start_time": "2024-06-19T19:34:41.506Z"
   },
   {
    "duration": 54,
    "start_time": "2024-06-19T19:34:42.168Z"
   },
   {
    "duration": 52,
    "start_time": "2024-06-19T19:34:42.224Z"
   },
   {
    "duration": 140,
    "start_time": "2024-06-19T19:34:42.277Z"
   },
   {
    "duration": 25,
    "start_time": "2024-06-19T19:34:42.419Z"
   },
   {
    "duration": 67,
    "start_time": "2024-06-19T19:34:42.446Z"
   },
   {
    "duration": 13,
    "start_time": "2024-06-19T19:34:42.514Z"
   },
   {
    "duration": 202,
    "start_time": "2024-06-19T19:34:42.528Z"
   },
   {
    "duration": 13,
    "start_time": "2024-06-19T19:34:42.732Z"
   },
   {
    "duration": 4,
    "start_time": "2024-06-19T19:34:42.763Z"
   },
   {
    "duration": 52,
    "start_time": "2024-06-19T19:34:42.769Z"
   },
   {
    "duration": 9,
    "start_time": "2024-06-19T19:34:42.822Z"
   },
   {
    "duration": 53,
    "start_time": "2024-06-19T19:34:42.833Z"
   },
   {
    "duration": 130,
    "start_time": "2024-06-19T19:34:42.888Z"
   },
   {
    "duration": 6,
    "start_time": "2024-06-19T19:35:10.754Z"
   },
   {
    "duration": 51,
    "start_time": "2024-06-19T19:35:11.341Z"
   },
   {
    "duration": 101,
    "start_time": "2024-06-19T19:35:11.738Z"
   },
   {
    "duration": 120,
    "start_time": "2024-06-19T19:49:27.916Z"
   },
   {
    "duration": 34,
    "start_time": "2024-06-19T19:49:48.350Z"
   },
   {
    "duration": 3,
    "start_time": "2024-06-19T19:51:09.702Z"
   },
   {
    "duration": 28,
    "start_time": "2024-06-19T19:52:03.575Z"
   },
   {
    "duration": 62,
    "start_time": "2024-06-19T19:52:33.041Z"
   },
   {
    "duration": 30,
    "start_time": "2024-06-19T19:53:02.623Z"
   },
   {
    "duration": 59,
    "start_time": "2024-06-19T19:53:09.395Z"
   },
   {
    "duration": 57,
    "start_time": "2024-06-19T19:53:24.302Z"
   },
   {
    "duration": 82,
    "start_time": "2024-06-19T20:01:19.793Z"
   },
   {
    "duration": 84,
    "start_time": "2024-06-19T20:01:29.880Z"
   },
   {
    "duration": 82,
    "start_time": "2024-06-19T20:06:21.120Z"
   },
   {
    "duration": 80,
    "start_time": "2024-06-19T20:12:59.519Z"
   },
   {
    "duration": 15,
    "start_time": "2024-06-19T20:13:43.344Z"
   },
   {
    "duration": 14,
    "start_time": "2024-06-19T20:14:05.081Z"
   },
   {
    "duration": 21,
    "start_time": "2024-06-19T20:14:11.901Z"
   },
   {
    "duration": 22,
    "start_time": "2024-06-19T20:14:23.095Z"
   },
   {
    "duration": 56,
    "start_time": "2024-06-19T20:14:42.582Z"
   },
   {
    "duration": 13,
    "start_time": "2024-06-19T20:14:47.156Z"
   },
   {
    "duration": 17,
    "start_time": "2024-06-19T20:14:52.184Z"
   },
   {
    "duration": 31,
    "start_time": "2024-06-19T20:15:12.348Z"
   },
   {
    "duration": 84,
    "start_time": "2024-06-19T20:18:02.327Z"
   },
   {
    "duration": 83,
    "start_time": "2024-06-19T20:23:46.463Z"
   },
   {
    "duration": 117,
    "start_time": "2024-06-19T20:25:55.583Z"
   },
   {
    "duration": 221,
    "start_time": "2024-06-19T20:26:14.656Z"
   },
   {
    "duration": 16,
    "start_time": "2024-06-19T20:27:23.707Z"
   },
   {
    "duration": 29,
    "start_time": "2024-06-19T20:27:42.521Z"
   },
   {
    "duration": 38,
    "start_time": "2024-06-19T20:27:51.896Z"
   },
   {
    "duration": 157,
    "start_time": "2024-06-19T20:28:08.947Z"
   },
   {
    "duration": 120,
    "start_time": "2024-06-19T20:30:01.843Z"
   },
   {
    "duration": 51,
    "start_time": "2024-06-19T21:26:26.513Z"
   },
   {
    "duration": 1289,
    "start_time": "2024-06-20T02:53:51.753Z"
   },
   {
    "duration": 756,
    "start_time": "2024-06-20T02:53:53.044Z"
   },
   {
    "duration": 18,
    "start_time": "2024-06-20T02:53:53.802Z"
   },
   {
    "duration": 7,
    "start_time": "2024-06-20T02:53:53.822Z"
   },
   {
    "duration": 13,
    "start_time": "2024-06-20T02:53:53.830Z"
   },
   {
    "duration": 34,
    "start_time": "2024-06-20T02:53:53.844Z"
   },
   {
    "duration": 960,
    "start_time": "2024-06-20T02:53:53.879Z"
   },
   {
    "duration": 19,
    "start_time": "2024-06-20T02:53:54.840Z"
   },
   {
    "duration": 79,
    "start_time": "2024-06-20T02:53:54.871Z"
   },
   {
    "duration": 100,
    "start_time": "2024-06-20T02:53:54.953Z"
   },
   {
    "duration": 27,
    "start_time": "2024-06-20T02:53:55.054Z"
   },
   {
    "duration": 3,
    "start_time": "2024-06-20T02:53:55.082Z"
   },
   {
    "duration": 18,
    "start_time": "2024-06-20T02:53:55.087Z"
   },
   {
    "duration": 40,
    "start_time": "2024-06-20T02:53:55.107Z"
   },
   {
    "duration": 39,
    "start_time": "2024-06-20T02:53:55.149Z"
   },
   {
    "duration": 22,
    "start_time": "2024-06-20T02:53:55.189Z"
   },
   {
    "duration": 187,
    "start_time": "2024-06-20T02:53:55.212Z"
   },
   {
    "duration": 450,
    "start_time": "2024-06-20T02:53:55.401Z"
   },
   {
    "duration": 518,
    "start_time": "2024-06-20T02:53:55.853Z"
   },
   {
    "duration": 36,
    "start_time": "2024-06-20T02:53:56.373Z"
   },
   {
    "duration": 26,
    "start_time": "2024-06-20T02:53:56.410Z"
   },
   {
    "duration": 110,
    "start_time": "2024-06-20T02:53:56.437Z"
   },
   {
    "duration": 26,
    "start_time": "2024-06-20T02:53:56.548Z"
   },
   {
    "duration": 47,
    "start_time": "2024-06-20T02:53:56.575Z"
   },
   {
    "duration": 9,
    "start_time": "2024-06-20T02:53:56.624Z"
   },
   {
    "duration": 163,
    "start_time": "2024-06-20T02:53:56.634Z"
   },
   {
    "duration": 9,
    "start_time": "2024-06-20T02:53:56.799Z"
   },
   {
    "duration": 4,
    "start_time": "2024-06-20T02:53:56.811Z"
   },
   {
    "duration": 33,
    "start_time": "2024-06-20T02:53:56.816Z"
   },
   {
    "duration": 35,
    "start_time": "2024-06-20T02:53:56.850Z"
   },
   {
    "duration": 47,
    "start_time": "2024-06-20T02:53:56.886Z"
   },
   {
    "duration": 5,
    "start_time": "2024-06-20T02:53:56.935Z"
   },
   {
    "duration": 52,
    "start_time": "2024-06-20T02:53:56.941Z"
   },
   {
    "duration": 60,
    "start_time": "2024-06-20T02:53:56.994Z"
   },
   {
    "duration": 23,
    "start_time": "2024-06-20T02:53:57.072Z"
   },
   {
    "duration": 88,
    "start_time": "2024-06-20T02:53:57.096Z"
   },
   {
    "duration": 62,
    "start_time": "2024-06-20T02:53:57.186Z"
   },
   {
    "duration": 37,
    "start_time": "2024-06-20T02:53:57.249Z"
   },
   {
    "duration": 101,
    "start_time": "2024-06-20T02:53:57.287Z"
   },
   {
    "duration": 96,
    "start_time": "2024-06-20T03:02:30.080Z"
   },
   {
    "duration": 1422,
    "start_time": "2024-06-20T16:36:46.562Z"
   },
   {
    "duration": 349,
    "start_time": "2024-06-20T16:36:47.986Z"
   },
   {
    "duration": 25,
    "start_time": "2024-06-20T16:36:48.337Z"
   },
   {
    "duration": 9,
    "start_time": "2024-06-20T16:36:48.364Z"
   },
   {
    "duration": 12,
    "start_time": "2024-06-20T16:36:48.375Z"
   },
   {
    "duration": 26,
    "start_time": "2024-06-20T16:36:48.389Z"
   },
   {
    "duration": 997,
    "start_time": "2024-06-20T16:36:48.417Z"
   },
   {
    "duration": 29,
    "start_time": "2024-06-20T16:36:49.416Z"
   },
   {
    "duration": 115,
    "start_time": "2024-06-20T16:36:49.447Z"
   },
   {
    "duration": 120,
    "start_time": "2024-06-20T16:36:49.564Z"
   },
   {
    "duration": 32,
    "start_time": "2024-06-20T16:36:49.686Z"
   },
   {
    "duration": 5,
    "start_time": "2024-06-20T16:36:49.720Z"
   },
   {
    "duration": 44,
    "start_time": "2024-06-20T16:36:49.726Z"
   },
   {
    "duration": 46,
    "start_time": "2024-06-20T16:36:49.773Z"
   },
   {
    "duration": 47,
    "start_time": "2024-06-20T16:36:49.821Z"
   },
   {
    "duration": 41,
    "start_time": "2024-06-20T16:36:49.870Z"
   },
   {
    "duration": 237,
    "start_time": "2024-06-20T16:36:49.913Z"
   },
   {
    "duration": 708,
    "start_time": "2024-06-20T16:36:50.153Z"
   },
   {
    "duration": 714,
    "start_time": "2024-06-20T16:36:50.863Z"
   },
   {
    "duration": 57,
    "start_time": "2024-06-20T16:36:51.579Z"
   },
   {
    "duration": 56,
    "start_time": "2024-06-20T16:36:51.638Z"
   },
   {
    "duration": 147,
    "start_time": "2024-06-20T16:36:51.695Z"
   },
   {
    "duration": 36,
    "start_time": "2024-06-20T16:36:51.844Z"
   },
   {
    "duration": 81,
    "start_time": "2024-06-20T16:36:51.882Z"
   },
   {
    "duration": 14,
    "start_time": "2024-06-20T16:36:51.964Z"
   },
   {
    "duration": 223,
    "start_time": "2024-06-20T16:36:51.980Z"
   },
   {
    "duration": 13,
    "start_time": "2024-06-20T16:36:52.204Z"
   },
   {
    "duration": 7,
    "start_time": "2024-06-20T16:36:52.219Z"
   },
   {
    "duration": 58,
    "start_time": "2024-06-20T16:36:52.227Z"
   },
   {
    "duration": 26,
    "start_time": "2024-06-20T16:36:52.287Z"
   },
   {
    "duration": 75,
    "start_time": "2024-06-20T16:36:52.315Z"
   },
   {
    "duration": 6,
    "start_time": "2024-06-20T16:36:52.392Z"
   },
   {
    "duration": 63,
    "start_time": "2024-06-20T16:36:52.400Z"
   },
   {
    "duration": 99,
    "start_time": "2024-06-20T16:36:52.465Z"
   },
   {
    "duration": 27,
    "start_time": "2024-06-20T16:36:52.566Z"
   },
   {
    "duration": 109,
    "start_time": "2024-06-20T16:36:52.595Z"
   },
   {
    "duration": 98,
    "start_time": "2024-06-20T16:36:52.706Z"
   },
   {
    "duration": 25,
    "start_time": "2024-06-20T16:36:52.805Z"
   },
   {
    "duration": 167,
    "start_time": "2024-06-20T16:36:52.832Z"
   },
   {
    "duration": 118,
    "start_time": "2024-06-20T16:38:31.944Z"
   },
   {
    "duration": 645,
    "start_time": "2024-06-20T16:39:25.791Z"
   },
   {
    "duration": 631,
    "start_time": "2024-06-20T16:39:35.494Z"
   },
   {
    "duration": 542,
    "start_time": "2024-06-20T16:39:47.637Z"
   },
   {
    "duration": 683,
    "start_time": "2024-06-20T16:39:54.074Z"
   },
   {
    "duration": 133,
    "start_time": "2024-06-20T16:40:56.702Z"
   },
   {
    "duration": 141,
    "start_time": "2024-06-20T16:41:06.594Z"
   },
   {
    "duration": 322,
    "start_time": "2024-06-20T16:41:13.585Z"
   },
   {
    "duration": 134,
    "start_time": "2024-06-20T16:41:16.848Z"
   },
   {
    "duration": 106,
    "start_time": "2024-06-20T16:41:49.479Z"
   },
   {
    "duration": 88,
    "start_time": "2024-06-20T16:41:53.157Z"
   },
   {
    "duration": 14,
    "start_time": "2024-06-20T16:41:58.741Z"
   },
   {
    "duration": 5,
    "start_time": "2024-06-20T16:42:01.003Z"
   },
   {
    "duration": 1251,
    "start_time": "2024-06-20T16:43:13.394Z"
   },
   {
    "duration": 204,
    "start_time": "2024-06-20T16:43:14.647Z"
   },
   {
    "duration": 37,
    "start_time": "2024-06-20T16:43:15.199Z"
   },
   {
    "duration": 9,
    "start_time": "2024-06-20T16:43:16.385Z"
   },
   {
    "duration": 9,
    "start_time": "2024-06-20T16:43:16.577Z"
   },
   {
    "duration": 20,
    "start_time": "2024-06-20T16:43:19.015Z"
   },
   {
    "duration": 1074,
    "start_time": "2024-06-20T16:43:19.767Z"
   },
   {
    "duration": 34,
    "start_time": "2024-06-20T16:43:20.843Z"
   },
   {
    "duration": 92,
    "start_time": "2024-06-20T16:43:22.832Z"
   },
   {
    "duration": 110,
    "start_time": "2024-06-20T16:43:27.218Z"
   },
   {
    "duration": 96,
    "start_time": "2024-06-20T16:43:39.753Z"
   },
   {
    "duration": 60,
    "start_time": "2024-06-20T16:44:34.817Z"
   },
   {
    "duration": 102,
    "start_time": "2024-06-20T16:44:37.089Z"
   },
   {
    "duration": 98,
    "start_time": "2024-06-20T16:44:42.754Z"
   },
   {
    "duration": 97,
    "start_time": "2024-06-20T16:47:13.287Z"
   },
   {
    "duration": 127,
    "start_time": "2024-06-20T16:47:14.340Z"
   },
   {
    "duration": 33,
    "start_time": "2024-06-20T16:47:14.710Z"
   },
   {
    "duration": 5,
    "start_time": "2024-06-20T16:47:15.395Z"
   },
   {
    "duration": 21,
    "start_time": "2024-06-20T16:47:17.281Z"
   },
   {
    "duration": 1149,
    "start_time": "2024-06-20T16:47:32.505Z"
   },
   {
    "duration": 5,
    "start_time": "2024-06-20T16:47:37.413Z"
   },
   {
    "duration": 66,
    "start_time": "2024-06-20T16:47:58.136Z"
   },
   {
    "duration": 61,
    "start_time": "2024-06-20T16:48:16.435Z"
   },
   {
    "duration": 7,
    "start_time": "2024-06-20T16:48:36.629Z"
   },
   {
    "duration": 44,
    "start_time": "2024-06-20T16:48:37.447Z"
   },
   {
    "duration": 23,
    "start_time": "2024-06-20T16:48:46.843Z"
   },
   {
    "duration": 31,
    "start_time": "2024-06-20T16:48:50.857Z"
   },
   {
    "duration": 206,
    "start_time": "2024-06-20T16:48:51.524Z"
   },
   {
    "duration": 729,
    "start_time": "2024-06-20T16:48:56.234Z"
   },
   {
    "duration": 657,
    "start_time": "2024-06-20T16:48:59.092Z"
   },
   {
    "duration": 58,
    "start_time": "2024-06-20T16:49:20.754Z"
   },
   {
    "duration": 649,
    "start_time": "2024-06-20T16:49:59.773Z"
   },
   {
    "duration": 56,
    "start_time": "2024-06-20T16:50:08.682Z"
   },
   {
    "duration": 35,
    "start_time": "2024-06-20T16:50:41.583Z"
   },
   {
    "duration": 1187,
    "start_time": "2024-06-20T16:52:46.355Z"
   },
   {
    "duration": 19,
    "start_time": "2024-06-20T16:52:51.311Z"
   },
   {
    "duration": 53,
    "start_time": "2024-06-20T16:53:28.816Z"
   },
   {
    "duration": 7,
    "start_time": "2024-06-20T16:53:39.269Z"
   },
   {
    "duration": 0,
    "start_time": "2024-06-20T16:53:39.278Z"
   },
   {
    "duration": 10,
    "start_time": "2024-06-20T16:53:39.282Z"
   },
   {
    "duration": 0,
    "start_time": "2024-06-20T16:53:39.294Z"
   },
   {
    "duration": 0,
    "start_time": "2024-06-20T16:53:39.296Z"
   },
   {
    "duration": 0,
    "start_time": "2024-06-20T16:53:39.298Z"
   },
   {
    "duration": 0,
    "start_time": "2024-06-20T16:53:39.299Z"
   },
   {
    "duration": 0,
    "start_time": "2024-06-20T16:53:39.301Z"
   },
   {
    "duration": 0,
    "start_time": "2024-06-20T16:53:39.302Z"
   },
   {
    "duration": 0,
    "start_time": "2024-06-20T16:53:39.304Z"
   },
   {
    "duration": 0,
    "start_time": "2024-06-20T16:53:39.305Z"
   },
   {
    "duration": 0,
    "start_time": "2024-06-20T16:53:39.307Z"
   },
   {
    "duration": 0,
    "start_time": "2024-06-20T16:53:39.308Z"
   },
   {
    "duration": 56,
    "start_time": "2024-06-20T16:53:39.312Z"
   },
   {
    "duration": 0,
    "start_time": "2024-06-20T16:53:39.370Z"
   },
   {
    "duration": 0,
    "start_time": "2024-06-20T16:53:39.371Z"
   },
   {
    "duration": 0,
    "start_time": "2024-06-20T16:53:39.373Z"
   },
   {
    "duration": 0,
    "start_time": "2024-06-20T16:53:39.374Z"
   },
   {
    "duration": 0,
    "start_time": "2024-06-20T16:53:39.376Z"
   },
   {
    "duration": 0,
    "start_time": "2024-06-20T16:53:39.378Z"
   },
   {
    "duration": 1348,
    "start_time": "2024-06-20T16:54:06.830Z"
   },
   {
    "duration": 247,
    "start_time": "2024-06-20T16:54:08.180Z"
   },
   {
    "duration": 46,
    "start_time": "2024-06-20T16:54:08.429Z"
   },
   {
    "duration": 8,
    "start_time": "2024-06-20T16:54:09.806Z"
   },
   {
    "duration": 12,
    "start_time": "2024-06-20T16:54:09.973Z"
   },
   {
    "duration": 28,
    "start_time": "2024-06-20T16:54:10.318Z"
   },
   {
    "duration": 1070,
    "start_time": "2024-06-20T16:54:11.783Z"
   },
   {
    "duration": 30,
    "start_time": "2024-06-20T16:54:12.860Z"
   },
   {
    "duration": 98,
    "start_time": "2024-06-20T16:54:33.691Z"
   },
   {
    "duration": 105,
    "start_time": "2024-06-20T16:54:33.923Z"
   },
   {
    "duration": 113,
    "start_time": "2024-06-20T16:54:35.971Z"
   },
   {
    "duration": 34,
    "start_time": "2024-06-20T16:54:36.294Z"
   },
   {
    "duration": 4,
    "start_time": "2024-06-20T16:54:37.220Z"
   },
   {
    "duration": 21,
    "start_time": "2024-06-20T16:54:38.624Z"
   },
   {
    "duration": 6,
    "start_time": "2024-06-20T16:54:38.906Z"
   },
   {
    "duration": 47,
    "start_time": "2024-06-20T16:54:39.538Z"
   },
   {
    "duration": 39,
    "start_time": "2024-06-20T16:54:41.815Z"
   },
   {
    "duration": 30,
    "start_time": "2024-06-20T16:54:44.625Z"
   },
   {
    "duration": 207,
    "start_time": "2024-06-20T16:54:46.327Z"
   },
   {
    "duration": 734,
    "start_time": "2024-06-20T16:54:47.828Z"
   },
   {
    "duration": 658,
    "start_time": "2024-06-20T16:54:48.760Z"
   },
   {
    "duration": 58,
    "start_time": "2024-06-20T16:54:51.399Z"
   },
   {
    "duration": 20,
    "start_time": "2024-06-20T16:54:52.880Z"
   },
   {
    "duration": 47,
    "start_time": "2024-06-20T16:56:39.656Z"
   },
   {
    "duration": 68,
    "start_time": "2024-06-20T16:58:45.386Z"
   },
   {
    "duration": 44,
    "start_time": "2024-06-20T16:58:49.629Z"
   },
   {
    "duration": 66,
    "start_time": "2024-06-20T16:59:13.055Z"
   },
   {
    "duration": 44,
    "start_time": "2024-06-20T16:59:17.746Z"
   },
   {
    "duration": 46,
    "start_time": "2024-06-20T16:59:27.377Z"
   },
   {
    "duration": 89,
    "start_time": "2024-06-20T17:01:16.126Z"
   },
   {
    "duration": 61,
    "start_time": "2024-06-20T17:01:29.220Z"
   },
   {
    "duration": 54,
    "start_time": "2024-06-20T21:25:54.449Z"
   },
   {
    "duration": 1475,
    "start_time": "2024-06-20T21:26:06.473Z"
   },
   {
    "duration": 315,
    "start_time": "2024-06-20T21:26:07.950Z"
   },
   {
    "duration": 27,
    "start_time": "2024-06-20T21:26:08.267Z"
   },
   {
    "duration": 10,
    "start_time": "2024-06-20T21:26:08.296Z"
   },
   {
    "duration": 36,
    "start_time": "2024-06-20T21:26:08.308Z"
   },
   {
    "duration": 36,
    "start_time": "2024-06-20T21:26:08.346Z"
   },
   {
    "duration": 1055,
    "start_time": "2024-06-20T21:26:08.456Z"
   },
   {
    "duration": 29,
    "start_time": "2024-06-20T21:26:09.513Z"
   },
   {
    "duration": 104,
    "start_time": "2024-06-20T21:26:09.544Z"
   },
   {
    "duration": 97,
    "start_time": "2024-06-20T21:26:09.651Z"
   },
   {
    "duration": 118,
    "start_time": "2024-06-20T21:26:10.397Z"
   },
   {
    "duration": 44,
    "start_time": "2024-06-20T21:26:10.592Z"
   },
   {
    "duration": 4,
    "start_time": "2024-06-20T21:26:10.774Z"
   },
   {
    "duration": 21,
    "start_time": "2024-06-20T21:26:11.127Z"
   },
   {
    "duration": 6,
    "start_time": "2024-06-20T21:26:11.604Z"
   },
   {
    "duration": 46,
    "start_time": "2024-06-20T21:26:12.384Z"
   },
   {
    "duration": 23,
    "start_time": "2024-06-20T21:26:13.748Z"
   },
   {
    "duration": 31,
    "start_time": "2024-06-20T21:26:14.621Z"
   },
   {
    "duration": 203,
    "start_time": "2024-06-20T21:26:14.857Z"
   },
   {
    "duration": 718,
    "start_time": "2024-06-20T21:26:15.918Z"
   },
   {
    "duration": 753,
    "start_time": "2024-06-20T21:26:16.894Z"
   },
   {
    "duration": 56,
    "start_time": "2024-06-20T21:26:25.474Z"
   },
   {
    "duration": 18,
    "start_time": "2024-06-20T21:26:29.331Z"
   },
   {
    "duration": 21,
    "start_time": "2024-06-20T21:26:32.835Z"
   },
   {
    "duration": 18,
    "start_time": "2024-06-20T21:26:49.694Z"
   },
   {
    "duration": 19,
    "start_time": "2024-06-20T21:26:52.412Z"
   },
   {
    "duration": 33,
    "start_time": "2024-06-20T21:27:10.110Z"
   },
   {
    "duration": 64,
    "start_time": "2024-06-20T21:36:26.107Z"
   },
   {
    "duration": 61,
    "start_time": "2024-06-20T21:36:31.867Z"
   },
   {
    "duration": 33,
    "start_time": "2024-06-20T21:36:34.163Z"
   },
   {
    "duration": 34,
    "start_time": "2024-06-20T21:36:37.437Z"
   },
   {
    "duration": 107,
    "start_time": "2024-06-20T21:41:32.986Z"
   },
   {
    "duration": 72,
    "start_time": "2024-06-20T21:41:52.603Z"
   },
   {
    "duration": 11,
    "start_time": "2024-06-20T21:41:58.767Z"
   },
   {
    "duration": 11,
    "start_time": "2024-06-20T21:42:08.255Z"
   },
   {
    "duration": 182,
    "start_time": "2024-06-20T21:43:01.095Z"
   },
   {
    "duration": 44,
    "start_time": "2024-06-20T21:44:14.687Z"
   },
   {
    "duration": 46,
    "start_time": "2024-06-20T21:44:33.751Z"
   },
   {
    "duration": 42,
    "start_time": "2024-06-20T21:44:44.407Z"
   },
   {
    "duration": 63,
    "start_time": "2024-06-20T21:45:33.884Z"
   },
   {
    "duration": 32,
    "start_time": "2024-06-20T21:52:47.092Z"
   },
   {
    "duration": 19,
    "start_time": "2024-06-20T21:52:57.685Z"
   },
   {
    "duration": 19,
    "start_time": "2024-06-20T21:53:04.282Z"
   },
   {
    "duration": 51,
    "start_time": "2024-06-20T21:53:04.508Z"
   },
   {
    "duration": 44,
    "start_time": "2024-06-20T21:53:06.715Z"
   },
   {
    "duration": 60,
    "start_time": "2024-06-20T21:53:43.458Z"
   },
   {
    "duration": 62,
    "start_time": "2024-06-20T21:53:46.349Z"
   },
   {
    "duration": 56,
    "start_time": "2024-06-20T21:53:48.857Z"
   },
   {
    "duration": 113,
    "start_time": "2024-06-20T21:53:58.606Z"
   },
   {
    "duration": 64,
    "start_time": "2024-06-20T21:54:02.284Z"
   },
   {
    "duration": 60,
    "start_time": "2024-06-20T21:54:10.737Z"
   },
   {
    "duration": 50,
    "start_time": "2024-06-20T21:54:24.760Z"
   },
   {
    "duration": 62,
    "start_time": "2024-06-20T21:55:49.207Z"
   },
   {
    "duration": 1349,
    "start_time": "2024-06-20T21:55:58.929Z"
   },
   {
    "duration": 204,
    "start_time": "2024-06-20T21:56:00.280Z"
   },
   {
    "duration": 25,
    "start_time": "2024-06-20T21:56:00.486Z"
   },
   {
    "duration": 9,
    "start_time": "2024-06-20T21:56:00.777Z"
   },
   {
    "duration": 127,
    "start_time": "2024-06-20T21:56:00.788Z"
   },
   {
    "duration": 59,
    "start_time": "2024-06-20T21:56:00.917Z"
   },
   {
    "duration": 1064,
    "start_time": "2024-06-20T21:56:01.003Z"
   },
   {
    "duration": 33,
    "start_time": "2024-06-20T21:56:02.070Z"
   },
   {
    "duration": 110,
    "start_time": "2024-06-20T21:56:02.105Z"
   },
   {
    "duration": 104,
    "start_time": "2024-06-20T21:56:02.217Z"
   },
   {
    "duration": 124,
    "start_time": "2024-06-20T21:56:02.323Z"
   },
   {
    "duration": 40,
    "start_time": "2024-06-20T21:56:02.449Z"
   },
   {
    "duration": 4,
    "start_time": "2024-06-20T21:56:02.562Z"
   },
   {
    "duration": 22,
    "start_time": "2024-06-20T21:56:03.473Z"
   },
   {
    "duration": 6,
    "start_time": "2024-06-20T21:56:03.969Z"
   },
   {
    "duration": 46,
    "start_time": "2024-06-20T21:56:04.604Z"
   },
   {
    "duration": 40,
    "start_time": "2024-06-20T21:56:06.513Z"
   },
   {
    "duration": 33,
    "start_time": "2024-06-20T21:56:07.578Z"
   },
   {
    "duration": 215,
    "start_time": "2024-06-20T21:56:07.761Z"
   },
   {
    "duration": 718,
    "start_time": "2024-06-20T21:56:09.578Z"
   },
   {
    "duration": 762,
    "start_time": "2024-06-20T21:56:10.298Z"
   },
   {
    "duration": 60,
    "start_time": "2024-06-20T21:56:11.531Z"
   },
   {
    "duration": 20,
    "start_time": "2024-06-20T21:56:15.144Z"
   },
   {
    "duration": 49,
    "start_time": "2024-06-20T21:56:16.891Z"
   },
   {
    "duration": 60,
    "start_time": "2024-06-20T21:56:24.300Z"
   },
   {
    "duration": 21,
    "start_time": "2024-06-20T22:01:26.987Z"
   },
   {
    "duration": 17,
    "start_time": "2024-06-20T22:01:34.724Z"
   },
   {
    "duration": 128,
    "start_time": "2024-06-20T22:04:23.563Z"
   },
   {
    "duration": 54,
    "start_time": "2024-06-20T22:04:28.646Z"
   },
   {
    "duration": 55,
    "start_time": "2024-06-20T22:05:09.180Z"
   },
   {
    "duration": 49,
    "start_time": "2024-06-20T22:06:27.217Z"
   },
   {
    "duration": 1082,
    "start_time": "2024-06-20T22:06:47.774Z"
   },
   {
    "duration": 28,
    "start_time": "2024-06-20T22:07:01.924Z"
   },
   {
    "duration": 23,
    "start_time": "2024-06-20T22:07:19.399Z"
   },
   {
    "duration": 17,
    "start_time": "2024-06-20T22:07:19.653Z"
   },
   {
    "duration": 55,
    "start_time": "2024-06-20T22:07:21.688Z"
   },
   {
    "duration": 139,
    "start_time": "2024-06-20T22:07:37.729Z"
   },
   {
    "duration": 133,
    "start_time": "2024-06-20T22:08:20.836Z"
   },
   {
    "duration": 132,
    "start_time": "2024-06-20T22:10:06.070Z"
   },
   {
    "duration": 161,
    "start_time": "2024-06-20T22:11:08.991Z"
   },
   {
    "duration": 133,
    "start_time": "2024-06-20T22:11:16.298Z"
   },
   {
    "duration": 197,
    "start_time": "2024-06-20T22:14:10.825Z"
   },
   {
    "duration": 67,
    "start_time": "2024-06-20T22:14:39.649Z"
   },
   {
    "duration": 47,
    "start_time": "2024-06-20T22:14:43.583Z"
   },
   {
    "duration": 136,
    "start_time": "2024-06-20T22:14:45.511Z"
   },
   {
    "duration": 121,
    "start_time": "2024-06-20T22:14:54.925Z"
   },
   {
    "duration": 171,
    "start_time": "2024-06-20T22:15:19.829Z"
   },
   {
    "duration": 134,
    "start_time": "2024-06-20T22:15:30.193Z"
   },
   {
    "duration": 132,
    "start_time": "2024-06-20T22:15:45.616Z"
   },
   {
    "duration": 60,
    "start_time": "2024-06-20T22:16:22.525Z"
   },
   {
    "duration": 47,
    "start_time": "2024-06-20T22:21:49.383Z"
   },
   {
    "duration": 48,
    "start_time": "2024-06-20T22:22:02.808Z"
   },
   {
    "duration": 57,
    "start_time": "2024-06-20T22:22:04.174Z"
   },
   {
    "duration": 48,
    "start_time": "2024-06-20T22:22:18.320Z"
   },
   {
    "duration": 45,
    "start_time": "2024-06-20T22:22:35.217Z"
   },
   {
    "duration": 48,
    "start_time": "2024-06-20T22:24:51.023Z"
   },
   {
    "duration": 59,
    "start_time": "2024-06-20T22:24:58.760Z"
   },
   {
    "duration": 47,
    "start_time": "2024-06-20T22:25:05.635Z"
   },
   {
    "duration": 46,
    "start_time": "2024-06-20T22:25:11.972Z"
   },
   {
    "duration": 41,
    "start_time": "2024-06-20T22:25:24.614Z"
   },
   {
    "duration": 44,
    "start_time": "2024-06-20T22:25:31.757Z"
   },
   {
    "duration": 52,
    "start_time": "2024-06-20T22:25:47.375Z"
   },
   {
    "duration": 1239,
    "start_time": "2024-06-20T22:26:13.183Z"
   },
   {
    "duration": 207,
    "start_time": "2024-06-20T22:26:14.424Z"
   },
   {
    "duration": 33,
    "start_time": "2024-06-20T22:26:14.633Z"
   },
   {
    "duration": 9,
    "start_time": "2024-06-20T22:26:14.668Z"
   },
   {
    "duration": 12,
    "start_time": "2024-06-20T22:26:14.680Z"
   },
   {
    "duration": 25,
    "start_time": "2024-06-20T22:26:14.694Z"
   },
   {
    "duration": 1060,
    "start_time": "2024-06-20T22:26:14.721Z"
   },
   {
    "duration": 30,
    "start_time": "2024-06-20T22:26:15.783Z"
   },
   {
    "duration": 120,
    "start_time": "2024-06-20T22:26:15.815Z"
   },
   {
    "duration": 111,
    "start_time": "2024-06-20T22:26:15.937Z"
   },
   {
    "duration": 138,
    "start_time": "2024-06-20T22:26:16.050Z"
   },
   {
    "duration": 33,
    "start_time": "2024-06-20T22:26:16.190Z"
   },
   {
    "duration": 4,
    "start_time": "2024-06-20T22:26:16.225Z"
   },
   {
    "duration": 43,
    "start_time": "2024-06-20T22:26:16.231Z"
   },
   {
    "duration": 6,
    "start_time": "2024-06-20T22:26:16.276Z"
   },
   {
    "duration": 47,
    "start_time": "2024-06-20T22:26:16.283Z"
   },
   {
    "duration": 48,
    "start_time": "2024-06-20T22:26:16.332Z"
   },
   {
    "duration": 30,
    "start_time": "2024-06-20T22:26:16.382Z"
   },
   {
    "duration": 221,
    "start_time": "2024-06-20T22:26:16.414Z"
   },
   {
    "duration": 744,
    "start_time": "2024-06-20T22:26:16.637Z"
   },
   {
    "duration": 730,
    "start_time": "2024-06-20T22:26:17.383Z"
   },
   {
    "duration": 62,
    "start_time": "2024-06-20T22:26:18.115Z"
   },
   {
    "duration": 19,
    "start_time": "2024-06-20T22:26:18.178Z"
   },
   {
    "duration": 2658,
    "start_time": "2024-06-20T22:27:46.752Z"
   },
   {
    "duration": 2684,
    "start_time": "2024-06-20T22:27:55.180Z"
   },
   {
    "duration": 2618,
    "start_time": "2024-06-20T22:28:06.387Z"
   },
   {
    "duration": 2598,
    "start_time": "2024-06-20T22:28:14.269Z"
   },
   {
    "duration": 4,
    "start_time": "2024-06-20T22:28:29.298Z"
   },
   {
    "duration": 173,
    "start_time": "2024-06-20T22:28:43.358Z"
   },
   {
    "duration": 2529,
    "start_time": "2024-06-20T22:28:54.564Z"
   },
   {
    "duration": 2688,
    "start_time": "2024-06-20T22:29:25.120Z"
   },
   {
    "duration": 10,
    "start_time": "2024-06-20T22:29:27.810Z"
   },
   {
    "duration": 26,
    "start_time": "2024-06-20T22:29:44.107Z"
   },
   {
    "duration": 32,
    "start_time": "2024-06-20T22:30:00.971Z"
   },
   {
    "duration": 2626,
    "start_time": "2024-06-20T22:30:07.530Z"
   },
   {
    "duration": 19,
    "start_time": "2024-06-20T22:30:10.160Z"
   },
   {
    "duration": 60,
    "start_time": "2024-06-20T22:30:10.181Z"
   },
   {
    "duration": 21,
    "start_time": "2024-06-20T22:32:06.766Z"
   },
   {
    "duration": 75,
    "start_time": "2024-06-20T22:32:08.230Z"
   },
   {
    "duration": 127,
    "start_time": "2024-06-20T22:33:15.198Z"
   },
   {
    "duration": 141,
    "start_time": "2024-06-20T22:33:47.548Z"
   },
   {
    "duration": 28,
    "start_time": "2024-06-20T22:33:57.207Z"
   },
   {
    "duration": 62,
    "start_time": "2024-06-20T22:33:58.635Z"
   },
   {
    "duration": 13,
    "start_time": "2024-06-20T22:33:59.241Z"
   },
   {
    "duration": 207,
    "start_time": "2024-06-20T22:34:02.234Z"
   },
   {
    "duration": 17,
    "start_time": "2024-06-20T22:34:07.960Z"
   },
   {
    "duration": 5,
    "start_time": "2024-06-20T22:34:11.272Z"
   },
   {
    "duration": 50,
    "start_time": "2024-06-20T22:34:13.775Z"
   },
   {
    "duration": 35,
    "start_time": "2024-06-20T22:34:14.837Z"
   },
   {
    "duration": 70,
    "start_time": "2024-06-20T22:34:15.124Z"
   },
   {
    "duration": 9,
    "start_time": "2024-06-20T22:34:17.868Z"
   },
   {
    "duration": 59,
    "start_time": "2024-06-20T22:34:20.819Z"
   },
   {
    "duration": 94,
    "start_time": "2024-06-20T22:37:09.779Z"
   },
   {
    "duration": 29,
    "start_time": "2024-06-20T22:37:16.096Z"
   },
   {
    "duration": 86,
    "start_time": "2024-06-20T22:37:21.233Z"
   },
   {
    "duration": 84,
    "start_time": "2024-06-20T22:37:23.255Z"
   },
   {
    "duration": 39,
    "start_time": "2024-06-20T22:37:25.008Z"
   },
   {
    "duration": 139,
    "start_time": "2024-06-20T22:37:25.651Z"
   },
   {
    "duration": 101,
    "start_time": "2024-06-20T22:46:40.846Z"
   },
   {
    "duration": 29,
    "start_time": "2024-06-20T22:46:44.360Z"
   },
   {
    "duration": 87,
    "start_time": "2024-06-20T22:46:44.969Z"
   },
   {
    "duration": 88,
    "start_time": "2024-06-20T22:46:46.063Z"
   },
   {
    "duration": 29,
    "start_time": "2024-06-20T22:46:46.928Z"
   },
   {
    "duration": 131,
    "start_time": "2024-06-20T22:46:47.298Z"
   },
   {
    "duration": 5,
    "start_time": "2024-06-20T23:22:41.391Z"
   },
   {
    "duration": 5,
    "start_time": "2024-06-20T23:22:49.006Z"
   },
   {
    "duration": 5,
    "start_time": "2024-06-20T23:22:57.680Z"
   },
   {
    "duration": 99,
    "start_time": "2024-06-20T23:23:05.977Z"
   },
   {
    "duration": 5,
    "start_time": "2024-06-20T23:23:09.574Z"
   },
   {
    "duration": 5,
    "start_time": "2024-06-20T23:23:25.413Z"
   },
   {
    "duration": 66,
    "start_time": "2024-06-20T23:24:39.078Z"
   },
   {
    "duration": 63,
    "start_time": "2024-06-20T23:24:46.807Z"
   },
   {
    "duration": 4,
    "start_time": "2024-06-20T23:24:50.785Z"
   },
   {
    "duration": 5,
    "start_time": "2024-06-20T23:25:01.702Z"
   },
   {
    "duration": 4,
    "start_time": "2024-06-20T23:25:08.495Z"
   },
   {
    "duration": 4,
    "start_time": "2024-06-20T23:27:45.235Z"
   },
   {
    "duration": 4,
    "start_time": "2024-06-20T23:27:56.073Z"
   },
   {
    "duration": 4,
    "start_time": "2024-06-20T23:28:06.656Z"
   },
   {
    "duration": 4,
    "start_time": "2024-06-20T23:28:55.776Z"
   },
   {
    "duration": 4,
    "start_time": "2024-06-20T23:30:51.681Z"
   },
   {
    "duration": 5,
    "start_time": "2024-06-20T23:30:52.360Z"
   },
   {
    "duration": 4,
    "start_time": "2024-06-20T23:33:21.600Z"
   },
   {
    "duration": 3,
    "start_time": "2024-06-20T23:33:55.755Z"
   },
   {
    "duration": 4,
    "start_time": "2024-06-20T23:34:09.310Z"
   },
   {
    "duration": 3,
    "start_time": "2024-06-20T23:34:13.317Z"
   },
   {
    "duration": 5,
    "start_time": "2024-06-20T23:35:00.707Z"
   },
   {
    "duration": 5,
    "start_time": "2024-06-20T23:35:09.856Z"
   },
   {
    "duration": 3,
    "start_time": "2024-06-20T23:35:56.842Z"
   },
   {
    "duration": 4,
    "start_time": "2024-06-20T23:36:16.914Z"
   },
   {
    "duration": 4,
    "start_time": "2024-06-20T23:36:25.041Z"
   },
   {
    "duration": 61,
    "start_time": "2024-06-20T23:40:59.717Z"
   },
   {
    "duration": 4,
    "start_time": "2024-06-20T23:41:16.636Z"
   },
   {
    "duration": 4,
    "start_time": "2024-06-20T23:41:20.056Z"
   },
   {
    "duration": 71,
    "start_time": "2024-06-20T23:41:31.055Z"
   },
   {
    "duration": 4,
    "start_time": "2024-06-20T23:41:44.757Z"
   },
   {
    "duration": 5,
    "start_time": "2024-06-20T23:41:57.382Z"
   },
   {
    "duration": 3,
    "start_time": "2024-06-20T23:42:10.375Z"
   },
   {
    "duration": 4,
    "start_time": "2024-06-20T23:42:20.250Z"
   },
   {
    "duration": 101,
    "start_time": "2024-06-20T23:42:46.298Z"
   },
   {
    "duration": 4,
    "start_time": "2024-06-20T23:51:32.306Z"
   },
   {
    "duration": 119,
    "start_time": "2024-06-20T23:52:33.269Z"
   },
   {
    "duration": 111,
    "start_time": "2024-06-20T23:53:54.913Z"
   },
   {
    "duration": 151,
    "start_time": "2024-06-20T23:53:58.140Z"
   },
   {
    "duration": 84,
    "start_time": "2024-06-20T23:54:58.149Z"
   },
   {
    "duration": 82,
    "start_time": "2024-06-20T23:56:49.867Z"
   },
   {
    "duration": 1319,
    "start_time": "2024-06-20T23:57:30.846Z"
   },
   {
    "duration": 219,
    "start_time": "2024-06-20T23:57:32.167Z"
   },
   {
    "duration": 26,
    "start_time": "2024-06-20T23:57:32.387Z"
   },
   {
    "duration": 10,
    "start_time": "2024-06-20T23:57:32.415Z"
   },
   {
    "duration": 35,
    "start_time": "2024-06-20T23:57:32.427Z"
   },
   {
    "duration": 27,
    "start_time": "2024-06-20T23:57:32.464Z"
   },
   {
    "duration": 1068,
    "start_time": "2024-06-20T23:57:32.493Z"
   },
   {
    "duration": 30,
    "start_time": "2024-06-20T23:57:33.562Z"
   },
   {
    "duration": 112,
    "start_time": "2024-06-20T23:57:33.594Z"
   },
   {
    "duration": 108,
    "start_time": "2024-06-20T23:57:33.709Z"
   },
   {
    "duration": 129,
    "start_time": "2024-06-20T23:57:33.818Z"
   },
   {
    "duration": 38,
    "start_time": "2024-06-20T23:57:33.949Z"
   },
   {
    "duration": 11,
    "start_time": "2024-06-20T23:57:33.989Z"
   },
   {
    "duration": 40,
    "start_time": "2024-06-20T23:57:34.002Z"
   },
   {
    "duration": 8,
    "start_time": "2024-06-20T23:57:34.060Z"
   },
   {
    "duration": 61,
    "start_time": "2024-06-20T23:57:34.071Z"
   },
   {
    "duration": 47,
    "start_time": "2024-06-20T23:57:34.134Z"
   },
   {
    "duration": 31,
    "start_time": "2024-06-20T23:57:34.183Z"
   },
   {
    "duration": 246,
    "start_time": "2024-06-20T23:57:34.215Z"
   },
   {
    "duration": 707,
    "start_time": "2024-06-20T23:57:34.463Z"
   },
   {
    "duration": 705,
    "start_time": "2024-06-20T23:57:35.172Z"
   },
   {
    "duration": 57,
    "start_time": "2024-06-20T23:57:35.878Z"
   },
   {
    "duration": 35,
    "start_time": "2024-06-20T23:57:35.937Z"
   },
   {
    "duration": 2658,
    "start_time": "2024-06-20T23:57:35.973Z"
   },
   {
    "duration": 28,
    "start_time": "2024-06-20T23:57:38.633Z"
   },
   {
    "duration": 56,
    "start_time": "2024-06-20T23:57:38.663Z"
   },
   {
    "duration": 159,
    "start_time": "2024-06-20T23:57:38.721Z"
   },
   {
    "duration": 44,
    "start_time": "2024-06-20T23:57:38.887Z"
   },
   {
    "duration": 77,
    "start_time": "2024-06-20T23:57:38.933Z"
   },
   {
    "duration": 18,
    "start_time": "2024-06-20T23:57:39.012Z"
   },
   {
    "duration": 208,
    "start_time": "2024-06-20T23:57:39.031Z"
   },
   {
    "duration": 21,
    "start_time": "2024-06-20T23:57:39.241Z"
   },
   {
    "duration": 5,
    "start_time": "2024-06-20T23:57:39.263Z"
   },
   {
    "duration": 37,
    "start_time": "2024-06-20T23:57:39.270Z"
   },
   {
    "duration": 54,
    "start_time": "2024-06-20T23:57:39.309Z"
   },
   {
    "duration": 71,
    "start_time": "2024-06-20T23:57:39.365Z"
   },
   {
    "duration": 22,
    "start_time": "2024-06-20T23:57:39.439Z"
   },
   {
    "duration": 51,
    "start_time": "2024-06-20T23:57:39.463Z"
   },
   {
    "duration": 111,
    "start_time": "2024-06-20T23:57:39.516Z"
   },
   {
    "duration": 40,
    "start_time": "2024-06-20T23:57:39.628Z"
   },
   {
    "duration": 119,
    "start_time": "2024-06-20T23:57:39.669Z"
   },
   {
    "duration": 112,
    "start_time": "2024-06-20T23:57:39.791Z"
   },
   {
    "duration": 30,
    "start_time": "2024-06-20T23:57:39.906Z"
   },
   {
    "duration": 163,
    "start_time": "2024-06-20T23:57:39.938Z"
   },
   {
    "duration": 3,
    "start_time": "2024-06-20T23:57:40.103Z"
   },
   {
    "duration": 11,
    "start_time": "2024-06-20T23:57:40.107Z"
   },
   {
    "duration": 5,
    "start_time": "2024-06-20T23:57:40.120Z"
   },
   {
    "duration": 93,
    "start_time": "2024-06-20T23:58:01.181Z"
   },
   {
    "duration": 111,
    "start_time": "2024-06-20T23:58:04.228Z"
   },
   {
    "duration": 1334,
    "start_time": "2024-06-21T00:00:23.689Z"
   },
   {
    "duration": 205,
    "start_time": "2024-06-21T00:00:25.025Z"
   },
   {
    "duration": 37,
    "start_time": "2024-06-21T00:00:25.232Z"
   },
   {
    "duration": 9,
    "start_time": "2024-06-21T00:00:25.271Z"
   },
   {
    "duration": 45,
    "start_time": "2024-06-21T00:00:25.281Z"
   },
   {
    "duration": 68,
    "start_time": "2024-06-21T00:00:25.328Z"
   },
   {
    "duration": 1123,
    "start_time": "2024-06-21T00:00:25.398Z"
   },
   {
    "duration": 41,
    "start_time": "2024-06-21T00:00:26.523Z"
   },
   {
    "duration": 129,
    "start_time": "2024-06-21T00:00:26.565Z"
   },
   {
    "duration": 105,
    "start_time": "2024-06-21T00:00:26.696Z"
   },
   {
    "duration": 127,
    "start_time": "2024-06-21T00:00:26.802Z"
   },
   {
    "duration": 45,
    "start_time": "2024-06-21T00:00:26.931Z"
   },
   {
    "duration": 29,
    "start_time": "2024-06-21T00:00:26.978Z"
   },
   {
    "duration": 79,
    "start_time": "2024-06-21T00:00:27.009Z"
   },
   {
    "duration": 19,
    "start_time": "2024-06-21T00:00:27.090Z"
   },
   {
    "duration": 68,
    "start_time": "2024-06-21T00:00:27.111Z"
   },
   {
    "duration": 47,
    "start_time": "2024-06-21T00:00:27.180Z"
   },
   {
    "duration": 47,
    "start_time": "2024-06-21T00:00:27.229Z"
   },
   {
    "duration": 227,
    "start_time": "2024-06-21T00:00:27.279Z"
   },
   {
    "duration": 742,
    "start_time": "2024-06-21T00:00:27.508Z"
   },
   {
    "duration": 679,
    "start_time": "2024-06-21T00:00:28.251Z"
   },
   {
    "duration": 68,
    "start_time": "2024-06-21T00:00:28.932Z"
   },
   {
    "duration": 19,
    "start_time": "2024-06-21T00:00:29.002Z"
   },
   {
    "duration": 2863,
    "start_time": "2024-06-21T00:00:29.023Z"
   },
   {
    "duration": 31,
    "start_time": "2024-06-21T00:00:31.888Z"
   },
   {
    "duration": 105,
    "start_time": "2024-06-21T00:00:31.922Z"
   },
   {
    "duration": 157,
    "start_time": "2024-06-21T00:00:32.029Z"
   },
   {
    "duration": 28,
    "start_time": "2024-06-21T00:00:32.190Z"
   },
   {
    "duration": 83,
    "start_time": "2024-06-21T00:00:32.220Z"
   },
   {
    "duration": 51,
    "start_time": "2024-06-21T00:00:32.305Z"
   },
   {
    "duration": 200,
    "start_time": "2024-06-21T00:00:32.358Z"
   },
   {
    "duration": 13,
    "start_time": "2024-06-21T00:00:32.560Z"
   },
   {
    "duration": 21,
    "start_time": "2024-06-21T00:00:32.576Z"
   },
   {
    "duration": 55,
    "start_time": "2024-06-21T00:00:32.599Z"
   },
   {
    "duration": 29,
    "start_time": "2024-06-21T00:00:32.656Z"
   },
   {
    "duration": 74,
    "start_time": "2024-06-21T00:00:32.687Z"
   },
   {
    "duration": 10,
    "start_time": "2024-06-21T00:00:32.762Z"
   },
   {
    "duration": 72,
    "start_time": "2024-06-21T00:00:32.774Z"
   },
   {
    "duration": 127,
    "start_time": "2024-06-21T00:00:32.848Z"
   },
   {
    "duration": 31,
    "start_time": "2024-06-21T00:00:32.978Z"
   },
   {
    "duration": 112,
    "start_time": "2024-06-21T00:00:33.011Z"
   },
   {
    "duration": 115,
    "start_time": "2024-06-21T00:00:33.125Z"
   },
   {
    "duration": 42,
    "start_time": "2024-06-21T00:00:33.246Z"
   },
   {
    "duration": 176,
    "start_time": "2024-06-21T00:00:33.291Z"
   },
   {
    "duration": 4,
    "start_time": "2024-06-21T00:00:33.469Z"
   },
   {
    "duration": 19,
    "start_time": "2024-06-21T00:00:33.475Z"
   },
   {
    "duration": 26,
    "start_time": "2024-06-21T00:00:33.496Z"
   },
   {
    "duration": 992,
    "start_time": "2024-06-21T03:14:27.046Z"
   },
   {
    "duration": 150,
    "start_time": "2024-06-21T03:14:28.040Z"
   },
   {
    "duration": 18,
    "start_time": "2024-06-21T03:14:28.191Z"
   },
   {
    "duration": 76,
    "start_time": "2024-06-21T03:14:28.211Z"
   },
   {
    "duration": 49,
    "start_time": "2024-06-21T03:14:28.288Z"
   },
   {
    "duration": 40,
    "start_time": "2024-06-21T03:14:28.338Z"
   },
   {
    "duration": 838,
    "start_time": "2024-06-21T03:14:28.379Z"
   },
   {
    "duration": 19,
    "start_time": "2024-06-21T03:14:29.218Z"
   },
   {
    "duration": 105,
    "start_time": "2024-06-21T03:14:29.239Z"
   },
   {
    "duration": 83,
    "start_time": "2024-06-21T03:14:29.346Z"
   },
   {
    "duration": 97,
    "start_time": "2024-06-21T03:14:29.430Z"
   },
   {
    "duration": 22,
    "start_time": "2024-06-21T03:14:29.528Z"
   },
   {
    "duration": 6,
    "start_time": "2024-06-21T03:14:29.551Z"
   },
   {
    "duration": 22,
    "start_time": "2024-06-21T03:14:29.558Z"
   },
   {
    "duration": 4,
    "start_time": "2024-06-21T03:14:29.581Z"
   },
   {
    "duration": 49,
    "start_time": "2024-06-21T03:14:29.586Z"
   },
   {
    "duration": 18,
    "start_time": "2024-06-21T03:14:29.637Z"
   },
   {
    "duration": 19,
    "start_time": "2024-06-21T03:14:29.656Z"
   },
   {
    "duration": 161,
    "start_time": "2024-06-21T03:14:29.676Z"
   },
   {
    "duration": 461,
    "start_time": "2024-06-21T03:14:29.839Z"
   },
   {
    "duration": 501,
    "start_time": "2024-06-21T03:14:30.302Z"
   },
   {
    "duration": 33,
    "start_time": "2024-06-21T03:14:30.805Z"
   },
   {
    "duration": 92,
    "start_time": "2024-06-21T03:14:30.840Z"
   },
   {
    "duration": 2097,
    "start_time": "2024-06-21T03:14:30.933Z"
   },
   {
    "duration": 15,
    "start_time": "2024-06-21T03:14:33.031Z"
   },
   {
    "duration": 42,
    "start_time": "2024-06-21T03:14:33.047Z"
   },
   {
    "duration": 126,
    "start_time": "2024-06-21T03:14:33.091Z"
   },
   {
    "duration": 25,
    "start_time": "2024-06-21T03:14:33.221Z"
   },
   {
    "duration": 84,
    "start_time": "2024-06-21T03:14:33.247Z"
   },
   {
    "duration": 10,
    "start_time": "2024-06-21T03:14:33.332Z"
   },
   {
    "duration": 152,
    "start_time": "2024-06-21T03:14:33.344Z"
   },
   {
    "duration": 13,
    "start_time": "2024-06-21T03:14:33.497Z"
   },
   {
    "duration": 9,
    "start_time": "2024-06-21T03:14:33.512Z"
   },
   {
    "duration": 28,
    "start_time": "2024-06-21T03:14:33.523Z"
   },
   {
    "duration": 21,
    "start_time": "2024-06-21T03:14:33.553Z"
   },
   {
    "duration": 65,
    "start_time": "2024-06-21T03:14:33.575Z"
   },
   {
    "duration": 5,
    "start_time": "2024-06-21T03:14:33.642Z"
   },
   {
    "duration": 52,
    "start_time": "2024-06-21T03:14:33.649Z"
   },
   {
    "duration": 61,
    "start_time": "2024-06-21T03:14:33.703Z"
   },
   {
    "duration": 38,
    "start_time": "2024-06-21T03:14:33.766Z"
   },
   {
    "duration": 61,
    "start_time": "2024-06-21T03:14:33.806Z"
   },
   {
    "duration": 90,
    "start_time": "2024-06-21T03:14:33.868Z"
   },
   {
    "duration": 20,
    "start_time": "2024-06-21T03:14:33.959Z"
   },
   {
    "duration": 103,
    "start_time": "2024-06-21T03:14:33.980Z"
   },
   {
    "duration": 3,
    "start_time": "2024-06-21T03:14:34.084Z"
   },
   {
    "duration": 39,
    "start_time": "2024-06-21T03:14:34.102Z"
   },
   {
    "duration": 16,
    "start_time": "2024-06-21T03:14:34.142Z"
   }
  ],
  "kernelspec": {
   "display_name": "Python 3 (ipykernel)",
   "language": "python",
   "name": "python3"
  },
  "language_info": {
   "codemirror_mode": {
    "name": "ipython",
    "version": 3
   },
   "file_extension": ".py",
   "mimetype": "text/x-python",
   "name": "python",
   "nbconvert_exporter": "python",
   "pygments_lexer": "ipython3",
   "version": "3.11.7"
  },
  "toc": {
   "base_numbering": 1,
   "nav_menu": {},
   "number_sections": true,
   "sideBar": true,
   "skip_h1_title": true,
   "title_cell": "Table of Contents",
   "title_sidebar": "Contents",
   "toc_cell": false,
   "toc_position": {},
   "toc_section_display": true,
   "toc_window_display": false
  }
 },
 "nbformat": 4,
 "nbformat_minor": 4
}
